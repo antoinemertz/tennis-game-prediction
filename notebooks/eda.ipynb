{
 "cells": [
  {
   "cell_type": "markdown",
   "metadata": {},
   "source": [
    "# <font color=\"orange\">CONTEXT</font>"
   ]
  },
  {
   "cell_type": "markdown",
   "metadata": {},
   "source": [
    "<font color=\"grey-black\">Le but de cet exercice est d'étudier des données de matches de tennis. Le but est de prédire le gagnant d'un match de tennis avec les données disponibles. Il est demandé de faire cet exercice dans une limite de temps de 8 heures.</font>\n",
    "\n",
    "<font color=\"grey-black\">Ce notebook commence par une section <b>SETUP</b> où j'importe les packages Python utilisés dans la suite de ce notebook (data viz, machine learning, manipulation de la données, ...). La partie suivante est la partie où je charge les données avec `pandas` puis construis un dictionnaire de données pour rappeler le contexte et les données disponibles pour l'exercice (voir les données sur Kaggle)[https://www.kaggle.com/sijovm/atpdata].</font>\n",
    "\n",
    "<font color=\"grey-black\">Ensuite, je nettoie rapidement les données aberrantes, trie le jeu de données par date. C'est le premier nettoyage de données.</font>\n",
    "\n",
    "<font color=\"grey-black\">Après ce premier nettoyage rapide, je commence l'exploration des données. J'ai décidé de mener cette exploration sans imputer les valeurs manquantes dans le jeu de données pour ne pas polluer le jeu de donnéees et avoir des conclusions fausses au regard de la modification des distributions changées par l'imputation des données manquantes.</font>\n",
    "\n",
    "<font color=\"grey-black\">Enfin, je me lance dans la modélisation et la prédiction du vainqueur d'un match. J'ai développé un premier modèle \"baseline\" pour faire un banchmark des autres modèles plus sophistiqués. Au final, dans la limite de temps imposé, je n'ai eu le temps de développé qu'un seul autre modèle, sans faire de feature engineering ou presque.</font>\n",
    "\n",
    "<font color=\"grey-black\">Parce que l'exercice est limité dans le temps, en guise de conclusion, je reviens sur les performances des modèles et laisse une liste de choses qui peuvent être faites pour améliorer la connaissance des données disponibles et la performance du meilleur modèle de prédiction.</font>"
   ]
  },
  {
   "cell_type": "markdown",
   "metadata": {},
   "source": [
    "# <font color=\"orange\">SETUP</font>"
   ]
  },
  {
   "cell_type": "code",
   "execution_count": 1,
   "metadata": {},
   "outputs": [
    {
     "name": "stdout",
     "output_type": "stream",
     "text": [
      "WARN: OMP_NUM_THREADS=None =>\n",
      "... If you are using openblas if you are using openblas set OMP_NUM_THREADS=1 or risk subprocess calls hanging indefinitely\n"
     ]
    }
   ],
   "source": [
    "# pour la manipulation de donnees\n",
    "import pandas as pd\n",
    "from dfply import * # package permettant d'utiliser la syntaxe de package R dplyr\n",
    "\n",
    "pd.set_option('display.max_columns', None)\n",
    "pd.set_option('display.max_rows', 200)\n",
    "\n",
    "import numpy as np # pour le calcul matriciel\n",
    "\n",
    "# fonctions utiles pour le developpement de modeles ML\n",
    "from sklearn.model_selection import train_test_split\n",
    "from sklearn.preprocessing import LabelEncoder, MinMaxScaler\n",
    "from sklearn.pipeline import Pipeline\n",
    "from sklearn.compose import ColumnTransformer\n",
    "from sklearn.impute import SimpleImputer\n",
    "from sklearn.ensemble import RandomForestClassifier\n",
    "from hpsklearn import HyperoptEstimator, any_classifier, any_preprocessing\n",
    "from hyperopt import tpe\n",
    "\n",
    "from scipy.stats import shapiro, ttest_rel # test de normalite et t-test paire\n",
    "\n",
    "# data viz\n",
    "from plotnine import *\n",
    "import seaborn as sns\n",
    "import matplotlib.pyplot as plt"
   ]
  },
  {
   "cell_type": "markdown",
   "metadata": {},
   "source": [
    "# <font color=\"orange\">LOAD DATA</font>"
   ]
  },
  {
   "cell_type": "code",
   "execution_count": 2,
   "metadata": {},
   "outputs": [],
   "source": [
    "df = pd.read_csv(\"../data/ATP.csv\")"
   ]
  },
  {
   "cell_type": "code",
   "execution_count": 3,
   "metadata": {},
   "outputs": [
    {
     "data": {
      "text/plain": [
       "(169690, 49)"
      ]
     },
     "execution_count": 3,
     "metadata": {},
     "output_type": "execute_result"
    }
   ],
   "source": [
    "df.shape"
   ]
  },
  {
   "cell_type": "markdown",
   "metadata": {},
   "source": [
    "<font color=\"grey-black\">Le jeu de données a 169690 lignes et 49 colonnes.</font>"
   ]
  },
  {
   "cell_type": "code",
   "execution_count": 4,
   "metadata": {},
   "outputs": [
    {
     "data": {
      "text/html": [
       "<div>\n",
       "<style scoped>\n",
       "    .dataframe tbody tr th:only-of-type {\n",
       "        vertical-align: middle;\n",
       "    }\n",
       "\n",
       "    .dataframe tbody tr th {\n",
       "        vertical-align: top;\n",
       "    }\n",
       "\n",
       "    .dataframe thead th {\n",
       "        text-align: right;\n",
       "    }\n",
       "</style>\n",
       "<table border=\"1\" class=\"dataframe\">\n",
       "  <thead>\n",
       "    <tr style=\"text-align: right;\">\n",
       "      <th></th>\n",
       "      <th>best_of</th>\n",
       "      <th>draw_size</th>\n",
       "      <th>l_1stIn</th>\n",
       "      <th>l_1stWon</th>\n",
       "      <th>l_2ndWon</th>\n",
       "      <th>l_SvGms</th>\n",
       "      <th>l_ace</th>\n",
       "      <th>l_bpFaced</th>\n",
       "      <th>l_bpSaved</th>\n",
       "      <th>l_df</th>\n",
       "      <th>l_svpt</th>\n",
       "      <th>loser_age</th>\n",
       "      <th>loser_entry</th>\n",
       "      <th>loser_hand</th>\n",
       "      <th>loser_ht</th>\n",
       "      <th>loser_id</th>\n",
       "      <th>loser_ioc</th>\n",
       "      <th>loser_name</th>\n",
       "      <th>loser_rank</th>\n",
       "      <th>loser_rank_points</th>\n",
       "      <th>loser_seed</th>\n",
       "      <th>match_num</th>\n",
       "      <th>minutes</th>\n",
       "      <th>round</th>\n",
       "      <th>score</th>\n",
       "      <th>surface</th>\n",
       "      <th>tourney_date</th>\n",
       "      <th>tourney_id</th>\n",
       "      <th>tourney_level</th>\n",
       "      <th>tourney_name</th>\n",
       "      <th>w_1stIn</th>\n",
       "      <th>w_1stWon</th>\n",
       "      <th>w_2ndWon</th>\n",
       "      <th>w_SvGms</th>\n",
       "      <th>w_ace</th>\n",
       "      <th>w_bpFaced</th>\n",
       "      <th>w_bpSaved</th>\n",
       "      <th>w_df</th>\n",
       "      <th>w_svpt</th>\n",
       "      <th>winner_age</th>\n",
       "      <th>winner_entry</th>\n",
       "      <th>winner_hand</th>\n",
       "      <th>winner_ht</th>\n",
       "      <th>winner_id</th>\n",
       "      <th>winner_ioc</th>\n",
       "      <th>winner_name</th>\n",
       "      <th>winner_rank</th>\n",
       "      <th>winner_rank_points</th>\n",
       "      <th>winner_seed</th>\n",
       "    </tr>\n",
       "  </thead>\n",
       "  <tbody>\n",
       "    <tr>\n",
       "      <th>0</th>\n",
       "      <td>5</td>\n",
       "      <td>64.0</td>\n",
       "      <td>NaN</td>\n",
       "      <td>NaN</td>\n",
       "      <td>NaN</td>\n",
       "      <td>NaN</td>\n",
       "      <td>NaN</td>\n",
       "      <td>NaN</td>\n",
       "      <td>NaN</td>\n",
       "      <td>NaN</td>\n",
       "      <td>NaN</td>\n",
       "      <td>NaN</td>\n",
       "      <td>NaN</td>\n",
       "      <td>R</td>\n",
       "      <td>NaN</td>\n",
       "      <td>107760</td>\n",
       "      <td>AUS</td>\n",
       "      <td>Max Senior</td>\n",
       "      <td>NaN</td>\n",
       "      <td>NaN</td>\n",
       "      <td>NaN</td>\n",
       "      <td>1</td>\n",
       "      <td>NaN</td>\n",
       "      <td>R64</td>\n",
       "      <td>12-10 7-5 4-6 7-5</td>\n",
       "      <td>Grass</td>\n",
       "      <td>19680119</td>\n",
       "      <td>1968-580</td>\n",
       "      <td>G</td>\n",
       "      <td>Australian Chps.</td>\n",
       "      <td>NaN</td>\n",
       "      <td>NaN</td>\n",
       "      <td>NaN</td>\n",
       "      <td>NaN</td>\n",
       "      <td>NaN</td>\n",
       "      <td>NaN</td>\n",
       "      <td>NaN</td>\n",
       "      <td>NaN</td>\n",
       "      <td>NaN</td>\n",
       "      <td>NaN</td>\n",
       "      <td>NaN</td>\n",
       "      <td>R</td>\n",
       "      <td>NaN</td>\n",
       "      <td>110023</td>\n",
       "      <td>AUS</td>\n",
       "      <td>Richard Coulthard</td>\n",
       "      <td>NaN</td>\n",
       "      <td>NaN</td>\n",
       "      <td>NaN</td>\n",
       "    </tr>\n",
       "    <tr>\n",
       "      <th>1</th>\n",
       "      <td>5</td>\n",
       "      <td>64.0</td>\n",
       "      <td>NaN</td>\n",
       "      <td>NaN</td>\n",
       "      <td>NaN</td>\n",
       "      <td>NaN</td>\n",
       "      <td>NaN</td>\n",
       "      <td>NaN</td>\n",
       "      <td>NaN</td>\n",
       "      <td>NaN</td>\n",
       "      <td>NaN</td>\n",
       "      <td>NaN</td>\n",
       "      <td>NaN</td>\n",
       "      <td>R</td>\n",
       "      <td>NaN</td>\n",
       "      <td>106964</td>\n",
       "      <td>AUS</td>\n",
       "      <td>Ernie Mccabe</td>\n",
       "      <td>NaN</td>\n",
       "      <td>NaN</td>\n",
       "      <td>NaN</td>\n",
       "      <td>2</td>\n",
       "      <td>NaN</td>\n",
       "      <td>R64</td>\n",
       "      <td>6-3 6-2 6-4</td>\n",
       "      <td>Grass</td>\n",
       "      <td>19680119</td>\n",
       "      <td>1968-580</td>\n",
       "      <td>G</td>\n",
       "      <td>Australian Chps.</td>\n",
       "      <td>NaN</td>\n",
       "      <td>NaN</td>\n",
       "      <td>NaN</td>\n",
       "      <td>NaN</td>\n",
       "      <td>NaN</td>\n",
       "      <td>NaN</td>\n",
       "      <td>NaN</td>\n",
       "      <td>NaN</td>\n",
       "      <td>NaN</td>\n",
       "      <td>27.520876</td>\n",
       "      <td>NaN</td>\n",
       "      <td>R</td>\n",
       "      <td>NaN</td>\n",
       "      <td>109803</td>\n",
       "      <td>AUS</td>\n",
       "      <td>John Brown</td>\n",
       "      <td>NaN</td>\n",
       "      <td>NaN</td>\n",
       "      <td>NaN</td>\n",
       "    </tr>\n",
       "    <tr>\n",
       "      <th>2</th>\n",
       "      <td>5</td>\n",
       "      <td>64.0</td>\n",
       "      <td>NaN</td>\n",
       "      <td>NaN</td>\n",
       "      <td>NaN</td>\n",
       "      <td>NaN</td>\n",
       "      <td>NaN</td>\n",
       "      <td>NaN</td>\n",
       "      <td>NaN</td>\n",
       "      <td>NaN</td>\n",
       "      <td>NaN</td>\n",
       "      <td>NaN</td>\n",
       "      <td>NaN</td>\n",
       "      <td>R</td>\n",
       "      <td>NaN</td>\n",
       "      <td>110024</td>\n",
       "      <td>INA</td>\n",
       "      <td>Gondo Widjojo</td>\n",
       "      <td>NaN</td>\n",
       "      <td>NaN</td>\n",
       "      <td>15.0</td>\n",
       "      <td>3</td>\n",
       "      <td>NaN</td>\n",
       "      <td>R64</td>\n",
       "      <td>6-4 3-6 6-3 7-5</td>\n",
       "      <td>Grass</td>\n",
       "      <td>19680119</td>\n",
       "      <td>1968-580</td>\n",
       "      <td>G</td>\n",
       "      <td>Australian Chps.</td>\n",
       "      <td>NaN</td>\n",
       "      <td>NaN</td>\n",
       "      <td>NaN</td>\n",
       "      <td>NaN</td>\n",
       "      <td>NaN</td>\n",
       "      <td>NaN</td>\n",
       "      <td>NaN</td>\n",
       "      <td>NaN</td>\n",
       "      <td>NaN</td>\n",
       "      <td>16.216290</td>\n",
       "      <td>NaN</td>\n",
       "      <td>R</td>\n",
       "      <td>NaN</td>\n",
       "      <td>100257</td>\n",
       "      <td>AUS</td>\n",
       "      <td>Ross Case</td>\n",
       "      <td>NaN</td>\n",
       "      <td>NaN</td>\n",
       "      <td>NaN</td>\n",
       "    </tr>\n",
       "    <tr>\n",
       "      <th>3</th>\n",
       "      <td>5</td>\n",
       "      <td>64.0</td>\n",
       "      <td>NaN</td>\n",
       "      <td>NaN</td>\n",
       "      <td>NaN</td>\n",
       "      <td>NaN</td>\n",
       "      <td>NaN</td>\n",
       "      <td>NaN</td>\n",
       "      <td>NaN</td>\n",
       "      <td>NaN</td>\n",
       "      <td>NaN</td>\n",
       "      <td>NaN</td>\n",
       "      <td>NaN</td>\n",
       "      <td>R</td>\n",
       "      <td>NaN</td>\n",
       "      <td>110025</td>\n",
       "      <td>AUS</td>\n",
       "      <td>Robert Layton</td>\n",
       "      <td>NaN</td>\n",
       "      <td>NaN</td>\n",
       "      <td>NaN</td>\n",
       "      <td>4</td>\n",
       "      <td>NaN</td>\n",
       "      <td>R64</td>\n",
       "      <td>6-4 6-2 6-1</td>\n",
       "      <td>Grass</td>\n",
       "      <td>19680119</td>\n",
       "      <td>1968-580</td>\n",
       "      <td>G</td>\n",
       "      <td>Australian Chps.</td>\n",
       "      <td>NaN</td>\n",
       "      <td>NaN</td>\n",
       "      <td>NaN</td>\n",
       "      <td>NaN</td>\n",
       "      <td>NaN</td>\n",
       "      <td>NaN</td>\n",
       "      <td>NaN</td>\n",
       "      <td>NaN</td>\n",
       "      <td>NaN</td>\n",
       "      <td>22.264203</td>\n",
       "      <td>NaN</td>\n",
       "      <td>R</td>\n",
       "      <td>NaN</td>\n",
       "      <td>100105</td>\n",
       "      <td>AUS</td>\n",
       "      <td>Allan Stone</td>\n",
       "      <td>NaN</td>\n",
       "      <td>NaN</td>\n",
       "      <td>5.0</td>\n",
       "    </tr>\n",
       "    <tr>\n",
       "      <th>4</th>\n",
       "      <td>5</td>\n",
       "      <td>64.0</td>\n",
       "      <td>NaN</td>\n",
       "      <td>NaN</td>\n",
       "      <td>NaN</td>\n",
       "      <td>NaN</td>\n",
       "      <td>NaN</td>\n",
       "      <td>NaN</td>\n",
       "      <td>NaN</td>\n",
       "      <td>NaN</td>\n",
       "      <td>NaN</td>\n",
       "      <td>NaN</td>\n",
       "      <td>NaN</td>\n",
       "      <td>R</td>\n",
       "      <td>NaN</td>\n",
       "      <td>110026</td>\n",
       "      <td>AUS</td>\n",
       "      <td>Bert Kearney</td>\n",
       "      <td>NaN</td>\n",
       "      <td>NaN</td>\n",
       "      <td>NaN</td>\n",
       "      <td>5</td>\n",
       "      <td>NaN</td>\n",
       "      <td>R64</td>\n",
       "      <td>6-4 6-1 7-5</td>\n",
       "      <td>Grass</td>\n",
       "      <td>19680119</td>\n",
       "      <td>1968-580</td>\n",
       "      <td>G</td>\n",
       "      <td>Australian Chps.</td>\n",
       "      <td>NaN</td>\n",
       "      <td>NaN</td>\n",
       "      <td>NaN</td>\n",
       "      <td>NaN</td>\n",
       "      <td>NaN</td>\n",
       "      <td>NaN</td>\n",
       "      <td>NaN</td>\n",
       "      <td>NaN</td>\n",
       "      <td>NaN</td>\n",
       "      <td>29.861739</td>\n",
       "      <td>NaN</td>\n",
       "      <td>R</td>\n",
       "      <td>NaN</td>\n",
       "      <td>109966</td>\n",
       "      <td>AUS</td>\n",
       "      <td>Warren Jacques</td>\n",
       "      <td>NaN</td>\n",
       "      <td>NaN</td>\n",
       "      <td>NaN</td>\n",
       "    </tr>\n",
       "  </tbody>\n",
       "</table>\n",
       "</div>"
      ],
      "text/plain": [
       "   best_of  draw_size  l_1stIn  l_1stWon  l_2ndWon  l_SvGms  l_ace  l_bpFaced  \\\n",
       "0        5       64.0      NaN       NaN       NaN      NaN    NaN        NaN   \n",
       "1        5       64.0      NaN       NaN       NaN      NaN    NaN        NaN   \n",
       "2        5       64.0      NaN       NaN       NaN      NaN    NaN        NaN   \n",
       "3        5       64.0      NaN       NaN       NaN      NaN    NaN        NaN   \n",
       "4        5       64.0      NaN       NaN       NaN      NaN    NaN        NaN   \n",
       "\n",
       "   l_bpSaved  l_df  l_svpt  loser_age loser_entry loser_hand  loser_ht  \\\n",
       "0        NaN   NaN     NaN        NaN         NaN          R       NaN   \n",
       "1        NaN   NaN     NaN        NaN         NaN          R       NaN   \n",
       "2        NaN   NaN     NaN        NaN         NaN          R       NaN   \n",
       "3        NaN   NaN     NaN        NaN         NaN          R       NaN   \n",
       "4        NaN   NaN     NaN        NaN         NaN          R       NaN   \n",
       "\n",
       "   loser_id loser_ioc     loser_name  loser_rank  loser_rank_points  \\\n",
       "0    107760       AUS     Max Senior         NaN                NaN   \n",
       "1    106964       AUS   Ernie Mccabe         NaN                NaN   \n",
       "2    110024       INA  Gondo Widjojo         NaN                NaN   \n",
       "3    110025       AUS  Robert Layton         NaN                NaN   \n",
       "4    110026       AUS   Bert Kearney         NaN                NaN   \n",
       "\n",
       "   loser_seed  match_num  minutes round              score surface  \\\n",
       "0         NaN          1      NaN   R64  12-10 7-5 4-6 7-5   Grass   \n",
       "1         NaN          2      NaN   R64        6-3 6-2 6-4   Grass   \n",
       "2        15.0          3      NaN   R64    6-4 3-6 6-3 7-5   Grass   \n",
       "3         NaN          4      NaN   R64        6-4 6-2 6-1   Grass   \n",
       "4         NaN          5      NaN   R64        6-4 6-1 7-5   Grass   \n",
       "\n",
       "   tourney_date tourney_id tourney_level      tourney_name  w_1stIn  w_1stWon  \\\n",
       "0      19680119   1968-580             G  Australian Chps.      NaN       NaN   \n",
       "1      19680119   1968-580             G  Australian Chps.      NaN       NaN   \n",
       "2      19680119   1968-580             G  Australian Chps.      NaN       NaN   \n",
       "3      19680119   1968-580             G  Australian Chps.      NaN       NaN   \n",
       "4      19680119   1968-580             G  Australian Chps.      NaN       NaN   \n",
       "\n",
       "   w_2ndWon  w_SvGms  w_ace  w_bpFaced  w_bpSaved  w_df  w_svpt  winner_age  \\\n",
       "0       NaN      NaN    NaN        NaN        NaN   NaN     NaN         NaN   \n",
       "1       NaN      NaN    NaN        NaN        NaN   NaN     NaN   27.520876   \n",
       "2       NaN      NaN    NaN        NaN        NaN   NaN     NaN   16.216290   \n",
       "3       NaN      NaN    NaN        NaN        NaN   NaN     NaN   22.264203   \n",
       "4       NaN      NaN    NaN        NaN        NaN   NaN     NaN   29.861739   \n",
       "\n",
       "  winner_entry winner_hand  winner_ht  winner_id winner_ioc  \\\n",
       "0          NaN           R        NaN     110023        AUS   \n",
       "1          NaN           R        NaN     109803        AUS   \n",
       "2          NaN           R        NaN     100257        AUS   \n",
       "3          NaN           R        NaN     100105        AUS   \n",
       "4          NaN           R        NaN     109966        AUS   \n",
       "\n",
       "         winner_name  winner_rank  winner_rank_points  winner_seed  \n",
       "0  Richard Coulthard          NaN                 NaN          NaN  \n",
       "1         John Brown          NaN                 NaN          NaN  \n",
       "2          Ross Case          NaN                 NaN          NaN  \n",
       "3        Allan Stone          NaN                 NaN          5.0  \n",
       "4     Warren Jacques          NaN                 NaN          NaN  "
      ]
     },
     "execution_count": 4,
     "metadata": {},
     "output_type": "execute_result"
    }
   ],
   "source": [
    "df.head()"
   ]
  },
  {
   "cell_type": "markdown",
   "metadata": {},
   "source": [
    "## <font color=\"green\">DATA DICTIONARY</font>"
   ]
  },
  {
   "cell_type": "markdown",
   "metadata": {},
   "source": [
    "<font color=\"grey-black\">Le dictionnaire de données est fourni sur [la page Kaggle du jeu de données](https://www.kaggle.com/sijovm/atpdata).</font>"
   ]
  },
  {
   "cell_type": "markdown",
   "metadata": {},
   "source": [
    "* `tourney_id` - tournament's id\n",
    "* `tourney_name` - tournament's name\n",
    "* `surface` - surface in which the match is played\n",
    "* `draw_size` - the size of the draw\n",
    "* `tourney_level` - tournament level ('G' = Grand Slams, 'M' = Masters 1000s, 'A' = other tour-level events, 'C' = Challengers, 'S' = Satellites/ITFs, 'F' = Tour finals and other season-ending events, 'D' = Davis Cup)\n",
    "* `tourney_date` - starting date of the tournament\n",
    "* `match_num` - match number in a certain tournament\n",
    "* `winner_id` & `loser_id` - player id\n",
    "* `winner_seed` & `loser_seed` - the seed of the player in that tournament\n",
    "* `winner_entry` & `loser_entry` - How did the player enter the tournaments? (WC - Wildcard, Q - Qualifier, LL - Lucky loser, PR - Protected ranking, SE - Special Exempt, ALT - Alternate player)\n",
    "* `winner_name` & `loser_name` - player name\n",
    "* `winner_hand` & `loser_hand` - hand of the player, right or left\n",
    "* `winner_ht` & `loser_ht` - the height of the player\n",
    "* `winner_ioc` & `loser_ioc` - the country of origin\n",
    "* `winner_age` & `loser_age` - age of the player\n",
    "* `score` - final score in the match\n",
    "* `best_of` - the maximum number of sets played\n",
    "* `round` - the round in the tournament a match belongs to\n",
    "* `minutes` - duration of the match in minutes\n",
    "* `w_ace`& `l_ace` - number of aces in the match\n",
    "* `w_df`& `l_df` - double faults\n",
    "* `w_svpt`& `l_svpt` - serve percent\n",
    "* `w_1stIn` & `l_1stIn` - first serve in percent\n",
    "* `w_1stWon` & `l_1stWon` - first serve winning percent\n",
    "* `w_2ndWon` & `l_2ndWon` - second serve winning percent\n",
    "* `w_SvGms` & `l_SvGms` - number of games played on serve (So, the maximum difference between wSvGms and lSvGms will be 1)\n",
    "* `w_bpSaved` & `l_bpSaved` - breakpoints saved\n",
    "* `w_bpFaced` & `l_bpFaced` - breakpoints faced\n",
    "\n",
    "Columns not in the data dictionary:\n",
    "* `loser_rank`\n",
    "* `loser_rank_points`\n",
    "* `winner_rank`\n",
    "* `winner_rank_points`"
   ]
  },
  {
   "cell_type": "code",
   "execution_count": 5,
   "metadata": {},
   "outputs": [
    {
     "data": {
      "text/plain": [
       "best_of                 int64\n",
       "draw_size             float64\n",
       "l_1stIn               float64\n",
       "l_1stWon              float64\n",
       "l_2ndWon              float64\n",
       "l_SvGms               float64\n",
       "l_ace                 float64\n",
       "l_bpFaced             float64\n",
       "l_bpSaved             float64\n",
       "l_df                  float64\n",
       "l_svpt                float64\n",
       "loser_age             float64\n",
       "loser_entry            object\n",
       "loser_hand             object\n",
       "loser_ht              float64\n",
       "loser_id                int64\n",
       "loser_ioc              object\n",
       "loser_name             object\n",
       "loser_rank            float64\n",
       "loser_rank_points     float64\n",
       "loser_seed            float64\n",
       "match_num               int64\n",
       "minutes               float64\n",
       "round                  object\n",
       "score                  object\n",
       "surface                object\n",
       "tourney_date            int64\n",
       "tourney_id             object\n",
       "tourney_level          object\n",
       "tourney_name           object\n",
       "w_1stIn               float64\n",
       "w_1stWon              float64\n",
       "w_2ndWon              float64\n",
       "w_SvGms               float64\n",
       "w_ace                 float64\n",
       "w_bpFaced             float64\n",
       "w_bpSaved             float64\n",
       "w_df                  float64\n",
       "w_svpt                float64\n",
       "winner_age            float64\n",
       "winner_entry           object\n",
       "winner_hand            object\n",
       "winner_ht             float64\n",
       "winner_id               int64\n",
       "winner_ioc             object\n",
       "winner_name            object\n",
       "winner_rank           float64\n",
       "winner_rank_points    float64\n",
       "winner_seed           float64\n",
       "dtype: object"
      ]
     },
     "execution_count": 5,
     "metadata": {},
     "output_type": "execute_result"
    }
   ],
   "source": [
    "df.dtypes"
   ]
  },
  {
   "cell_type": "code",
   "execution_count": 6,
   "metadata": {},
   "outputs": [
    {
     "data": {
      "text/html": [
       "<div>\n",
       "<style scoped>\n",
       "    .dataframe tbody tr th:only-of-type {\n",
       "        vertical-align: middle;\n",
       "    }\n",
       "\n",
       "    .dataframe tbody tr th {\n",
       "        vertical-align: top;\n",
       "    }\n",
       "\n",
       "    .dataframe thead th {\n",
       "        text-align: right;\n",
       "    }\n",
       "</style>\n",
       "<table border=\"1\" class=\"dataframe\">\n",
       "  <thead>\n",
       "    <tr style=\"text-align: right;\">\n",
       "      <th></th>\n",
       "      <th>best_of</th>\n",
       "      <th>draw_size</th>\n",
       "      <th>l_1stIn</th>\n",
       "      <th>l_1stWon</th>\n",
       "      <th>l_2ndWon</th>\n",
       "      <th>l_SvGms</th>\n",
       "      <th>l_ace</th>\n",
       "      <th>l_bpFaced</th>\n",
       "      <th>l_bpSaved</th>\n",
       "      <th>l_df</th>\n",
       "      <th>l_svpt</th>\n",
       "      <th>loser_age</th>\n",
       "      <th>loser_ht</th>\n",
       "      <th>loser_id</th>\n",
       "      <th>loser_rank</th>\n",
       "      <th>loser_rank_points</th>\n",
       "      <th>loser_seed</th>\n",
       "      <th>match_num</th>\n",
       "      <th>minutes</th>\n",
       "      <th>tourney_date</th>\n",
       "      <th>w_1stIn</th>\n",
       "      <th>w_1stWon</th>\n",
       "      <th>w_2ndWon</th>\n",
       "      <th>w_SvGms</th>\n",
       "      <th>w_ace</th>\n",
       "      <th>w_bpFaced</th>\n",
       "      <th>w_bpSaved</th>\n",
       "      <th>w_df</th>\n",
       "      <th>w_svpt</th>\n",
       "      <th>winner_age</th>\n",
       "      <th>winner_ht</th>\n",
       "      <th>winner_id</th>\n",
       "      <th>winner_rank</th>\n",
       "      <th>winner_rank_points</th>\n",
       "      <th>winner_seed</th>\n",
       "    </tr>\n",
       "  </thead>\n",
       "  <tbody>\n",
       "    <tr>\n",
       "      <th>count</th>\n",
       "      <td>169690.000000</td>\n",
       "      <td>1232.000000</td>\n",
       "      <td>83415.000000</td>\n",
       "      <td>83415.000000</td>\n",
       "      <td>83415.000000</td>\n",
       "      <td>83415.000000</td>\n",
       "      <td>83415.000000</td>\n",
       "      <td>83415.000000</td>\n",
       "      <td>83415.000000</td>\n",
       "      <td>83415.000000</td>\n",
       "      <td>83415.000000</td>\n",
       "      <td>164700.000000</td>\n",
       "      <td>139052.000000</td>\n",
       "      <td>169690.000000</td>\n",
       "      <td>145909.000000</td>\n",
       "      <td>93025.000000</td>\n",
       "      <td>32853.000000</td>\n",
       "      <td>169690.000000</td>\n",
       "      <td>82103.000000</td>\n",
       "      <td>1.696900e+05</td>\n",
       "      <td>83415.000000</td>\n",
       "      <td>83415.000000</td>\n",
       "      <td>83415.000000</td>\n",
       "      <td>83415.000000</td>\n",
       "      <td>83415.000000</td>\n",
       "      <td>83415.000000</td>\n",
       "      <td>83415.000000</td>\n",
       "      <td>83415.000000</td>\n",
       "      <td>83415.000000</td>\n",
       "      <td>167929.000000</td>\n",
       "      <td>150884.000000</td>\n",
       "      <td>169690.000000</td>\n",
       "      <td>149773.000000</td>\n",
       "      <td>94291.000000</td>\n",
       "      <td>65295.000000</td>\n",
       "    </tr>\n",
       "    <tr>\n",
       "      <th>mean</th>\n",
       "      <td>3.446072</td>\n",
       "      <td>75.022727</td>\n",
       "      <td>47.705149</td>\n",
       "      <td>31.683690</td>\n",
       "      <td>15.029119</td>\n",
       "      <td>12.159995</td>\n",
       "      <td>4.779776</td>\n",
       "      <td>8.751555</td>\n",
       "      <td>4.808044</td>\n",
       "      <td>3.509081</td>\n",
       "      <td>80.717904</td>\n",
       "      <td>25.661378</td>\n",
       "      <td>184.064918</td>\n",
       "      <td>102829.308574</td>\n",
       "      <td>120.815721</td>\n",
       "      <td>840.134727</td>\n",
       "      <td>7.589109</td>\n",
       "      <td>52.853492</td>\n",
       "      <td>100.786037</td>\n",
       "      <td>1.993052e+07</td>\n",
       "      <td>47.299514</td>\n",
       "      <td>35.659522</td>\n",
       "      <td>16.806102</td>\n",
       "      <td>12.354780</td>\n",
       "      <td>6.461823</td>\n",
       "      <td>5.174381</td>\n",
       "      <td>3.528790</td>\n",
       "      <td>2.743859</td>\n",
       "      <td>77.906887</td>\n",
       "      <td>25.612639</td>\n",
       "      <td>184.277200</td>\n",
       "      <td>102362.973540</td>\n",
       "      <td>81.409827</td>\n",
       "      <td>1342.313296</td>\n",
       "      <td>6.209495</td>\n",
       "    </tr>\n",
       "    <tr>\n",
       "      <th>std</th>\n",
       "      <td>0.832567</td>\n",
       "      <td>43.500071</td>\n",
       "      <td>19.359849</td>\n",
       "      <td>14.437267</td>\n",
       "      <td>7.266522</td>\n",
       "      <td>4.114587</td>\n",
       "      <td>4.625035</td>\n",
       "      <td>4.123616</td>\n",
       "      <td>3.271050</td>\n",
       "      <td>2.623945</td>\n",
       "      <td>29.485231</td>\n",
       "      <td>4.074386</td>\n",
       "      <td>6.624417</td>\n",
       "      <td>6072.998247</td>\n",
       "      <td>161.539365</td>\n",
       "      <td>940.800241</td>\n",
       "      <td>5.880047</td>\n",
       "      <td>81.992868</td>\n",
       "      <td>40.332392</td>\n",
       "      <td>1.396612e+05</td>\n",
       "      <td>19.191976</td>\n",
       "      <td>13.841457</td>\n",
       "      <td>7.026601</td>\n",
       "      <td>4.102224</td>\n",
       "      <td>5.297845</td>\n",
       "      <td>4.058311</td>\n",
       "      <td>3.081844</td>\n",
       "      <td>2.368677</td>\n",
       "      <td>29.532338</td>\n",
       "      <td>3.943494</td>\n",
       "      <td>6.632803</td>\n",
       "      <td>3958.369064</td>\n",
       "      <td>123.875156</td>\n",
       "      <td>1672.646568</td>\n",
       "      <td>5.401583</td>\n",
       "    </tr>\n",
       "    <tr>\n",
       "      <th>min</th>\n",
       "      <td>3.000000</td>\n",
       "      <td>4.000000</td>\n",
       "      <td>0.000000</td>\n",
       "      <td>0.000000</td>\n",
       "      <td>0.000000</td>\n",
       "      <td>0.000000</td>\n",
       "      <td>0.000000</td>\n",
       "      <td>0.000000</td>\n",
       "      <td>-6.000000</td>\n",
       "      <td>0.000000</td>\n",
       "      <td>0.000000</td>\n",
       "      <td>14.380000</td>\n",
       "      <td>160.000000</td>\n",
       "      <td>100001.000000</td>\n",
       "      <td>1.000000</td>\n",
       "      <td>1.000000</td>\n",
       "      <td>1.000000</td>\n",
       "      <td>1.000000</td>\n",
       "      <td>1.000000</td>\n",
       "      <td>1.968012e+07</td>\n",
       "      <td>0.000000</td>\n",
       "      <td>0.000000</td>\n",
       "      <td>0.000000</td>\n",
       "      <td>0.000000</td>\n",
       "      <td>0.000000</td>\n",
       "      <td>0.000000</td>\n",
       "      <td>0.000000</td>\n",
       "      <td>0.000000</td>\n",
       "      <td>0.000000</td>\n",
       "      <td>14.360000</td>\n",
       "      <td>160.000000</td>\n",
       "      <td>100002.000000</td>\n",
       "      <td>1.000000</td>\n",
       "      <td>1.000000</td>\n",
       "      <td>1.000000</td>\n",
       "    </tr>\n",
       "    <tr>\n",
       "      <th>25%</th>\n",
       "      <td>3.000000</td>\n",
       "      <td>64.000000</td>\n",
       "      <td>34.000000</td>\n",
       "      <td>21.000000</td>\n",
       "      <td>10.000000</td>\n",
       "      <td>9.000000</td>\n",
       "      <td>2.000000</td>\n",
       "      <td>6.000000</td>\n",
       "      <td>2.000000</td>\n",
       "      <td>2.000000</td>\n",
       "      <td>59.000000</td>\n",
       "      <td>22.750000</td>\n",
       "      <td>180.000000</td>\n",
       "      <td>100529.000000</td>\n",
       "      <td>40.000000</td>\n",
       "      <td>367.000000</td>\n",
       "      <td>4.000000</td>\n",
       "      <td>9.000000</td>\n",
       "      <td>73.000000</td>\n",
       "      <td>1.981052e+07</td>\n",
       "      <td>33.000000</td>\n",
       "      <td>26.000000</td>\n",
       "      <td>12.000000</td>\n",
       "      <td>9.000000</td>\n",
       "      <td>3.000000</td>\n",
       "      <td>2.000000</td>\n",
       "      <td>1.000000</td>\n",
       "      <td>1.000000</td>\n",
       "      <td>56.000000</td>\n",
       "      <td>22.760000</td>\n",
       "      <td>180.000000</td>\n",
       "      <td>100445.000000</td>\n",
       "      <td>18.000000</td>\n",
       "      <td>496.000000</td>\n",
       "      <td>2.000000</td>\n",
       "    </tr>\n",
       "    <tr>\n",
       "      <th>50%</th>\n",
       "      <td>3.000000</td>\n",
       "      <td>64.000000</td>\n",
       "      <td>44.000000</td>\n",
       "      <td>29.000000</td>\n",
       "      <td>14.000000</td>\n",
       "      <td>11.000000</td>\n",
       "      <td>4.000000</td>\n",
       "      <td>8.000000</td>\n",
       "      <td>4.000000</td>\n",
       "      <td>3.000000</td>\n",
       "      <td>75.000000</td>\n",
       "      <td>25.320000</td>\n",
       "      <td>185.000000</td>\n",
       "      <td>101736.000000</td>\n",
       "      <td>77.000000</td>\n",
       "      <td>618.000000</td>\n",
       "      <td>6.000000</td>\n",
       "      <td>22.000000</td>\n",
       "      <td>94.000000</td>\n",
       "      <td>1.993021e+07</td>\n",
       "      <td>44.000000</td>\n",
       "      <td>33.000000</td>\n",
       "      <td>16.000000</td>\n",
       "      <td>11.000000</td>\n",
       "      <td>5.000000</td>\n",
       "      <td>4.000000</td>\n",
       "      <td>3.000000</td>\n",
       "      <td>2.000000</td>\n",
       "      <td>73.000000</td>\n",
       "      <td>25.250000</td>\n",
       "      <td>185.000000</td>\n",
       "      <td>101611.000000</td>\n",
       "      <td>48.000000</td>\n",
       "      <td>835.000000</td>\n",
       "      <td>5.000000</td>\n",
       "    </tr>\n",
       "    <tr>\n",
       "      <th>75%</th>\n",
       "      <td>3.000000</td>\n",
       "      <td>128.000000</td>\n",
       "      <td>58.000000</td>\n",
       "      <td>39.000000</td>\n",
       "      <td>19.000000</td>\n",
       "      <td>15.000000</td>\n",
       "      <td>7.000000</td>\n",
       "      <td>11.000000</td>\n",
       "      <td>7.000000</td>\n",
       "      <td>5.000000</td>\n",
       "      <td>96.000000</td>\n",
       "      <td>28.250000</td>\n",
       "      <td>188.000000</td>\n",
       "      <td>103821.000000</td>\n",
       "      <td>134.000000</td>\n",
       "      <td>985.000000</td>\n",
       "      <td>10.000000</td>\n",
       "      <td>45.000000</td>\n",
       "      <td>123.000000</td>\n",
       "      <td>2.005022e+07</td>\n",
       "      <td>57.000000</td>\n",
       "      <td>43.000000</td>\n",
       "      <td>21.000000</td>\n",
       "      <td>15.000000</td>\n",
       "      <td>9.000000</td>\n",
       "      <td>7.000000</td>\n",
       "      <td>5.000000</td>\n",
       "      <td>4.000000</td>\n",
       "      <td>94.000000</td>\n",
       "      <td>28.130000</td>\n",
       "      <td>188.000000</td>\n",
       "      <td>103694.000000</td>\n",
       "      <td>96.000000</td>\n",
       "      <td>1508.000000</td>\n",
       "      <td>8.000000</td>\n",
       "    </tr>\n",
       "    <tr>\n",
       "      <th>max</th>\n",
       "      <td>5.000000</td>\n",
       "      <td>128.000000</td>\n",
       "      <td>328.000000</td>\n",
       "      <td>284.000000</td>\n",
       "      <td>101.000000</td>\n",
       "      <td>91.000000</td>\n",
       "      <td>103.000000</td>\n",
       "      <td>35.000000</td>\n",
       "      <td>28.000000</td>\n",
       "      <td>26.000000</td>\n",
       "      <td>489.000000</td>\n",
       "      <td>63.690000</td>\n",
       "      <td>208.000000</td>\n",
       "      <td>208997.000000</td>\n",
       "      <td>2159.000000</td>\n",
       "      <td>16950.000000</td>\n",
       "      <td>35.000000</td>\n",
       "      <td>701.000000</td>\n",
       "      <td>1146.000000</td>\n",
       "      <td>2.019022e+07</td>\n",
       "      <td>361.000000</td>\n",
       "      <td>292.000000</td>\n",
       "      <td>82.000000</td>\n",
       "      <td>90.000000</td>\n",
       "      <td>113.000000</td>\n",
       "      <td>34.000000</td>\n",
       "      <td>24.000000</td>\n",
       "      <td>23.000000</td>\n",
       "      <td>491.000000</td>\n",
       "      <td>58.718686</td>\n",
       "      <td>208.000000</td>\n",
       "      <td>208996.000000</td>\n",
       "      <td>2101.000000</td>\n",
       "      <td>16950.000000</td>\n",
       "      <td>35.000000</td>\n",
       "    </tr>\n",
       "  </tbody>\n",
       "</table>\n",
       "</div>"
      ],
      "text/plain": [
       "             best_of    draw_size       l_1stIn      l_1stWon      l_2ndWon  \\\n",
       "count  169690.000000  1232.000000  83415.000000  83415.000000  83415.000000   \n",
       "mean        3.446072    75.022727     47.705149     31.683690     15.029119   \n",
       "std         0.832567    43.500071     19.359849     14.437267      7.266522   \n",
       "min         3.000000     4.000000      0.000000      0.000000      0.000000   \n",
       "25%         3.000000    64.000000     34.000000     21.000000     10.000000   \n",
       "50%         3.000000    64.000000     44.000000     29.000000     14.000000   \n",
       "75%         3.000000   128.000000     58.000000     39.000000     19.000000   \n",
       "max         5.000000   128.000000    328.000000    284.000000    101.000000   \n",
       "\n",
       "            l_SvGms         l_ace     l_bpFaced     l_bpSaved          l_df  \\\n",
       "count  83415.000000  83415.000000  83415.000000  83415.000000  83415.000000   \n",
       "mean      12.159995      4.779776      8.751555      4.808044      3.509081   \n",
       "std        4.114587      4.625035      4.123616      3.271050      2.623945   \n",
       "min        0.000000      0.000000      0.000000     -6.000000      0.000000   \n",
       "25%        9.000000      2.000000      6.000000      2.000000      2.000000   \n",
       "50%       11.000000      4.000000      8.000000      4.000000      3.000000   \n",
       "75%       15.000000      7.000000     11.000000      7.000000      5.000000   \n",
       "max       91.000000    103.000000     35.000000     28.000000     26.000000   \n",
       "\n",
       "             l_svpt      loser_age       loser_ht       loser_id  \\\n",
       "count  83415.000000  164700.000000  139052.000000  169690.000000   \n",
       "mean      80.717904      25.661378     184.064918  102829.308574   \n",
       "std       29.485231       4.074386       6.624417    6072.998247   \n",
       "min        0.000000      14.380000     160.000000  100001.000000   \n",
       "25%       59.000000      22.750000     180.000000  100529.000000   \n",
       "50%       75.000000      25.320000     185.000000  101736.000000   \n",
       "75%       96.000000      28.250000     188.000000  103821.000000   \n",
       "max      489.000000      63.690000     208.000000  208997.000000   \n",
       "\n",
       "          loser_rank  loser_rank_points    loser_seed      match_num  \\\n",
       "count  145909.000000       93025.000000  32853.000000  169690.000000   \n",
       "mean      120.815721         840.134727      7.589109      52.853492   \n",
       "std       161.539365         940.800241      5.880047      81.992868   \n",
       "min         1.000000           1.000000      1.000000       1.000000   \n",
       "25%        40.000000         367.000000      4.000000       9.000000   \n",
       "50%        77.000000         618.000000      6.000000      22.000000   \n",
       "75%       134.000000         985.000000     10.000000      45.000000   \n",
       "max      2159.000000       16950.000000     35.000000     701.000000   \n",
       "\n",
       "            minutes  tourney_date       w_1stIn      w_1stWon      w_2ndWon  \\\n",
       "count  82103.000000  1.696900e+05  83415.000000  83415.000000  83415.000000   \n",
       "mean     100.786037  1.993052e+07     47.299514     35.659522     16.806102   \n",
       "std       40.332392  1.396612e+05     19.191976     13.841457      7.026601   \n",
       "min        1.000000  1.968012e+07      0.000000      0.000000      0.000000   \n",
       "25%       73.000000  1.981052e+07     33.000000     26.000000     12.000000   \n",
       "50%       94.000000  1.993021e+07     44.000000     33.000000     16.000000   \n",
       "75%      123.000000  2.005022e+07     57.000000     43.000000     21.000000   \n",
       "max     1146.000000  2.019022e+07    361.000000    292.000000     82.000000   \n",
       "\n",
       "            w_SvGms         w_ace     w_bpFaced     w_bpSaved          w_df  \\\n",
       "count  83415.000000  83415.000000  83415.000000  83415.000000  83415.000000   \n",
       "mean      12.354780      6.461823      5.174381      3.528790      2.743859   \n",
       "std        4.102224      5.297845      4.058311      3.081844      2.368677   \n",
       "min        0.000000      0.000000      0.000000      0.000000      0.000000   \n",
       "25%        9.000000      3.000000      2.000000      1.000000      1.000000   \n",
       "50%       11.000000      5.000000      4.000000      3.000000      2.000000   \n",
       "75%       15.000000      9.000000      7.000000      5.000000      4.000000   \n",
       "max       90.000000    113.000000     34.000000     24.000000     23.000000   \n",
       "\n",
       "             w_svpt     winner_age      winner_ht      winner_id  \\\n",
       "count  83415.000000  167929.000000  150884.000000  169690.000000   \n",
       "mean      77.906887      25.612639     184.277200  102362.973540   \n",
       "std       29.532338       3.943494       6.632803    3958.369064   \n",
       "min        0.000000      14.360000     160.000000  100002.000000   \n",
       "25%       56.000000      22.760000     180.000000  100445.000000   \n",
       "50%       73.000000      25.250000     185.000000  101611.000000   \n",
       "75%       94.000000      28.130000     188.000000  103694.000000   \n",
       "max      491.000000      58.718686     208.000000  208996.000000   \n",
       "\n",
       "         winner_rank  winner_rank_points   winner_seed  \n",
       "count  149773.000000        94291.000000  65295.000000  \n",
       "mean       81.409827         1342.313296      6.209495  \n",
       "std       123.875156         1672.646568      5.401583  \n",
       "min         1.000000            1.000000      1.000000  \n",
       "25%        18.000000          496.000000      2.000000  \n",
       "50%        48.000000          835.000000      5.000000  \n",
       "75%        96.000000         1508.000000      8.000000  \n",
       "max      2101.000000        16950.000000     35.000000  "
      ]
     },
     "execution_count": 6,
     "metadata": {},
     "output_type": "execute_result"
    }
   ],
   "source": [
    "df.describe()"
   ]
  },
  {
   "cell_type": "markdown",
   "metadata": {},
   "source": [
    "# <font color=\"orange\">PREMIER NETTOYAGE DE DONNÉES</font>"
   ]
  },
  {
   "cell_type": "code",
   "execution_count": 7,
   "metadata": {},
   "outputs": [
    {
     "data": {
      "text/plain": [
       "False"
      ]
     },
     "execution_count": 7,
     "metadata": {},
     "output_type": "execute_result"
    }
   ],
   "source": [
    "any(df.duplicated())"
   ]
  },
  {
   "cell_type": "markdown",
   "metadata": {},
   "source": [
    "<font color=\"grey-black\">Le jeu de données n'a aucun doublon.</font>"
   ]
  },
  {
   "cell_type": "markdown",
   "metadata": {},
   "source": [
    "<font color=\"grey-black\">Renommer la colonne `round` car c'est un mot réservé (\"key word\") en Python, donc pour éviter toute erreur, mieux vaut changer le nom de la colonne.</font>"
   ]
  },
  {
   "cell_type": "code",
   "execution_count": 8,
   "metadata": {},
   "outputs": [],
   "source": [
    "df = df.rename({'round': 'tourney_stage'}, axis='columns')"
   ]
  },
  {
   "cell_type": "markdown",
   "metadata": {},
   "source": [
    "<font color=\"grey-black\">Reordonner le jeu de données par date et extraire l'année du tournoi pour faire des statistiques par an.</font>"
   ]
  },
  {
   "cell_type": "code",
   "execution_count": 9,
   "metadata": {},
   "outputs": [],
   "source": [
    "df['tourney_date'] = pd.to_datetime(df['tourney_date'], format=\"%Y%m%d\")\n",
    "df = df.sort_values(['tourney_date', 'tourney_id', 'match_num'])"
   ]
  },
  {
   "cell_type": "code",
   "execution_count": 10,
   "metadata": {},
   "outputs": [],
   "source": [
    "df['tourney_year'] = df['tourney_date'].dt.year"
   ]
  },
  {
   "cell_type": "markdown",
   "metadata": {},
   "source": [
    "<font color=\"grey-black\">Remplacer la chaine de charactères 'None' dans la colonne `surface` par une valeur manquante `NaN`</font>"
   ]
  },
  {
   "cell_type": "code",
   "execution_count": 11,
   "metadata": {},
   "outputs": [],
   "source": [
    "df['surface'] = df['surface'].replace({'None': np.nan})"
   ]
  },
  {
   "cell_type": "markdown",
   "metadata": {},
   "source": [
    "<font color=\"grey-black\">La colonne `l_bpSaved` a deux observations négatives, ce qui n'est pas possible : le nombre de balles de break sauvées ne peut qu'être positif ou nul au minimum.</font>"
   ]
  },
  {
   "cell_type": "code",
   "execution_count": 12,
   "metadata": {},
   "outputs": [],
   "source": [
    "df.loc[df['l_bpSaved'] < 0, 'l_bpSaved'] = 0"
   ]
  },
  {
   "cell_type": "markdown",
   "metadata": {},
   "source": [
    "<font color=\"grey-black\">La colonne `l_svpt` a 17773 observations supérieures à 100, or ce n'est normalement pas possible, puisque cette vraible doit représenter le pourcentage de 1er services du joueur perdant. Mais en regardant les statistiques du match [Kyrgos - Isner à Acapulco en 2019](https://www.atptour.com/en/scores/2019/807/MS002/match-stats), remporté par Isner, on se rend compte que la variable `l_svpt` est égale au nombre de 1er services tentés par Isner. Donc il est normal d'avoir des valeurs supérieures à 100.  \n",
    "On observe la même chose pour la variable `w_svpt`.</font>"
   ]
  },
  {
   "cell_type": "markdown",
   "metadata": {},
   "source": [
    "<font color=\"grey-black\">Je n'ai pas vu d'autres soucis majeurs dans la qualité des données. Et préssé par le temps, je laisse cette partie là en suspens quitte à revenir plus tard, durant le déroulé de l'exploration des données ou la construction des modèles.</font>"
   ]
  },
  {
   "cell_type": "code",
   "execution_count": 13,
   "metadata": {},
   "outputs": [
    {
     "data": {
      "text/plain": [
       "False"
      ]
     },
     "execution_count": 13,
     "metadata": {},
     "output_type": "execute_result"
    }
   ],
   "source": [
    "any(df.duplicated())"
   ]
  },
  {
   "cell_type": "markdown",
   "metadata": {},
   "source": [
    "<font color=\"grey-black\">Même après toutes ces transformations, le jeu de données n'a aucun doublon.</font>"
   ]
  },
  {
   "cell_type": "markdown",
   "metadata": {},
   "source": [
    "### <font color=\"brown\">CREATE DICTIONARY OF PLAYERS WITH STATIC DATA</font>"
   ]
  },
  {
   "cell_type": "markdown",
   "metadata": {},
   "source": [
    "<font color=\"grey-black\">Pour commencer, je crée un jeu de données pour rassembler l'ensemble des données \"statiques\" disponibles pour chaque joueur présent (âge, taille, pays d'origine, main préférentielle, etc...) Cela permet de rapidement fusioner ces données statiques si nécessaire, notamment dans l'exploration de données.</font>"
   ]
  },
  {
   "cell_type": "code",
   "execution_count": 14,
   "metadata": {},
   "outputs": [],
   "source": [
    "# first extract ids in loser and winner columns with static columns (and drop duplicates)\n",
    "losers = df[['loser_id', 'loser_name', 'loser_hand', 'loser_ht', 'loser_ioc']].drop_duplicates()\n",
    "winners = df[['winner_id', 'winner_name', 'winner_hand', 'winner_ht', 'winner_ioc']].drop_duplicates()"
   ]
  },
  {
   "cell_type": "code",
   "execution_count": 15,
   "metadata": {},
   "outputs": [],
   "source": [
    "# rename columns\n",
    "for col in losers.columns:\n",
    "    losers.rename(columns={col: col.split('_')[-1]}, inplace=True)\n",
    "for col in winners.columns:\n",
    "    winners.rename(columns={col: col.split('_')[-1]}, inplace=True)"
   ]
  },
  {
   "cell_type": "code",
   "execution_count": 16,
   "metadata": {},
   "outputs": [
    {
     "name": "stdout",
     "output_type": "stream",
     "text": [
      "          id                    name hand     ht  ioc\n",
      "608   100032  Patricio Rodriguez CHI    R  188.0  CHI\n",
      "1576  100032  Patricio Rodriguez Chi    R  188.0  CHI\n",
      "          id                    name hand     ht  ioc\n",
      "541   100032  Patricio Rodriguez CHI    R  188.0  CHI\n",
      "1656  100032  Patricio Rodriguez Chi    R  188.0  CHI\n"
     ]
    }
   ],
   "source": [
    "# check for players with same id and different names if any...\n",
    "print(losers[losers['id'] == losers[losers.duplicated(['id'])]['id'].values[0]])\n",
    "print(winners[winners['id'] == winners[winners.duplicated(['id'])]['id'].values[0]])"
   ]
  },
  {
   "cell_type": "markdown",
   "metadata": {},
   "source": [
    "<font color=\"grey-black\">Patricio Rodriguez a deux noms différents dans le jeu de données, nettoyons ça une bonne fois pour toute.</font>"
   ]
  },
  {
   "cell_type": "code",
   "execution_count": 17,
   "metadata": {},
   "outputs": [],
   "source": [
    "losers.loc[losers['id'] == 100032, 'name'] = \"Patricio Rodriguez\"\n",
    "winners.loc[winners['id'] == 100032, 'name'] = \"Patricio Rodriguez\""
   ]
  },
  {
   "cell_type": "code",
   "execution_count": 18,
   "metadata": {},
   "outputs": [],
   "source": [
    "losers = losers.drop_duplicates()\n",
    "winners = winners.drop_duplicates()"
   ]
  },
  {
   "cell_type": "code",
   "execution_count": 19,
   "metadata": {},
   "outputs": [
    {
     "data": {
      "text/plain": [
       "False"
      ]
     },
     "execution_count": 19,
     "metadata": {},
     "output_type": "execute_result"
    }
   ],
   "source": [
    "any(losers.duplicated())"
   ]
  },
  {
   "cell_type": "markdown",
   "metadata": {},
   "source": [
    "<font color=\"grey-black\">Maintenant on peut créer un jeu de données avec les caractéristiques des joueurs à partir de leur IDs.</font>"
   ]
  },
  {
   "cell_type": "code",
   "execution_count": 20,
   "metadata": {},
   "outputs": [
    {
     "data": {
      "text/plain": [
       "{'name': 'Tony Pospisil', 'hand': 'U', 'ht': nan, 'ioc': 'CAN'}"
      ]
     },
     "execution_count": 20,
     "metadata": {},
     "output_type": "execute_result"
    }
   ],
   "source": [
    "losers.set_index('id').to_dict(orient='index')[109978]"
   ]
  },
  {
   "cell_type": "code",
   "execution_count": 21,
   "metadata": {},
   "outputs": [],
   "source": [
    "players = losers.set_index('id').to_dict(orient='index')\n",
    "players.update(winners.set_index('id').to_dict(orient='index'))\n",
    "\n",
    "# create a pandas DataFrame from this dictionary to be able to join it quickly\n",
    "players_data = pd.DataFrame.from_dict(players, orient='index').reset_index().rename(columns={'index': 'player_id'})"
   ]
  },
  {
   "cell_type": "markdown",
   "metadata": {},
   "source": [
    "<font color=\"grey-black\">Par exemple, si l'on veut les statistiques du joueur avec ID = 109978, il suffit d'interroger le dictionnaire ou le `pandas` DataFrame</font>"
   ]
  },
  {
   "cell_type": "code",
   "execution_count": 22,
   "metadata": {},
   "outputs": [
    {
     "data": {
      "text/plain": [
       "{'name': 'Tony Pospisil', 'hand': 'U', 'ht': nan, 'ioc': 'CAN'}"
      ]
     },
     "execution_count": 22,
     "metadata": {},
     "output_type": "execute_result"
    }
   ],
   "source": [
    "players[109978]"
   ]
  },
  {
   "cell_type": "code",
   "execution_count": 23,
   "metadata": {},
   "outputs": [
    {
     "data": {
      "text/html": [
       "<div>\n",
       "<style scoped>\n",
       "    .dataframe tbody tr th:only-of-type {\n",
       "        vertical-align: middle;\n",
       "    }\n",
       "\n",
       "    .dataframe tbody tr th {\n",
       "        vertical-align: top;\n",
       "    }\n",
       "\n",
       "    .dataframe thead th {\n",
       "        text-align: right;\n",
       "    }\n",
       "</style>\n",
       "<table border=\"1\" class=\"dataframe\">\n",
       "  <thead>\n",
       "    <tr style=\"text-align: right;\">\n",
       "      <th></th>\n",
       "      <th>player_id</th>\n",
       "      <th>name</th>\n",
       "      <th>hand</th>\n",
       "      <th>ht</th>\n",
       "      <th>ioc</th>\n",
       "    </tr>\n",
       "  </thead>\n",
       "  <tbody>\n",
       "    <tr>\n",
       "      <th>619</th>\n",
       "      <td>109978</td>\n",
       "      <td>Tony Pospisil</td>\n",
       "      <td>U</td>\n",
       "      <td>NaN</td>\n",
       "      <td>CAN</td>\n",
       "    </tr>\n",
       "  </tbody>\n",
       "</table>\n",
       "</div>"
      ],
      "text/plain": [
       "     player_id           name hand  ht  ioc\n",
       "619     109978  Tony Pospisil    U NaN  CAN"
      ]
     },
     "execution_count": 23,
     "metadata": {},
     "output_type": "execute_result"
    }
   ],
   "source": [
    "players_data[players_data['player_id'] == 109978]"
   ]
  },
  {
   "cell_type": "markdown",
   "metadata": {},
   "source": [
    "# <font color=\"orange\">EXPLORATORY DATA ANALYSIS (EDA)</font>"
   ]
  },
  {
   "cell_type": "markdown",
   "metadata": {},
   "source": [
    "<font color=\"grey-black\">Dans l'EDA, je commence par observer quelques stastiques intéressantes, sur le nombre de matches et de victoires par joueur, puis sur l'évolution du tennis dans le temps. Cela permet de mieux comprendre le jeu de données et de se faire une idée sur ce qu'il peut être fait autour de celui-ci.  \n",
    "Ensuite, j'étudie quelques statistiques de joueurs dans le jeu de données qui pourraient donner une indication sur la probabilité de tel joueur de gagné contre un autre. Cela permet d'itentifier quelques variables intéressantes pour notre objectif : prédire l'issue d'un match de tennis.  \n",
    "Après cette partie EDA, je développerai une partie modèle de prédiction.</font>"
   ]
  },
  {
   "cell_type": "markdown",
   "metadata": {},
   "source": [
    "## <font color=\"green\">STATISTIQUES DES MATCHES ET EVOLUTION DU TENNIS</font>"
   ]
  },
  {
   "cell_type": "code",
   "execution_count": 24,
   "metadata": {},
   "outputs": [
    {
     "name": "stdout",
     "output_type": "stream",
     "text": [
      "Periode d'observation : du 1968-01-19 00:00:00 au 2019-02-25 00:00:00\n"
     ]
    }
   ],
   "source": [
    "print(\"Periode d'observation : du {} au {}\".format(min(df['tourney_date']), max(df['tourney_date'])))"
   ]
  },
  {
   "cell_type": "markdown",
   "metadata": {},
   "source": [
    "<font color=\"grey-black\">La période observée concentre donc l'ensemble de [l'ère Open du tennis](https://fr.wikipedia.org/wiki/Ère_Open), c'est-à-dire l'ère moderne du tennis jusqu'au début de l'année 2019.</font>"
   ]
  },
  {
   "cell_type": "markdown",
   "metadata": {},
   "source": [
    "### <font color=\"brown\">NUMBER OF MATCH PER PLAYER</font>"
   ]
  },
  {
   "cell_type": "code",
   "execution_count": 25,
   "metadata": {},
   "outputs": [
    {
     "name": "stdout",
     "output_type": "stream",
     "text": [
      "Il y a 5894 differents joueurs dans le jeu de données, pour 169690 matches\n"
     ]
    }
   ],
   "source": [
    "print(\"Il y a {} differents joueurs dans le jeu de données, pour {} matches\".format(len(players), df.shape[0]))"
   ]
  },
  {
   "cell_type": "markdown",
   "metadata": {},
   "source": [
    "<font color=\"grey-black\">Sur cette période de l'ère Open, 5894 joueurs ont joué au moins un match.</font>"
   ]
  },
  {
   "cell_type": "markdown",
   "metadata": {},
   "source": [
    "<font color=\"grey-black\">Distribution du nombre de matches par joueur :</font>"
   ]
  },
  {
   "cell_type": "code",
   "execution_count": 26,
   "metadata": {},
   "outputs": [],
   "source": [
    "nb_lost = df['loser_id'].value_counts().to_frame(name=\"nb_lost\")\n",
    "\n",
    "nb_win = df['winner_id'].value_counts().to_frame(name=\"nb_wins\")\n",
    "\n",
    "nb_matches = pd.concat([nb_lost, nb_win], axis=1, sort=False).fillna(0)\n",
    "nb_matches['total'] = nb_matches['nb_lost'] + nb_matches['nb_wins']\n",
    "nb_matches = nb_matches.sort_values(['total'], ascending=False)\n",
    "nb_matches = nb_matches.reset_index().rename({'index': 'player_id'}, axis='columns')"
   ]
  },
  {
   "cell_type": "code",
   "execution_count": 27,
   "metadata": {},
   "outputs": [],
   "source": [
    "nb_matches = pd.merge(nb_matches, players_data, how='left')"
   ]
  },
  {
   "cell_type": "code",
   "execution_count": 28,
   "metadata": {},
   "outputs": [
    {
     "data": {
      "image/png": "[encoded data removed]",
      "text/plain": [
       "<Figure size 640x480 with 1 Axes>"
      ]
     },
     "metadata": {},
     "output_type": "display_data"
    },
    {
     "data": {
      "text/plain": [
       "<ggplot: (309597873)>"
      ]
     },
     "execution_count": 28,
     "metadata": {},
     "output_type": "execute_result"
    }
   ],
   "source": [
    "(\n",
    "    ggplot(nb_matches, aes(x='total'))\n",
    "    + geom_histogram(binwidth=5)\n",
    "    + coord_cartesian(xlim=(0, 500))\n",
    "    + xlab(\"Nombre de matches\")\n",
    "    + ggtitle(\"Distribution du nombre de matches par joueur\")\n",
    ")"
   ]
  },
  {
   "cell_type": "code",
   "execution_count": 29,
   "metadata": {},
   "outputs": [
    {
     "name": "stdout",
     "output_type": "stream",
     "text": [
      "48.83% des joueurs ont joué moins de 5 matches\n"
     ]
    }
   ],
   "source": [
    "print(\"{:.2f}% des joueurs ont joué moins de 5 matches\".format(sum(nb_matches['total'] < 5) / nb_matches.shape[0] * 100))"
   ]
  },
  {
   "cell_type": "code",
   "execution_count": 30,
   "metadata": {},
   "outputs": [
    {
     "name": "stdout",
     "output_type": "stream",
     "text": [
      "24.58% des joueurs ont joué un seul match\n"
     ]
    }
   ],
   "source": [
    "print(\"{:.2f}% des joueurs ont joué un seul match\".format(sum(nb_matches['total'] == 1) / nb_matches.shape[0] * 100))"
   ]
  },
  {
   "cell_type": "markdown",
   "metadata": {},
   "source": [
    "<font color=\"grey-black\">Beacoup de joueur n'ont disputé que très peu de matches dans ce jeu de données : environ 49% des joeurs ont moins de 5 matches, et presque un quart des joueurs n'ont fait qu'un match.</font>"
   ]
  },
  {
   "cell_type": "markdown",
   "metadata": {},
   "source": [
    "<font color=\"grey-black\">Quel joueur ont fait le plus de matches dans leur carrière ?</font>"
   ]
  },
  {
   "cell_type": "code",
   "execution_count": 31,
   "metadata": {},
   "outputs": [
    {
     "name": "stderr",
     "output_type": "stream",
     "text": [
      "/Users/antoinemertz/.local/share/virtualenvs/tennis-game-prediction-G_Zh9rmk/lib/python3.7/site-packages/pandas/core/indexing.py:966: SettingWithCopyWarning: \n",
      "A value is trying to be set on a copy of a slice from a DataFrame.\n",
      "Try using .loc[row_indexer,col_indexer] = value instead\n",
      "\n",
      "See the caveats in the documentation: https://pandas.pydata.org/pandas-docs/stable/user_guide/indexing.html#returning-a-view-versus-a-copy\n",
      "  self.obj[item] = s\n"
     ]
    }
   ],
   "source": [
    "most_matches = nb_matches.head(10)\n",
    "most_matches.loc[:,['name']] = pd.Categorical(most_matches['name'], categories=most_matches['name'], ordered=True)"
   ]
  },
  {
   "cell_type": "code",
   "execution_count": 32,
   "metadata": {},
   "outputs": [
    {
     "data": {
      "image/png": "[encoded data removed]",
      "text/plain": [
       "<Figure size 640x480 with 1 Axes>"
      ]
     },
     "metadata": {},
     "output_type": "display_data"
    },
    {
     "data": {
      "text/plain": [
       "<ggplot: (309457913)>"
      ]
     },
     "execution_count": 32,
     "metadata": {},
     "output_type": "execute_result"
    }
   ],
   "source": [
    "(\n",
    "    ggplot(most_matches, aes(x='name', y='total'))\n",
    "    + geom_bar(stat=\"identity\")\n",
    "    + xlab(\"Joueur\")\n",
    "    + ylab(\"Nombre de matches\")\n",
    "    + ggtitle(\"Joueurs ayant joué le plus de matches\")\n",
    "    + coord_flip()\n",
    ")"
   ]
  },
  {
   "cell_type": "markdown",
   "metadata": {},
   "source": [
    "<font color=\"grey-black\">On ne retourve que des légendes du jeu (à part peut-être David Ferrer, qui est le seul a ne pas avoir remporté de Grand Chelem). Ce sont des joueurs qui ont beaucoup gagné, et donc disputé beaucoup de matches. Seul 2 joueurs sont encore en activité : Roger Federer et Rafael Nadal.</font>"
   ]
  },
  {
   "cell_type": "markdown",
   "metadata": {},
   "source": [
    "<font color=\"grey-black\">Quels sont les joueurs qui ont remporté le plus de tournoi ?</font>"
   ]
  },
  {
   "cell_type": "code",
   "execution_count": 33,
   "metadata": {},
   "outputs": [],
   "source": [
    "top_winners = (\n",
    "    df >>\n",
    "    mask(X.tourney_stage == 'F') >>\n",
    "    select(X.winner_id, X.winner_name, X.tourney_level) >>\n",
    "    group_by(X.winner_id, X.winner_name, X.tourney_level) >>\n",
    "    mutate(nb = n(X.winner_id)) >>\n",
    "    ungroup() >>\n",
    "    group_by(X.winner_id, X.winner_name) >>\n",
    "    mutate(total = n(X.winner_id)) >>\n",
    "    distinct(X.winner_id, X.winner_name, X.tourney_level, X.nb, X.total)\n",
    ")"
   ]
  },
  {
   "cell_type": "code",
   "execution_count": 34,
   "metadata": {},
   "outputs": [],
   "source": [
    "top_winners = top_winners.sort_values(['total'], ascending=False)\n",
    "top_winners['winner_name'] = pd.Categorical(top_winners['winner_name'], categories=top_winners['winner_name'].drop_duplicates(), ordered=True)\n",
    "top_winners = top_winners[top_winners.winner_name.isin(top_winners.winner_name.drop_duplicates().head(10))]"
   ]
  },
  {
   "cell_type": "code",
   "execution_count": 35,
   "metadata": {},
   "outputs": [
    {
     "data": {
      "image/png": "[encoded data removed]",
      "text/plain": [
       "<Figure size 640x480 with 1 Axes>"
      ]
     },
     "metadata": {},
     "output_type": "display_data"
    },
    {
     "data": {
      "text/plain": [
       "<ggplot: (310394717)>"
      ]
     },
     "execution_count": 35,
     "metadata": {},
     "output_type": "execute_result"
    }
   ],
   "source": [
    "(\n",
    "    ggplot(top_winners, aes(x='winner_name', y='nb', fill='tourney_level'))\n",
    "    + geom_bar(stat=\"identity\")\n",
    "    + scale_y_continuous(breaks = range(0,max(top_winners['total']), 10))\n",
    "    + xlab(\"Joueur\")\n",
    "    + ylab(\"Nombre de tournois remportés\")\n",
    "    + ggtitle(\"Joueurs ayant remporté le plsu de tournois\")\n",
    "    + coord_flip()\n",
    ")"
   ]
  },
  {
   "cell_type": "markdown",
   "metadata": {},
   "source": [
    "<font color=\"grey-black\">Dans cette première partie, nous avons pu voir certaines informations intéressantes :</font>\n",
    "- <font color=\"grey-black\">Beaucoup de joueurs ont joué très peu de matches (la moitié, moins de 5 matches, et un quart un seul match).</font>\n",
    "- <font color=\"grey-black\">Les joueurs qui ont le plus gagné de tournois sont ceux qui ont joué le plus de matches.</font>\n",
    "- <font color=\"grey-black\">Les légendes du tennis ont joué beaucoup de matches.\n",
    "Pour pouvoir prédire l'issue d'un match impliquant un joueur, je pense qu'il est nécessaire d'avoir le plus de données possible sur ce joueur en particulier. Ces données étant manquantes, la création de nouvelles variables peut prendre un rôle encore plus importante pour avoir une performance d'un modèle de prédiction.</font>"
   ]
  },
  {
   "cell_type": "markdown",
   "metadata": {},
   "source": [
    "### <font color=\"brown\">EVOLUTIONS DU TENNIS</font>"
   ]
  },
  {
   "cell_type": "markdown",
   "metadata": {},
   "source": [
    "<font color=\"grey-black\">On peut se demander quel sont les grandes évolutions qu'a connu le tennis depuis le début de l'ère Open ?</font>"
   ]
  },
  {
   "cell_type": "markdown",
   "metadata": {},
   "source": [
    "<font color=\"grey-black\">Commençons par regarder l'évolution des différentes surfaces de jeu.</font>"
   ]
  },
  {
   "cell_type": "code",
   "execution_count": 36,
   "metadata": {},
   "outputs": [
    {
     "data": {
      "image/png": "[encoded data removed]",
      "text/plain": [
       "<Figure size 640x480 with 1 Axes>"
      ]
     },
     "metadata": {},
     "output_type": "display_data"
    },
    {
     "data": {
      "text/plain": [
       "<ggplot: (309355221)>"
      ]
     },
     "execution_count": 36,
     "metadata": {},
     "output_type": "execute_result"
    }
   ],
   "source": [
    "(\n",
    "    df >>\n",
    "    select(X.surface) >>\n",
    "    group_by(X.surface) >>\n",
    "    mutate(n=n(X.surface)) >>\n",
    "    distinct(X.surface, X.n) >>\n",
    "    ggplot(aes(x='surface', y='n'))\n",
    "    + geom_bar(stat=\"identity\")\n",
    "    + xlab(\"Surface\")\n",
    "    + ylab(\"Nombre de matches\")\n",
    "    + ggtitle(\"Nombre de matches par surface\")\n",
    ")"
   ]
  },
  {
   "cell_type": "markdown",
   "metadata": {},
   "source": [
    "<font color=\"grey-black\">La plupart des matches de l'ère Open se sont joués sur terre battue ou dur (ciment).</font>"
   ]
  },
  {
   "cell_type": "code",
   "execution_count": 37,
   "metadata": {},
   "outputs": [
    {
     "data": {
      "image/png": "[encoded data removed]",
      "text/plain": [
       "<Figure size 640x480 with 1 Axes>"
      ]
     },
     "metadata": {},
     "output_type": "display_data"
    },
    {
     "data": {
      "text/plain": [
       "<ggplot: (309357333)>"
      ]
     },
     "execution_count": 37,
     "metadata": {},
     "output_type": "execute_result"
    }
   ],
   "source": [
    "(\n",
    "    df >>\n",
    "    select(X.tourney_year, X.surface) >>\n",
    "    group_by(X.tourney_year, X.surface) >>\n",
    "    mutate(n=n(X.tourney_year)) >>\n",
    "    distinct(X.tourney_year, X.surface, X.n) >>\n",
    "    ggplot(aes(x='tourney_year', y='n', fill='surface'))\n",
    "    + geom_bar(stat=\"identity\")\n",
    "    + xlab(\"Année\")\n",
    "    + ylab(\"Nombre de matches\")\n",
    "    + ggtitle(\"Distribution du nombre de matches par année et surface\")\n",
    ")"
   ]
  },
  {
   "cell_type": "markdown",
   "metadata": {},
   "source": [
    "<font color=\"grey-black\">Depuis le milieu des années 1990, la moquette a commencé à disparaitre, et en moins de 10 ans, plus aucun tournoi ne se joue sur cette surface. Et de moins en moins de matchs ne disputent sur herbe, peu à peu remplacer par une surface dure. Deux facteurs peuvent expliquer la contraction de cette surface historique du tennis :</font>\n",
    "- <font color=\"grey-black\">le spectacle est moins télévisuel sur herbe (moins d'échanges, plus de points en un ou deux coups de raquette, etc...) et donc pour attirer les diffuseurs cette surface est abandonée par une parti du circuit mondial de tennis</font>\n",
    "- <font color=\"grey-black\">les cours de tennis en herbe demandent plus d'entretien que des courts en dur et il eput être compliqué d'entretenir un court en herbe dans certains endroits (comme les pays du Golf, l'Amérique du Sud, etc...) et donc avec la mondialisation du tennis qui s'est accélérée depuis le début de l'ère Open, l'herbe laisse place à des courts en dur ou en terre battue</font>"
   ]
  },
  {
   "cell_type": "markdown",
   "metadata": {},
   "source": [
    "<font color=\"grey-black\">Le nombre de matches par saison a-t-il évolué depuis lea fin des années soixante ?</font>"
   ]
  },
  {
   "cell_type": "code",
   "execution_count": 38,
   "metadata": {},
   "outputs": [
    {
     "data": {
      "image/png": "[encoded data removed]",
      "text/plain": [
       "<Figure size 640x480 with 1 Axes>"
      ]
     },
     "metadata": {},
     "output_type": "display_data"
    },
    {
     "data": {
      "text/plain": [
       "<ggplot: (310652789)>"
      ]
     },
     "execution_count": 38,
     "metadata": {},
     "output_type": "execute_result"
    }
   ],
   "source": [
    "(\n",
    "    df >>\n",
    "    group_by(X.tourney_year) >>\n",
    "    mutate(n = n(X.match_num)) >>\n",
    "    ungroup() >>\n",
    "    distinct(X.n, X.tourney_year) >>\n",
    "    ggplot(aes(x='tourney_year', y='n'))\n",
    "    + geom_bar(stat=\"identity\")\n",
    "    + xlab(\"Année\")\n",
    "    + ylab(\"Nombre de matches\")\n",
    "    + ggtitle(\"Distribution du nombre de matches par année\")\n",
    ")"
   ]
  },
  {
   "cell_type": "markdown",
   "metadata": {},
   "source": [
    "<font color=\"grey-black\">Depuis le milieu des années 1990, le nombre de match a également baissé. Mais il avait connu une forte augmentation dans les années 1970, pour atteindre presque 4000 matches sur le circuit. Ces dernières années ont plutôt connu environ 3000 matches.</font>"
   ]
  },
  {
   "cell_type": "markdown",
   "metadata": {},
   "source": [
    "## <font color=\"green\">STATISTIQUES DES JOUEURS ET CORRELATION AVEC LA VICTOIRE</font>"
   ]
  },
  {
   "cell_type": "markdown",
   "metadata": {},
   "source": [
    "<font color=\"grey-black\">Maintenant, il peut être intéressant de se demander si certaines caractéristiques de joueur (taille, age, main préférée, ...) ont une correlation avec le fait de gagner un match.</font>"
   ]
  },
  {
   "cell_type": "markdown",
   "metadata": {},
   "source": [
    "### <font color=\"BROWN\">TAILLE DES JOUEURS</font>"
   ]
  },
  {
   "cell_type": "markdown",
   "metadata": {},
   "source": [
    "<font color=\"grey-black\">Commençons par nous intéressé à la taille d'un joueur.  \n",
    "Un joueur plus grand a-t-il plus de chance de gagner contre un adversaire plus petit, ou inversement ?\n",
    "</font>"
   ]
  },
  {
   "cell_type": "code",
   "execution_count": 39,
   "metadata": {},
   "outputs": [
    {
     "name": "stderr",
     "output_type": "stream",
     "text": [
      "/Users/antoinemertz/.local/share/virtualenvs/tennis-game-prediction-G_Zh9rmk/lib/python3.7/site-packages/plotnine/layer.py:360: PlotnineWarning: stat_density : Removed 38267 rows containing non-finite values.\n",
      "  data = self.stat.compute_layer(data, params, layout)\n"
     ]
    },
    {
     "data": {
      "image/png": "[encoded data removed]",
      "text/plain": [
       "<Figure size 640x480 with 1 Axes>"
      ]
     },
     "metadata": {},
     "output_type": "display_data"
    },
    {
     "data": {
      "text/plain": [
       "<ggplot: (310406021)>"
      ]
     },
     "execution_count": 39,
     "metadata": {},
     "output_type": "execute_result"
    }
   ],
   "source": [
    "(\n",
    "    df >>\n",
    "    mutate(diff_ht = X.winner_ht - X.loser_ht) >>\n",
    "    ggplot(aes('diff_ht'))\n",
    "    + geom_density(adjust=1.5)\n",
    "    + xlab(\"Différence de taille entre vainqueur et perdant\")\n",
    "    + ggtitle(\"Densité de la différence de taille entre vainqueur et perdant\")\n",
    ")"
   ]
  },
  {
   "cell_type": "markdown",
   "metadata": {},
   "source": [
    "<font color=\"grey-black\">La différence de taille entre les joueurs s'affrontant ne semble pas être un facteur pour déterminer l'issue du match.  \n",
    "    Vérifions cela par un test statistique.</font>"
   ]
  },
  {
   "cell_type": "code",
   "execution_count": 40,
   "metadata": {},
   "outputs": [
    {
     "data": {
      "text/plain": [
       "Ttest_relResult(statistic=6.011461459955253, pvalue=1.8423165182418132e-09)"
      ]
     },
     "execution_count": 40,
     "metadata": {},
     "output_type": "execute_result"
    }
   ],
   "source": [
    "ttest_rel(df.winner_ht.fillna(df.winner_ht.append(df.loser_ht).median()),\n",
    "          df.loser_ht.fillna(df.winner_ht.append(df.loser_ht).median()),\n",
    "          nan_policy='omit')"
   ]
  },
  {
   "cell_type": "markdown",
   "metadata": {},
   "source": [
    "<font color=\"grey-black\">Le t-test pairé ne permet pas de conclure sur la non différence des moyennes des tailles des gagnants et des perdants. Il faudrait donc creuser un plus pour comprendre cette différence statistique des deux échantillons. Le test supporte l'idée qu'il existe une différence entre les deux moyennes.</font>"
   ]
  },
  {
   "cell_type": "markdown",
   "metadata": {},
   "source": [
    "### <font color=\"brown\">AGE DES JOUEURS</font>"
   ]
  },
  {
   "cell_type": "markdown",
   "metadata": {},
   "source": [
    "<font color=\"grey-black\">Regardons maintenant la variable `age`. Existe-t-il une différence statistique significative entre l'âge des gagnants et celui des perdants qu'on on compare les face à face.</font>"
   ]
  },
  {
   "cell_type": "code",
   "execution_count": 41,
   "metadata": {},
   "outputs": [
    {
     "name": "stderr",
     "output_type": "stream",
     "text": [
      "/Users/antoinemertz/.local/share/virtualenvs/tennis-game-prediction-G_Zh9rmk/lib/python3.7/site-packages/plotnine/layer.py:360: PlotnineWarning: stat_density : Removed 6231 rows containing non-finite values.\n",
      "  data = self.stat.compute_layer(data, params, layout)\n"
     ]
    },
    {
     "data": {
      "image/png": "[encoded data removed]",
      "text/plain": [
       "<Figure size 640x480 with 1 Axes>"
      ]
     },
     "metadata": {},
     "output_type": "display_data"
    },
    {
     "data": {
      "text/plain": [
       "<ggplot: (310548741)>"
      ]
     },
     "execution_count": 41,
     "metadata": {},
     "output_type": "execute_result"
    }
   ],
   "source": [
    "(\n",
    "    df >>\n",
    "    mutate(diff_age = X.winner_age - X.loser_age) >>\n",
    "    ggplot(aes('diff_age'))\n",
    "    + geom_density()\n",
    "    + xlab(\"Différence d'age entre vainqueur et perdant\")\n",
    "    + ggtitle(\"Densité de la différence d'age entre vainqueur et perdant\")\n",
    ")"
   ]
  },
  {
   "cell_type": "markdown",
   "metadata": {},
   "source": [
    "<font color=\"grey-black\">La différence d'age entre les joueurs s'affrontant ne semble pas non plus être un facteur pour déterminer l'issue du match.</font>"
   ]
  },
  {
   "cell_type": "code",
   "execution_count": 42,
   "metadata": {},
   "outputs": [
    {
     "data": {
      "text/plain": [
       "Ttest_relResult(statistic=-3.1475528151726224, pvalue=0.0016467184540850624)"
      ]
     },
     "execution_count": 42,
     "metadata": {},
     "output_type": "execute_result"
    }
   ],
   "source": [
    "ttest_rel(df.winner_age.fillna(df.winner_age.append(df.loser_age).median()), df.loser_age.fillna(df.winner_age.append(df.loser_age).median()), nan_policy='omit')"
   ]
  },
  {
   "cell_type": "markdown",
   "metadata": {},
   "source": [
    "<font color=\"grey-black\">La différence entre les moyennes de l'âge des gagnants et des perdants est stastiquement différente. Il faudrait donc creuser un plus pour comprendre cette différence statistique des deux échantillons.</font>"
   ]
  },
  {
   "cell_type": "markdown",
   "metadata": {},
   "source": [
    "### <font color=\"brown\">DROITIER VS GAUCHER</font>"
   ]
  },
  {
   "cell_type": "markdown",
   "metadata": {},
   "source": [
    "<font color=\"grey-black\">On peut étudier une dernière variable qui est celle de la main préférentielle des joueurs (droitier ou gaucher).</font>"
   ]
  },
  {
   "cell_type": "code",
   "execution_count": 43,
   "metadata": {},
   "outputs": [
    {
     "data": {
      "text/plain": [
       "R    0.691834\n",
       "U    0.243451\n",
       "L    0.064715\n",
       "Name: hand, dtype: float64"
      ]
     },
     "execution_count": 43,
     "metadata": {},
     "output_type": "execute_result"
    }
   ],
   "source": [
    "players_data.hand.value_counts(normalize=True)"
   ]
  },
  {
   "cell_type": "markdown",
   "metadata": {},
   "source": [
    "<font color=\"grey-black\">Seul 6% des joueurs sont gauchers et 69% sont droitiers (le reste étant non défini).</font>"
   ]
  },
  {
   "cell_type": "code",
   "execution_count": 44,
   "metadata": {},
   "outputs": [],
   "source": [
    "right_winners = df[(df.winner_hand == 'R') & (df.loser_hand == 'L')]"
   ]
  },
  {
   "cell_type": "code",
   "execution_count": 45,
   "metadata": {},
   "outputs": [],
   "source": [
    "left_winners = df[(df.winner_hand == 'L') & (df.loser_hand == 'R')]"
   ]
  },
  {
   "cell_type": "code",
   "execution_count": 46,
   "metadata": {},
   "outputs": [
    {
     "name": "stdout",
     "output_type": "stream",
     "text": [
      "Il y a eu 40562 face à face entre droitiers et gauchers, et les gauchers en ont remporté 52.30%, et représente 12.50% du total des victoires\n"
     ]
    }
   ],
   "source": [
    "print(\"Il y a eu {} face à face entre droitiers et gauchers, et les gauchers en ont remporté {:.2f}%, et représente {:.2f}% du total des victoires\".format(\n",
    "    right_winners.shape[0]+left_winners.shape[0],\n",
    "    left_winners.shape[0] / (right_winners.shape[0]+left_winners.shape[0]) * 100,\n",
    "    left_winners.shape[0] / df.shape[0] * 100\n",
    ")\n",
    "     )"
   ]
  },
  {
   "cell_type": "markdown",
   "metadata": {},
   "source": [
    "<font color=\"grey-black\">Les gauchers ont remporté 12% des matches dans le jeu de données en ne représentant que 6% des joueurs ! Etre gaucher donne plus de chance de remporter un match.</font>"
   ]
  },
  {
   "cell_type": "markdown",
   "metadata": {},
   "source": [
    "<font color=\"grey-black\">Dans cette première partie du notebook, j'ai donc fait un premier nettoyage de données rapide et regarder quelques données aberrantes. Après ces corrections, je n'ai pas souhaité imputer les valeurs manquantes pour ne pas tirer de conclusions erronées avec ces nouvelles données ajoutées. Pour cela il faudrait imputer les données manquantes et comparer les distributions avec et sans ces données ajoutées pour mesurer les erreurs et biais que cela ajoute.</font>\n",
    "\n",
    "<font color=\"grey-black\">Parmi les joueurs qui ont le plus joué on retrouve les joueurs qui ont le plus gagné : les légendes du tennis. Depuis le début de l'ère Open, les surface de jeu ont particulièrement changé pour favoriser le spectacle, notammenent télévisuel, et avec la mondialisation du jeu. Mais paradoxalement, malgré la multiplication des pays acceuillant des tournois ATP de tennis, le nombre de matches disputés par saison a diminué le milieu des années 1990.</font>\n",
    "\n",
    "<font color=\"grey-black\">Les t-test pairés sur l'âge et la taille des vainqueurs et des perdants mets en évidence une différence statistique entre les distributions mais visuellement cette différence n'est pas visible. Il faudrait creuser plus longtemps pour conclure sur cette différence. Et faire ce genre de test sur l'ensemble des variables quantitatives et d'autres tests comme un test ANOVA pour les variables qualitatives. Par contre il parait clair que les gauchers ont tendance à mieux performer que les droitiers sur le circuit mais le petit nombre de gauchers empêche de tirer de réelles conclusions sur cette partie du jeu.</font>"
   ]
  },
  {
   "cell_type": "markdown",
   "metadata": {},
   "source": [
    "# <font color=\"orange\">MODELES DE PREDICTION</font>"
   ]
  },
  {
   "cell_type": "markdown",
   "metadata": {},
   "source": [
    "## <font color=\"green\">QUALITÉ DE DONNÉES</font>"
   ]
  },
  {
   "cell_type": "markdown",
   "metadata": {},
   "source": [
    "<font color=\"grey-black\">Pour pouvoir construire un bon modèle de prédiction, il faut commencer par regarder la qualité du jeu de données. Dans le temps limité de l'exercice, je n'étudie uniquement les valeurs manquantes et l'éventualité de valeurs aberrantes (un age trop jeune ou trop vieux, une taille négative, etc...).</font>"
   ]
  },
  {
   "cell_type": "markdown",
   "metadata": {},
   "source": [
    "### <font color=\"brown\">DONNÉES ABERRANTES</font>"
   ]
  },
  {
   "cell_type": "markdown",
   "metadata": {},
   "source": [
    "<font color=\"grey-black\">Je vais rapidement chercher dans le jeu de données pour des données abérrantes (age négatif, taille irréel, etc...).</font>"
   ]
  },
  {
   "cell_type": "code",
   "execution_count": 47,
   "metadata": {},
   "outputs": [
    {
     "data": {
      "text/html": [
       "<div>\n",
       "<style scoped>\n",
       "    .dataframe tbody tr th:only-of-type {\n",
       "        vertical-align: middle;\n",
       "    }\n",
       "\n",
       "    .dataframe tbody tr th {\n",
       "        vertical-align: top;\n",
       "    }\n",
       "\n",
       "    .dataframe thead th {\n",
       "        text-align: right;\n",
       "    }\n",
       "</style>\n",
       "<table border=\"1\" class=\"dataframe\">\n",
       "  <thead>\n",
       "    <tr style=\"text-align: right;\">\n",
       "      <th></th>\n",
       "      <th>count</th>\n",
       "      <th>mean</th>\n",
       "      <th>std</th>\n",
       "      <th>min</th>\n",
       "      <th>25%</th>\n",
       "      <th>50%</th>\n",
       "      <th>75%</th>\n",
       "      <th>max</th>\n",
       "    </tr>\n",
       "  </thead>\n",
       "  <tbody>\n",
       "    <tr>\n",
       "      <th>best_of</th>\n",
       "      <td>169690.0</td>\n",
       "      <td>3.446072</td>\n",
       "      <td>0.832567</td>\n",
       "      <td>3.00</td>\n",
       "      <td>3.00</td>\n",
       "      <td>3.00</td>\n",
       "      <td>3.00</td>\n",
       "      <td>5.000000</td>\n",
       "    </tr>\n",
       "    <tr>\n",
       "      <th>draw_size</th>\n",
       "      <td>1232.0</td>\n",
       "      <td>75.022727</td>\n",
       "      <td>43.500071</td>\n",
       "      <td>4.00</td>\n",
       "      <td>64.00</td>\n",
       "      <td>64.00</td>\n",
       "      <td>128.00</td>\n",
       "      <td>128.000000</td>\n",
       "    </tr>\n",
       "    <tr>\n",
       "      <th>l_1stIn</th>\n",
       "      <td>83415.0</td>\n",
       "      <td>47.705149</td>\n",
       "      <td>19.359849</td>\n",
       "      <td>0.00</td>\n",
       "      <td>34.00</td>\n",
       "      <td>44.00</td>\n",
       "      <td>58.00</td>\n",
       "      <td>328.000000</td>\n",
       "    </tr>\n",
       "    <tr>\n",
       "      <th>l_1stWon</th>\n",
       "      <td>83415.0</td>\n",
       "      <td>31.683690</td>\n",
       "      <td>14.437267</td>\n",
       "      <td>0.00</td>\n",
       "      <td>21.00</td>\n",
       "      <td>29.00</td>\n",
       "      <td>39.00</td>\n",
       "      <td>284.000000</td>\n",
       "    </tr>\n",
       "    <tr>\n",
       "      <th>l_2ndWon</th>\n",
       "      <td>83415.0</td>\n",
       "      <td>15.029119</td>\n",
       "      <td>7.266522</td>\n",
       "      <td>0.00</td>\n",
       "      <td>10.00</td>\n",
       "      <td>14.00</td>\n",
       "      <td>19.00</td>\n",
       "      <td>101.000000</td>\n",
       "    </tr>\n",
       "    <tr>\n",
       "      <th>l_SvGms</th>\n",
       "      <td>83415.0</td>\n",
       "      <td>12.159995</td>\n",
       "      <td>4.114587</td>\n",
       "      <td>0.00</td>\n",
       "      <td>9.00</td>\n",
       "      <td>11.00</td>\n",
       "      <td>15.00</td>\n",
       "      <td>91.000000</td>\n",
       "    </tr>\n",
       "    <tr>\n",
       "      <th>l_ace</th>\n",
       "      <td>83415.0</td>\n",
       "      <td>4.779776</td>\n",
       "      <td>4.625035</td>\n",
       "      <td>0.00</td>\n",
       "      <td>2.00</td>\n",
       "      <td>4.00</td>\n",
       "      <td>7.00</td>\n",
       "      <td>103.000000</td>\n",
       "    </tr>\n",
       "    <tr>\n",
       "      <th>l_bpFaced</th>\n",
       "      <td>83415.0</td>\n",
       "      <td>8.751555</td>\n",
       "      <td>4.123616</td>\n",
       "      <td>0.00</td>\n",
       "      <td>6.00</td>\n",
       "      <td>8.00</td>\n",
       "      <td>11.00</td>\n",
       "      <td>35.000000</td>\n",
       "    </tr>\n",
       "    <tr>\n",
       "      <th>l_bpSaved</th>\n",
       "      <td>83415.0</td>\n",
       "      <td>4.808164</td>\n",
       "      <td>3.270778</td>\n",
       "      <td>0.00</td>\n",
       "      <td>2.00</td>\n",
       "      <td>4.00</td>\n",
       "      <td>7.00</td>\n",
       "      <td>28.000000</td>\n",
       "    </tr>\n",
       "    <tr>\n",
       "      <th>l_df</th>\n",
       "      <td>83415.0</td>\n",
       "      <td>3.509081</td>\n",
       "      <td>2.623945</td>\n",
       "      <td>0.00</td>\n",
       "      <td>2.00</td>\n",
       "      <td>3.00</td>\n",
       "      <td>5.00</td>\n",
       "      <td>26.000000</td>\n",
       "    </tr>\n",
       "    <tr>\n",
       "      <th>l_svpt</th>\n",
       "      <td>83415.0</td>\n",
       "      <td>80.717904</td>\n",
       "      <td>29.485231</td>\n",
       "      <td>0.00</td>\n",
       "      <td>59.00</td>\n",
       "      <td>75.00</td>\n",
       "      <td>96.00</td>\n",
       "      <td>489.000000</td>\n",
       "    </tr>\n",
       "    <tr>\n",
       "      <th>loser_age</th>\n",
       "      <td>164700.0</td>\n",
       "      <td>25.661378</td>\n",
       "      <td>4.074386</td>\n",
       "      <td>14.38</td>\n",
       "      <td>22.75</td>\n",
       "      <td>25.32</td>\n",
       "      <td>28.25</td>\n",
       "      <td>63.690000</td>\n",
       "    </tr>\n",
       "    <tr>\n",
       "      <th>loser_ht</th>\n",
       "      <td>139052.0</td>\n",
       "      <td>184.064918</td>\n",
       "      <td>6.624417</td>\n",
       "      <td>160.00</td>\n",
       "      <td>180.00</td>\n",
       "      <td>185.00</td>\n",
       "      <td>188.00</td>\n",
       "      <td>208.000000</td>\n",
       "    </tr>\n",
       "    <tr>\n",
       "      <th>loser_id</th>\n",
       "      <td>169690.0</td>\n",
       "      <td>102829.308574</td>\n",
       "      <td>6072.998247</td>\n",
       "      <td>100001.00</td>\n",
       "      <td>100529.00</td>\n",
       "      <td>101736.00</td>\n",
       "      <td>103821.00</td>\n",
       "      <td>208997.000000</td>\n",
       "    </tr>\n",
       "    <tr>\n",
       "      <th>loser_rank</th>\n",
       "      <td>145909.0</td>\n",
       "      <td>120.815721</td>\n",
       "      <td>161.539365</td>\n",
       "      <td>1.00</td>\n",
       "      <td>40.00</td>\n",
       "      <td>77.00</td>\n",
       "      <td>134.00</td>\n",
       "      <td>2159.000000</td>\n",
       "    </tr>\n",
       "    <tr>\n",
       "      <th>loser_rank_points</th>\n",
       "      <td>93025.0</td>\n",
       "      <td>840.134727</td>\n",
       "      <td>940.800241</td>\n",
       "      <td>1.00</td>\n",
       "      <td>367.00</td>\n",
       "      <td>618.00</td>\n",
       "      <td>985.00</td>\n",
       "      <td>16950.000000</td>\n",
       "    </tr>\n",
       "    <tr>\n",
       "      <th>loser_seed</th>\n",
       "      <td>32853.0</td>\n",
       "      <td>7.589109</td>\n",
       "      <td>5.880047</td>\n",
       "      <td>1.00</td>\n",
       "      <td>4.00</td>\n",
       "      <td>6.00</td>\n",
       "      <td>10.00</td>\n",
       "      <td>35.000000</td>\n",
       "    </tr>\n",
       "    <tr>\n",
       "      <th>match_num</th>\n",
       "      <td>169690.0</td>\n",
       "      <td>52.853492</td>\n",
       "      <td>81.992868</td>\n",
       "      <td>1.00</td>\n",
       "      <td>9.00</td>\n",
       "      <td>22.00</td>\n",
       "      <td>45.00</td>\n",
       "      <td>701.000000</td>\n",
       "    </tr>\n",
       "    <tr>\n",
       "      <th>minutes</th>\n",
       "      <td>82103.0</td>\n",
       "      <td>100.786037</td>\n",
       "      <td>40.332392</td>\n",
       "      <td>1.00</td>\n",
       "      <td>73.00</td>\n",
       "      <td>94.00</td>\n",
       "      <td>123.00</td>\n",
       "      <td>1146.000000</td>\n",
       "    </tr>\n",
       "    <tr>\n",
       "      <th>w_1stIn</th>\n",
       "      <td>83415.0</td>\n",
       "      <td>47.299514</td>\n",
       "      <td>19.191976</td>\n",
       "      <td>0.00</td>\n",
       "      <td>33.00</td>\n",
       "      <td>44.00</td>\n",
       "      <td>57.00</td>\n",
       "      <td>361.000000</td>\n",
       "    </tr>\n",
       "    <tr>\n",
       "      <th>w_1stWon</th>\n",
       "      <td>83415.0</td>\n",
       "      <td>35.659522</td>\n",
       "      <td>13.841457</td>\n",
       "      <td>0.00</td>\n",
       "      <td>26.00</td>\n",
       "      <td>33.00</td>\n",
       "      <td>43.00</td>\n",
       "      <td>292.000000</td>\n",
       "    </tr>\n",
       "    <tr>\n",
       "      <th>w_2ndWon</th>\n",
       "      <td>83415.0</td>\n",
       "      <td>16.806102</td>\n",
       "      <td>7.026601</td>\n",
       "      <td>0.00</td>\n",
       "      <td>12.00</td>\n",
       "      <td>16.00</td>\n",
       "      <td>21.00</td>\n",
       "      <td>82.000000</td>\n",
       "    </tr>\n",
       "    <tr>\n",
       "      <th>w_SvGms</th>\n",
       "      <td>83415.0</td>\n",
       "      <td>12.354780</td>\n",
       "      <td>4.102224</td>\n",
       "      <td>0.00</td>\n",
       "      <td>9.00</td>\n",
       "      <td>11.00</td>\n",
       "      <td>15.00</td>\n",
       "      <td>90.000000</td>\n",
       "    </tr>\n",
       "    <tr>\n",
       "      <th>w_ace</th>\n",
       "      <td>83415.0</td>\n",
       "      <td>6.461823</td>\n",
       "      <td>5.297845</td>\n",
       "      <td>0.00</td>\n",
       "      <td>3.00</td>\n",
       "      <td>5.00</td>\n",
       "      <td>9.00</td>\n",
       "      <td>113.000000</td>\n",
       "    </tr>\n",
       "    <tr>\n",
       "      <th>w_bpFaced</th>\n",
       "      <td>83415.0</td>\n",
       "      <td>5.174381</td>\n",
       "      <td>4.058311</td>\n",
       "      <td>0.00</td>\n",
       "      <td>2.00</td>\n",
       "      <td>4.00</td>\n",
       "      <td>7.00</td>\n",
       "      <td>34.000000</td>\n",
       "    </tr>\n",
       "    <tr>\n",
       "      <th>w_bpSaved</th>\n",
       "      <td>83415.0</td>\n",
       "      <td>3.528790</td>\n",
       "      <td>3.081844</td>\n",
       "      <td>0.00</td>\n",
       "      <td>1.00</td>\n",
       "      <td>3.00</td>\n",
       "      <td>5.00</td>\n",
       "      <td>24.000000</td>\n",
       "    </tr>\n",
       "    <tr>\n",
       "      <th>w_df</th>\n",
       "      <td>83415.0</td>\n",
       "      <td>2.743859</td>\n",
       "      <td>2.368677</td>\n",
       "      <td>0.00</td>\n",
       "      <td>1.00</td>\n",
       "      <td>2.00</td>\n",
       "      <td>4.00</td>\n",
       "      <td>23.000000</td>\n",
       "    </tr>\n",
       "    <tr>\n",
       "      <th>w_svpt</th>\n",
       "      <td>83415.0</td>\n",
       "      <td>77.906887</td>\n",
       "      <td>29.532338</td>\n",
       "      <td>0.00</td>\n",
       "      <td>56.00</td>\n",
       "      <td>73.00</td>\n",
       "      <td>94.00</td>\n",
       "      <td>491.000000</td>\n",
       "    </tr>\n",
       "    <tr>\n",
       "      <th>winner_age</th>\n",
       "      <td>167929.0</td>\n",
       "      <td>25.612639</td>\n",
       "      <td>3.943494</td>\n",
       "      <td>14.36</td>\n",
       "      <td>22.76</td>\n",
       "      <td>25.25</td>\n",
       "      <td>28.13</td>\n",
       "      <td>58.718686</td>\n",
       "    </tr>\n",
       "    <tr>\n",
       "      <th>winner_ht</th>\n",
       "      <td>150884.0</td>\n",
       "      <td>184.277200</td>\n",
       "      <td>6.632803</td>\n",
       "      <td>160.00</td>\n",
       "      <td>180.00</td>\n",
       "      <td>185.00</td>\n",
       "      <td>188.00</td>\n",
       "      <td>208.000000</td>\n",
       "    </tr>\n",
       "    <tr>\n",
       "      <th>winner_id</th>\n",
       "      <td>169690.0</td>\n",
       "      <td>102362.973540</td>\n",
       "      <td>3958.369064</td>\n",
       "      <td>100002.00</td>\n",
       "      <td>100445.00</td>\n",
       "      <td>101611.00</td>\n",
       "      <td>103694.00</td>\n",
       "      <td>208996.000000</td>\n",
       "    </tr>\n",
       "    <tr>\n",
       "      <th>winner_rank</th>\n",
       "      <td>149773.0</td>\n",
       "      <td>81.409827</td>\n",
       "      <td>123.875156</td>\n",
       "      <td>1.00</td>\n",
       "      <td>18.00</td>\n",
       "      <td>48.00</td>\n",
       "      <td>96.00</td>\n",
       "      <td>2101.000000</td>\n",
       "    </tr>\n",
       "    <tr>\n",
       "      <th>winner_rank_points</th>\n",
       "      <td>94291.0</td>\n",
       "      <td>1342.313296</td>\n",
       "      <td>1672.646568</td>\n",
       "      <td>1.00</td>\n",
       "      <td>496.00</td>\n",
       "      <td>835.00</td>\n",
       "      <td>1508.00</td>\n",
       "      <td>16950.000000</td>\n",
       "    </tr>\n",
       "    <tr>\n",
       "      <th>winner_seed</th>\n",
       "      <td>65295.0</td>\n",
       "      <td>6.209495</td>\n",
       "      <td>5.401583</td>\n",
       "      <td>1.00</td>\n",
       "      <td>2.00</td>\n",
       "      <td>5.00</td>\n",
       "      <td>8.00</td>\n",
       "      <td>35.000000</td>\n",
       "    </tr>\n",
       "    <tr>\n",
       "      <th>tourney_year</th>\n",
       "      <td>169690.0</td>\n",
       "      <td>1992.990017</td>\n",
       "      <td>13.970686</td>\n",
       "      <td>1968.00</td>\n",
       "      <td>1981.00</td>\n",
       "      <td>1993.00</td>\n",
       "      <td>2005.00</td>\n",
       "      <td>2019.000000</td>\n",
       "    </tr>\n",
       "  </tbody>\n",
       "</table>\n",
       "</div>"
      ],
      "text/plain": [
       "                       count           mean          std        min  \\\n",
       "best_of             169690.0       3.446072     0.832567       3.00   \n",
       "draw_size             1232.0      75.022727    43.500071       4.00   \n",
       "l_1stIn              83415.0      47.705149    19.359849       0.00   \n",
       "l_1stWon             83415.0      31.683690    14.437267       0.00   \n",
       "l_2ndWon             83415.0      15.029119     7.266522       0.00   \n",
       "l_SvGms              83415.0      12.159995     4.114587       0.00   \n",
       "l_ace                83415.0       4.779776     4.625035       0.00   \n",
       "l_bpFaced            83415.0       8.751555     4.123616       0.00   \n",
       "l_bpSaved            83415.0       4.808164     3.270778       0.00   \n",
       "l_df                 83415.0       3.509081     2.623945       0.00   \n",
       "l_svpt               83415.0      80.717904    29.485231       0.00   \n",
       "loser_age           164700.0      25.661378     4.074386      14.38   \n",
       "loser_ht            139052.0     184.064918     6.624417     160.00   \n",
       "loser_id            169690.0  102829.308574  6072.998247  100001.00   \n",
       "loser_rank          145909.0     120.815721   161.539365       1.00   \n",
       "loser_rank_points    93025.0     840.134727   940.800241       1.00   \n",
       "loser_seed           32853.0       7.589109     5.880047       1.00   \n",
       "match_num           169690.0      52.853492    81.992868       1.00   \n",
       "minutes              82103.0     100.786037    40.332392       1.00   \n",
       "w_1stIn              83415.0      47.299514    19.191976       0.00   \n",
       "w_1stWon             83415.0      35.659522    13.841457       0.00   \n",
       "w_2ndWon             83415.0      16.806102     7.026601       0.00   \n",
       "w_SvGms              83415.0      12.354780     4.102224       0.00   \n",
       "w_ace                83415.0       6.461823     5.297845       0.00   \n",
       "w_bpFaced            83415.0       5.174381     4.058311       0.00   \n",
       "w_bpSaved            83415.0       3.528790     3.081844       0.00   \n",
       "w_df                 83415.0       2.743859     2.368677       0.00   \n",
       "w_svpt               83415.0      77.906887    29.532338       0.00   \n",
       "winner_age          167929.0      25.612639     3.943494      14.36   \n",
       "winner_ht           150884.0     184.277200     6.632803     160.00   \n",
       "winner_id           169690.0  102362.973540  3958.369064  100002.00   \n",
       "winner_rank         149773.0      81.409827   123.875156       1.00   \n",
       "winner_rank_points   94291.0    1342.313296  1672.646568       1.00   \n",
       "winner_seed          65295.0       6.209495     5.401583       1.00   \n",
       "tourney_year        169690.0    1992.990017    13.970686    1968.00   \n",
       "\n",
       "                          25%        50%        75%            max  \n",
       "best_of                  3.00       3.00       3.00       5.000000  \n",
       "draw_size               64.00      64.00     128.00     128.000000  \n",
       "l_1stIn                 34.00      44.00      58.00     328.000000  \n",
       "l_1stWon                21.00      29.00      39.00     284.000000  \n",
       "l_2ndWon                10.00      14.00      19.00     101.000000  \n",
       "l_SvGms                  9.00      11.00      15.00      91.000000  \n",
       "l_ace                    2.00       4.00       7.00     103.000000  \n",
       "l_bpFaced                6.00       8.00      11.00      35.000000  \n",
       "l_bpSaved                2.00       4.00       7.00      28.000000  \n",
       "l_df                     2.00       3.00       5.00      26.000000  \n",
       "l_svpt                  59.00      75.00      96.00     489.000000  \n",
       "loser_age               22.75      25.32      28.25      63.690000  \n",
       "loser_ht               180.00     185.00     188.00     208.000000  \n",
       "loser_id            100529.00  101736.00  103821.00  208997.000000  \n",
       "loser_rank              40.00      77.00     134.00    2159.000000  \n",
       "loser_rank_points      367.00     618.00     985.00   16950.000000  \n",
       "loser_seed               4.00       6.00      10.00      35.000000  \n",
       "match_num                9.00      22.00      45.00     701.000000  \n",
       "minutes                 73.00      94.00     123.00    1146.000000  \n",
       "w_1stIn                 33.00      44.00      57.00     361.000000  \n",
       "w_1stWon                26.00      33.00      43.00     292.000000  \n",
       "w_2ndWon                12.00      16.00      21.00      82.000000  \n",
       "w_SvGms                  9.00      11.00      15.00      90.000000  \n",
       "w_ace                    3.00       5.00       9.00     113.000000  \n",
       "w_bpFaced                2.00       4.00       7.00      34.000000  \n",
       "w_bpSaved                1.00       3.00       5.00      24.000000  \n",
       "w_df                     1.00       2.00       4.00      23.000000  \n",
       "w_svpt                  56.00      73.00      94.00     491.000000  \n",
       "winner_age              22.76      25.25      28.13      58.718686  \n",
       "winner_ht              180.00     185.00     188.00     208.000000  \n",
       "winner_id           100445.00  101611.00  103694.00  208996.000000  \n",
       "winner_rank             18.00      48.00      96.00    2101.000000  \n",
       "winner_rank_points     496.00     835.00    1508.00   16950.000000  \n",
       "winner_seed              2.00       5.00       8.00      35.000000  \n",
       "tourney_year          1981.00    1993.00    2005.00    2019.000000  "
      ]
     },
     "execution_count": 47,
     "metadata": {},
     "output_type": "execute_result"
    }
   ],
   "source": [
    "df.describe().transpose()"
   ]
  },
  {
   "cell_type": "markdown",
   "metadata": {},
   "source": [
    "<font color=\"grey-black\">Il ne semble y avoir de données aberrantes (taille entre 1m60 et 2m08, age entre 14 et 46 ans, ...). Je ne pousserai pas plus loin dans la recherche de données aberrantes.</font>"
   ]
  },
  {
   "cell_type": "markdown",
   "metadata": {},
   "source": [
    "### <font color=\"brown\">VALEURS MANQUANTES</font>"
   ]
  },
  {
   "cell_type": "markdown",
   "metadata": {},
   "source": [
    "<font color=\"grey-black\">Je représente l'évolution du nombre de données manquantes par an. Je m'attends à voir plus de valeurs manquantes pour les matches les plus vieux, car on collecte de plus en plus de données dans le monde, et le tennis ne fait pas exception. Surtout sur les plus petits tournois (ATP 250, Challengers, ...).</font>"
   ]
  },
  {
   "cell_type": "code",
   "execution_count": 48,
   "metadata": {},
   "outputs": [],
   "source": [
    "# creer une nouvelle colonne, du nombre de donnees manquantes par ligne\n",
    "df['nb_nan'] = df.isnull().sum(axis=1)"
   ]
  },
  {
   "cell_type": "code",
   "execution_count": 49,
   "metadata": {},
   "outputs": [
    {
     "data": {
      "image/png": "[encoded data removed]",
      "text/plain": [
       "<Figure size 640x480 with 1 Axes>"
      ]
     },
     "metadata": {},
     "output_type": "display_data"
    },
    {
     "data": {
      "text/plain": [
       "<ggplot: (310404465)>"
      ]
     },
     "execution_count": 49,
     "metadata": {},
     "output_type": "execute_result"
    }
   ],
   "source": [
    "(\n",
    "    df >>\n",
    "    select(X.tourney_year, X.nb_nan) >>\n",
    "    group_by(X.tourney_year) >>\n",
    "    summarize(nan = X.nb_nan.sum()) >>\n",
    "    ggplot(aes(x='tourney_year', y='nan'))\n",
    "    + geom_line()\n",
    "    + scale_x_continuous(breaks = range(min(df['tourney_year']) - min(df['tourney_year'])%10,max(df['tourney_year'])+5, 2))\n",
    "    + theme(axis_text_x=element_text(angle=90, hjust=1))\n",
    ")"
   ]
  },
  {
   "cell_type": "markdown",
   "metadata": {},
   "source": [
    "<font color=\"purple\"><b>Les données manquantes concernent principalement les matches d'avant 1993. Pour cette raison, j'ai décidé de restreindre la période de temps du jeu de données utilisé dans la suite. La suite des analyses se fait donc avec les données du 1 er janvier 1993 au début d'année 2019.</b></font>"
   ]
  },
  {
   "cell_type": "code",
   "execution_count": 50,
   "metadata": {},
   "outputs": [],
   "source": [
    "df = df[df.tourney_year > 1992].reset_index(drop=True)"
   ]
  },
  {
   "cell_type": "code",
   "execution_count": 51,
   "metadata": {},
   "outputs": [
    {
     "data": {
      "text/plain": [
       "(85370, 51)"
      ]
     },
     "execution_count": 51,
     "metadata": {},
     "output_type": "execute_result"
    }
   ],
   "source": [
    "df.shape"
   ]
  },
  {
   "cell_type": "markdown",
   "metadata": {},
   "source": [
    "<font color=\"grey-black\">Il reste 89100 matches à étudier.</font>"
   ]
  },
  {
   "cell_type": "code",
   "execution_count": 52,
   "metadata": {},
   "outputs": [
    {
     "data": {
      "text/plain": [
       "best_of                   0\n",
       "draw_size             85370\n",
       "l_1stIn                8565\n",
       "l_1stWon               8565\n",
       "l_2ndWon               8565\n",
       "l_SvGms                8565\n",
       "l_ace                  8565\n",
       "l_bpFaced              8565\n",
       "l_bpSaved              8565\n",
       "l_df                   8565\n",
       "l_svpt                 8565\n",
       "loser_age               107\n",
       "loser_entry           68634\n",
       "loser_hand               43\n",
       "loser_ht               8353\n",
       "loser_id                  0\n",
       "loser_ioc                 0\n",
       "loser_name                0\n",
       "loser_rank             1962\n",
       "loser_rank_points      2497\n",
       "loser_seed            66584\n",
       "match_num                 0\n",
       "minutes                9877\n",
       "tourney_stage             0\n",
       "score                     2\n",
       "surface                 198\n",
       "tourney_date              0\n",
       "tourney_id                0\n",
       "tourney_level             0\n",
       "tourney_name              0\n",
       "w_1stIn                8565\n",
       "w_1stWon               8565\n",
       "w_2ndWon               8565\n",
       "w_SvGms                8565\n",
       "w_ace                  8565\n",
       "w_bpFaced              8565\n",
       "w_bpSaved              8565\n",
       "w_df                   8565\n",
       "w_svpt                 8565\n",
       "winner_age               34\n",
       "winner_entry          75358\n",
       "winner_hand              18\n",
       "winner_ht              5028\n",
       "winner_id                 0\n",
       "winner_ioc                0\n",
       "winner_name               0\n",
       "winner_rank             856\n",
       "winner_rank_points     1397\n",
       "winner_seed           50789\n",
       "tourney_year              0\n",
       "nb_nan                    0\n",
       "dtype: int64"
      ]
     },
     "execution_count": 52,
     "metadata": {},
     "output_type": "execute_result"
    }
   ],
   "source": [
    "df.isnull().sum()"
   ]
  },
  {
   "cell_type": "markdown",
   "metadata": {},
   "source": [
    "<font color=\"grey-black\">Environ 9000 matches (10% des matches dans le jeu de données) non pas de statistiques sur le déroulé du match (pourcentage de 1er service, de balle de break, du nombre d'aces, etc...). La variable `draw_size` est elle complémtement manquante dans ce nouveau jeu de données.  \n",
    "Deux options peuvent être envisagé à ce stade, et dans le temps limité: </font>\n",
    "- <font color=\"grey-black\">Tout simplement les supprimer du jeu de données, mais cela diminuerait encore le nombre de matches disponibles.</font>\n",
    "- <font color=\"grey-black\">Construire une méthode d'implémentation des données manquantes.</font>\n",
    "\n",
    "<font color=\"purple\"><b>J'opte pour cette seconde option : pour aller vite, je vais d'abord remplacer les valeurs manquantes par la médiane de la variable.</b></font>"
   ]
  },
  {
   "cell_type": "code",
   "execution_count": 53,
   "metadata": {},
   "outputs": [],
   "source": [
    "df = df.drop(['draw_size'], axis=1)"
   ]
  },
  {
   "cell_type": "code",
   "execution_count": 54,
   "metadata": {},
   "outputs": [],
   "source": [
    "df = df.fillna(df.median())"
   ]
  },
  {
   "cell_type": "markdown",
   "metadata": {},
   "source": [
    "## <font color=\"green\">COORÉLATIONS</font>"
   ]
  },
  {
   "cell_type": "markdown",
   "metadata": {},
   "source": [
    "<font color=\"grey-black\">Maintenant, pour conclure cette partie d'exploration des données, je vais regarder quelles stastiques des matches sont les plus corrélées entre elles et surtout entre l'issue du match.</font>"
   ]
  },
  {
   "cell_type": "code",
   "execution_count": 55,
   "metadata": {},
   "outputs": [
    {
     "data": {
      "text/plain": [
       "Index(['best_of', 'l_1stIn', 'l_1stWon', 'l_2ndWon', 'l_SvGms', 'l_ace',\n",
       "       'l_bpFaced', 'l_bpSaved', 'l_df', 'l_svpt', 'loser_age', 'loser_entry',\n",
       "       'loser_hand', 'loser_ht', 'loser_id', 'loser_ioc', 'loser_name',\n",
       "       'loser_rank', 'loser_rank_points', 'loser_seed', 'match_num', 'minutes',\n",
       "       'tourney_stage', 'score', 'surface', 'tourney_date', 'tourney_id',\n",
       "       'tourney_level', 'tourney_name', 'w_1stIn', 'w_1stWon', 'w_2ndWon',\n",
       "       'w_SvGms', 'w_ace', 'w_bpFaced', 'w_bpSaved', 'w_df', 'w_svpt',\n",
       "       'winner_age', 'winner_entry', 'winner_hand', 'winner_ht', 'winner_id',\n",
       "       'winner_ioc', 'winner_name', 'winner_rank', 'winner_rank_points',\n",
       "       'winner_seed', 'tourney_year', 'nb_nan'],\n",
       "      dtype='object')"
      ]
     },
     "execution_count": 55,
     "metadata": {},
     "output_type": "execute_result"
    }
   ],
   "source": [
    "df.columns"
   ]
  },
  {
   "cell_type": "code",
   "execution_count": 56,
   "metadata": {},
   "outputs": [
    {
     "name": "stderr",
     "output_type": "stream",
     "text": [
      "/Users/antoinemertz/.local/share/virtualenvs/tennis-game-prediction-G_Zh9rmk/lib/python3.7/site-packages/ipykernel_launcher.py:4: SettingWithCopyWarning: \n",
      "A value is trying to be set on a copy of a slice from a DataFrame.\n",
      "Try using .loc[row_indexer,col_indexer] = value instead\n",
      "\n",
      "See the caveats in the documentation: https://pandas.pydata.org/pandas-docs/stable/user_guide/indexing.html#returning-a-view-versus-a-copy\n",
      "  after removing the cwd from sys.path.\n"
     ]
    }
   ],
   "source": [
    "X = df[[\"l_1stIn\", \"l_1stWon\", \"l_2ndWon\", \"l_SvGms\", \"l_ace\", \"l_bpFaced\", \"l_bpSaved\", \"l_df\", \"l_svpt\", \"loser_age\", \"loser_ht\", \"loser_rank\", \"loser_rank_points\",\n",
    "        \"w_1stIn\", \"w_1stWon\", \"w_2ndWon\", \"w_SvGms\", \"w_ace\", \"w_bpFaced\", \"w_bpSaved\", \"w_df\", \"w_svpt\", \"winner_age\", \"winner_ht\", \"winner_rank\", \"winner_rank_points\",\n",
    "       ]]\n",
    "X[\"result\"] = 1"
   ]
  },
  {
   "cell_type": "code",
   "execution_count": 57,
   "metadata": {},
   "outputs": [],
   "source": [
    "cor = X.corr()"
   ]
  },
  {
   "cell_type": "code",
   "execution_count": 58,
   "metadata": {},
   "outputs": [
    {
     "data": {
      "image/png": "[encoded data removed]",
      "text/plain": [
       "<Figure size 864x648 with 2 Axes>"
      ]
     },
     "metadata": {
      "needs_background": "light"
     },
     "output_type": "display_data"
    }
   ],
   "source": [
    "plt.rcParams[\"figure.figsize\"] = (12, 9)\n",
    "sns.heatmap(cor, annot=False, cmap=plt.cm.Reds)\n",
    "plt.show()"
   ]
  },
  {
   "cell_type": "markdown",
   "metadata": {},
   "source": [
    "<font color=\"grey-black\">Beaucoup de statistiques d'un match sont fortement corrélées entre elles, comme le nombre de 1er services et le nombre de points remportés après un premier service. Mais peu de données sont fortement corrélées avec l'issue d'un match.</font>"
   ]
  },
  {
   "cell_type": "markdown",
   "metadata": {},
   "source": [
    "## <font color=\"green\">MACHINE LEARNING SETUP</font>"
   ]
  },
  {
   "cell_type": "markdown",
   "metadata": {},
   "source": [
    "<font color=\"grey-black\">Pour développer mes modèles, je vais construire deux jeux de données : un jeu d'entraînement et un jeu de test. Le jeu d'entraînement sert à construire les modèles de Machine Learning et les ajuster (training), et le second sert à évaluer les performances du modèle construit (testing). Les modèles seront comparés sur leur performance sur le jeu de test.  \n",
    "15% du jeu de données est reservé pour le jeu de test : 72564 matches serviront à la construction des modèles, et 12806 serviront à mesurer les performances des modèles.</font>"
   ]
  },
  {
   "cell_type": "code",
   "execution_count": 59,
   "metadata": {},
   "outputs": [],
   "source": [
    "df_train, df_test = train_test_split(df, test_size=0.15, random_state=1234)\n",
    "df_train = df_train.sort_values(['tourney_date', 'tourney_id', 'match_num'])\n",
    "df_test = df_test.sort_values(['tourney_date', 'tourney_id', 'match_num'])"
   ]
  },
  {
   "cell_type": "code",
   "execution_count": 60,
   "metadata": {},
   "outputs": [
    {
     "data": {
      "text/plain": [
       "(72564, 50)"
      ]
     },
     "execution_count": 60,
     "metadata": {},
     "output_type": "execute_result"
    }
   ],
   "source": [
    "df_train.shape"
   ]
  },
  {
   "cell_type": "code",
   "execution_count": 61,
   "metadata": {},
   "outputs": [
    {
     "data": {
      "text/plain": [
       "(12806, 50)"
      ]
     },
     "execution_count": 61,
     "metadata": {},
     "output_type": "execute_result"
    }
   ],
   "source": [
    "df_test.shape"
   ]
  },
  {
   "cell_type": "markdown",
   "metadata": {},
   "source": [
    "## <font color=\"green\">PREMIER MODÈLE : BASELINE</font>"
   ]
  },
  {
   "cell_type": "markdown",
   "metadata": {},
   "source": [
    "<font color=\"grey-black\">Je commence par développer un premier modèle simple, qui sert de baseline pour mesurer les performances d'autres modèles, plus sophistiqués. Toujours commencer par les modèles les plus simples, et si les performances sont bonnes, cela ne sert à rien de développer des modèles plus compliqués, qui seront difficiles à maintenir, à redévelopper dans un autre language si besoin, etc...</font>"
   ]
  },
  {
   "cell_type": "markdown",
   "metadata": {},
   "source": [
    "<font color=\"purple\"><b>Pour cette baseline, je construis un modèle qui prédit en tant que vainqueur, le joueur le mieux classé au classement ATP.</b></font>"
   ]
  },
  {
   "cell_type": "code",
   "execution_count": 62,
   "metadata": {},
   "outputs": [
    {
     "name": "stdout",
     "output_type": "stream",
     "text": [
      "Score on train set: 65.2%\n"
     ]
    }
   ],
   "source": [
    "print(\"Score on train set: {:.1f}%\".format((df_train['winner_rank_points'] >= df_train['loser_rank_points']).sum() / df_train.shape[0]*100))"
   ]
  },
  {
   "cell_type": "code",
   "execution_count": 63,
   "metadata": {},
   "outputs": [
    {
     "name": "stdout",
     "output_type": "stream",
     "text": [
      "Score on test set: 65.5%\n"
     ]
    }
   ],
   "source": [
    "print(\"Score on test set: {:.1f}%\".format((df_test['winner_rank_points'] >= df_test['loser_rank_points']).sum() / df_test.shape[0]*100))"
   ]
  },
  {
   "cell_type": "markdown",
   "metadata": {},
   "source": [
    "<font color=\"grey-black\">Ce premier modèle a une performance dee 65,5% de bonne prédiction sur le jeu de données test (et 65,2% sur le jeu de donnée d'entraînement).</font>"
   ]
  },
  {
   "cell_type": "markdown",
   "metadata": {},
   "source": [
    "## <font color=\"green\">DEUXIÈME MODÈLE : MACHINE LEARNING SANS FEATURE ENGINEERING</font>"
   ]
  },
  {
   "cell_type": "markdown",
   "metadata": {},
   "source": [
    "<font color=\"grey-black\">En deuxième modèle, je décide de partir sur un modèle de classification de Machine Learning. Mais pour ce premier essai, je ne crée pas de nouvelle variable et n'utilise que celle déjà présente dans le jeu de données.</font>"
   ]
  },
  {
   "cell_type": "markdown",
   "metadata": {},
   "source": [
    "<font color=\"grey-black\"><b>Mais il faut d'abord construire une cible (target) à prévoir. Ici, le joueur qui va gagner le match. On ne peut donc pas se baser sur les données du match en question (nombre de premiers services, d'aces, de balle de break, etc...) car ce sont des données disponibles après la fin du match.</b></font>"
   ]
  },
  {
   "cell_type": "markdown",
   "metadata": {},
   "source": [
    "<font color=\"purple\"><b>Je décide donc de n'utiliser que les caractéristiques \"statiques\" des joueurs (taille, classement, points ATP, main préférentielle, etc...) et celle du match (surface, nombre de sets maximum à disputer, ...).</b></font>"
   ]
  },
  {
   "cell_type": "markdown",
   "metadata": {},
   "source": [
    "<font color=\"grey-black\"><b>Et pour construire ma target, je construis un nouveau jeu de données à partir des données que j'ai : deux joueurs s'affrontent, J1 vs J2. Et la variable à modéliser vaut 1 si le joueur 1 a gagné, et 2 si c'est le joueur 2. Et cette variable est construite de pour avoir environ 50% de J1 vainqueur et 50% de J2 vainqueur. Cette décision d'avoir J1 ou J2 en tant que vainqueur est une décision arbitraire de ma part. Je sépare le jeux de données en 2 (50/50), dans le premier je décide que J1 est le gagnant et dans le second que J2 est vainqueur.</b></font>\n",
    "\n",
    "<font color=\"grey-black\">Si je ne fais pas cette opération de distinguer J1 ou J2 comme vainqueur, et décide de modéliser J1 en tant que vainqueur de tous les matches, la variable à modéliser ne prends qu'une seule valeur : 1. Elle est donc constante et tous les modèles vont apprendre à prédire 1 tout le temps et auront 100% de bonnes prédictions mais n'auront rien appris.</font>"
   ]
  },
  {
   "cell_type": "markdown",
   "metadata": {},
   "source": [
    "<font color=\"grey-black\">Cette première fonction renomme l'ensemble des colonnes du jeu de données en fonction de la décision arbitraire d'avoir J1 ou J2 en tant que vainqueur.</font>"
   ]
  },
  {
   "cell_type": "code",
   "execution_count": 64,
   "metadata": {},
   "outputs": [],
   "source": [
    "def rename_column(data, winner):\n",
    "    \"\"\"\n",
    "    Renommer les colonnes du dataframe pour avoir J1 ou J2 en tant que gagnant\n",
    "    Et ajouter le nom du gagnant (1 ou 2)\n",
    "    \n",
    "    Parameters:\n",
    "    -----------\n",
    "    data (pandas DataFrame): donnees de tennis\n",
    "    winner (Int): J1 ou J2 en tant que gagnant voulu\n",
    "    \n",
    "    Return:\n",
    "    -------\n",
    "    dataframe (pandas DataFrame): nouveau dataframe avec des colonnes renommees et une colonne cible a modeliser/predire\n",
    "    \"\"\"\n",
    "    \n",
    "    # test data type\n",
    "    if type(data) != pd.DataFrame:\n",
    "        raise ValueError('Parameter data expected to be a pandas DataFrame ; get type(data)={}'.format(type(data)))\n",
    "    \n",
    "    # renomme toutes les colonnes\n",
    "    for col in data.columns:\n",
    "        # si J1 est voulu comme vainqueur\n",
    "        if winner == 1:\n",
    "            data = data.rename({col: col.replace('winner', 'j1')}, axis='columns')\n",
    "            data = data.rename({col: col.replace('loser', 'j2')}, axis='columns')\n",
    "        # si J2 est voulu comme vainqueur\n",
    "        elif winner == 2:\n",
    "            data = data.rename({col: col.replace('winner', 'j2')}, axis='columns')\n",
    "            data = data.rename({col: col.replace('loser', 'j1')}, axis='columns')\n",
    "        # si le gagnat voulu n'est ni J1 ou J2, c'est une erreur\n",
    "        else:\n",
    "            raise ValueError('Parameter winner expected to be 1 or 2 ; get winner={}'.format(winner))\n",
    "    \n",
    "    return data"
   ]
  },
  {
   "cell_type": "markdown",
   "metadata": {},
   "source": [
    "<font color=\"grey-black\">Cette seconde fonction traite l'ensemble des variables catégorielles. Si l'on traite le jeu de données test, on s'appuie sur la pipeline de traintement apprise sur le jeu de données d'apprentissage. Il est important d'appliquer la pipeline de données apprises en sur jeu de données d'apprentissage sur le jeu de données test et no d'en construire une nouvelle. C'est une erreur classique qui mène à surestimer les performances du modèles sur jeu de données test.</font><font color=\"grey-black\"><b>Pour aller plus vite et gagner du temps, je traite les colonnes catégorielles avec la fonction [`LabelEncoder` du package scikit-learn](https://scikit-learn.org/stable/modules/generated/sklearn.preprocessing.LabelEncoder.html).</b></font>\n",
    "\n",
    "<font color=\"grey-black\">Pour traiter les valeurs qui se trouve dans le jeu de données test et pas dans celui d'apprentissage, lors de l'apprentissage je rajoute une catégorie dans chaque variable 'UNKNOWN'. Si une catégorie se trouve uniquement dans le jeu de test, je la traite comme 'UNKNOWN'.</font>"
   ]
  },
  {
   "cell_type": "code",
   "execution_count": 65,
   "metadata": {},
   "outputs": [],
   "source": [
    "def processing_categorical_data(data, test_set=False,\n",
    "                                encoder_stage=None, encoder_surface=None, encoder_level=None,\n",
    "                                encoder_j2_hand=None, encoder_j2_ioc=None, encoder_j2_name=None,\n",
    "                                encoder_j1_hand=None, encoder_j1_ioc=None, encoder_j1_name=None\n",
    "                               ):\n",
    "    \"\"\"\n",
    "    Traiter toutes les colonnes catégorielles\n",
    "    \n",
    "    Parameters:\n",
    "    -----------\n",
    "    data (pandas DataFrame): donnees de tennis avec J1 ou J2 vainqueur\n",
    "    test_set (Boolean): traitement du jeu de test ou d'apprentissage\n",
    "    encode_... (sklearn LabelEncoder): LabelEncoder pour traiter la colonne nommee\n",
    "    \n",
    "    Return:\n",
    "    -------\n",
    "    data (pandas DataFrame): nouveau dataframe avec des colonnes categorielles traitees\n",
    "    \"\"\"\n",
    "    \n",
    "    # now we need to transform cateforical features\n",
    "    # and I will use LabelEncoder from sklearn\n",
    "    # and it is mandatory to treat only categories in the train dataset\n",
    "    # that's why i will add an 'UNKOWN' value to treat unknow value in the test set\n",
    "    \n",
    "    if test_set == False:\n",
    "        le_tourney_stage = LabelEncoder()\n",
    "        data['tourney_stage'] = le_tourney_stage.fit_transform(data['tourney_stage'].astype(str).append(pd.Series('UNKNOWN')))[:-1]\n",
    "        \n",
    "        le_surface = LabelEncoder()\n",
    "        data['surface'] = le_surface.fit_transform(data['surface'].astype(str).append(pd.Series('UNKNOWN')))[:-1]\n",
    "\n",
    "        le_tourney_level = LabelEncoder()\n",
    "        data['tourney_level'] = le_tourney_level.fit_transform(data['tourney_level'].astype(str).append(pd.Series('UNKNOWN')))[:-1]\n",
    "        \n",
    "        le_j2_hand = LabelEncoder()\n",
    "        data['j2_hand'] = le_j2_hand.fit_transform(data['j2_hand'].astype(str).append(pd.Series('UNKNOWN')))[:-1]\n",
    "        \n",
    "        le_j2_ioc = LabelEncoder()\n",
    "        data['j2_ioc'] = le_j2_ioc.fit_transform(data['j2_ioc'].astype(str).append(pd.Series('UNKNOWN')))[:-1]\n",
    "        \n",
    "        le_j2_name = LabelEncoder()\n",
    "        data['j2_name'] = le_j2_name.fit_transform(data['j2_name'].astype(str).append(pd.Series('UNKNOWN')))[:-1]\n",
    "        \n",
    "        le_j1_hand = LabelEncoder()\n",
    "        data['j1_hand'] = le_j1_hand.fit_transform(data['j1_hand'].astype(str).append(pd.Series('UNKNOWN')))[:-1]\n",
    "        \n",
    "        le_j1_ioc = LabelEncoder()\n",
    "        data['j1_ioc'] = le_j1_ioc.fit_transform(data['j1_ioc'].astype(str).append(pd.Series('UNKNOWN')))[:-1]\n",
    "        \n",
    "        le_j1_name = LabelEncoder()\n",
    "        data['j1_name'] = le_j1_name.fit_transform(data['j1_name'].astype(str).append(pd.Series('UNKNOWN')))[:-1]\n",
    "        \n",
    "        return data, le_tourney_stage, le_surface, le_tourney_level, le_j2_hand, le_j2_ioc, le_j2_name, le_j1_hand, le_j1_ioc, le_j1_name\n",
    "    else:\n",
    "        data.loc[~data['tourney_stage'].isin(encoder_stage.classes_), 'tourney_stage'] = 'UNKNOWN'\n",
    "        data['tourney_stage'] = encoder_stage.transform(data['tourney_stage'].astype(str))\n",
    "        \n",
    "        data.loc[~data['surface'].isin(encoder_surface.classes_), 'surface'] = 'UNKNOWN'\n",
    "        data['surface'] = encoder_surface.transform(data['surface'].astype(str))\n",
    "        \n",
    "        data.loc[~data['tourney_level'].isin(encoder_level.classes_), 'tourney_level'] = 'UNKNOWN'\n",
    "        data['tourney_level'] = encoder_level.transform(data['tourney_level'].astype(str))\n",
    "        \n",
    "        data.loc[~data['j2_hand'].isin(encoder_j2_hand.classes_), 'j2_hand'] = 'UNKNOWN'\n",
    "        data['j2_hand'] = encoder_j2_hand.transform(data['j2_hand'].astype(str))\n",
    "\n",
    "        data.loc[~data['j2_ioc'].isin(encoder_j2_ioc.classes_), 'j2_ioc'] = 'UNKNOWN'\n",
    "        data['j2_ioc'] = encoder_j2_ioc.transform(data['j2_ioc'].astype(str))\n",
    "        \n",
    "        data.loc[~data['j2_name'].isin(encoder_j2_name.classes_), 'j2_name'] = 'UNKNOWN'\n",
    "        data['j2_name'] = encoder_j2_name.transform(data['j2_name'].astype(str))\n",
    "        \n",
    "        data.loc[~data['j1_hand'].isin(encoder_j1_hand.classes_), 'j1_hand'] = 'UNKNOWN'\n",
    "        data['j1_hand'] = encoder_j1_hand.transform(data['j1_hand'].astype(str))\n",
    "        \n",
    "        data.loc[~data['j1_ioc'].isin(encoder_j1_ioc.classes_), 'j1_ioc'] = 'UNKNOWN'\n",
    "        data['j1_ioc'] = encoder_j1_ioc.transform(data['j1_ioc'].astype(str))\n",
    "        \n",
    "        data.loc[~data['j1_name'].isin(encoder_j1_name.classes_), 'j1_name'] = 'UNKNOWN'\n",
    "        data['j1_name'] = encoder_j1_name.transform(data['j1_name'].astype(str))\n",
    "        \n",
    "        return data      "
   ]
  },
  {
   "cell_type": "markdown",
   "metadata": {},
   "source": [
    "<font color=\"grey-black\">Cette troisième fonction, traite le jeu de donnée en créant les colonnes de statistiques pour J1 et J2 et la variable à modéliser.</font>"
   ]
  },
  {
   "cell_type": "code",
   "execution_count": 66,
   "metadata": {},
   "outputs": [],
   "source": [
    "def processing(data):\n",
    "    \"\"\"\n",
    "    Premier processing du jeu de donnees\n",
    "    \n",
    "    Parameters:\n",
    "    -----------\n",
    "    data (pandas DataFrame): donnees de tennis\n",
    "    \n",
    "    Return:\n",
    "    -------\n",
    "    dataframe (pandas DataFrame): nouveau dataframe avec traitee et sans la variable a modeliser\n",
    "    y (pandas Serie): variable a modeliser et predire\n",
    "    \"\"\"\n",
    "    # select statics columns\n",
    "    dataframe = data[[\n",
    "        'best_of', 'match_num', 'tourney_stage', 'surface', 'tourney_date',\n",
    "        'tourney_id', 'tourney_level', 'tourney_name', 'tourney_year',\n",
    "        'loser_age', 'loser_hand', 'loser_ht', 'loser_id',\n",
    "        'loser_ioc', 'loser_name', 'loser_rank', 'loser_rank_points', 'loser_seed',\n",
    "        'winner_age', 'winner_hand', 'winner_ht', 'winner_id',\n",
    "        'winner_ioc', 'winner_name', 'winner_rank', 'winner_rank_points', 'winner_seed',\n",
    "    ]]\n",
    "    \n",
    "    # split the data: train1 will have J1 as winner and train2 will have J2 as winner\n",
    "    df1, df2 = train_test_split(dataframe, test_size=0.5, random_state=1234)\n",
    "    \n",
    "    df1 = rename_column(data=df1, winner=1)\n",
    "    df2 = rename_column(data=df2, winner=2)\n",
    "    \n",
    "    dataframe = pd.concat([df1, df2])\n",
    "    \n",
    "    dataframe['winner'] = np.concatenate((np.ones(shape=df1.shape[0]), np.ones(shape=df2.shape[0])*2))\n",
    "    \n",
    "    dataframe = dataframe.sample(frac=1).reset_index(drop=True)\n",
    "    \n",
    "    y = dataframe['winner']\n",
    "    dataframe = dataframe.drop(['winner'], axis='columns')\n",
    "    \n",
    "    # to train our model, it is necessary to drop some columns because they should not influence doivent pas avoir d'influence\n",
    "    # our prediction like player's ID (because it is arbitrary)\n",
    "    dataframe = dataframe.drop([\n",
    "        'match_num', 'tourney_date', 'tourney_id', 'tourney_name', 'tourney_year',\n",
    "        'j2_id', 'j1_id'],\n",
    "        axis='columns')\n",
    "    \n",
    "    return dataframe, y"
   ]
  },
  {
   "cell_type": "code",
   "execution_count": 67,
   "metadata": {},
   "outputs": [],
   "source": [
    "X_train, y_train = processing(df_train)\n",
    "X_test, y_test = processing(df_test)"
   ]
  },
  {
   "cell_type": "code",
   "execution_count": 68,
   "metadata": {},
   "outputs": [
    {
     "data": {
      "text/html": [
       "<div>\n",
       "<style scoped>\n",
       "    .dataframe tbody tr th:only-of-type {\n",
       "        vertical-align: middle;\n",
       "    }\n",
       "\n",
       "    .dataframe tbody tr th {\n",
       "        vertical-align: top;\n",
       "    }\n",
       "\n",
       "    .dataframe thead th {\n",
       "        text-align: right;\n",
       "    }\n",
       "</style>\n",
       "<table border=\"1\" class=\"dataframe\">\n",
       "  <thead>\n",
       "    <tr style=\"text-align: right;\">\n",
       "      <th></th>\n",
       "      <th>best_of</th>\n",
       "      <th>tourney_stage</th>\n",
       "      <th>surface</th>\n",
       "      <th>tourney_level</th>\n",
       "      <th>j2_age</th>\n",
       "      <th>j2_hand</th>\n",
       "      <th>j2_ht</th>\n",
       "      <th>j2_ioc</th>\n",
       "      <th>j2_name</th>\n",
       "      <th>j2_rank</th>\n",
       "      <th>j2_rank_points</th>\n",
       "      <th>j2_seed</th>\n",
       "      <th>j1_age</th>\n",
       "      <th>j1_hand</th>\n",
       "      <th>j1_ht</th>\n",
       "      <th>j1_ioc</th>\n",
       "      <th>j1_name</th>\n",
       "      <th>j1_rank</th>\n",
       "      <th>j1_rank_points</th>\n",
       "      <th>j1_seed</th>\n",
       "    </tr>\n",
       "  </thead>\n",
       "  <tbody>\n",
       "    <tr>\n",
       "      <th>0</th>\n",
       "      <td>3</td>\n",
       "      <td>R16</td>\n",
       "      <td>Carpet</td>\n",
       "      <td>A</td>\n",
       "      <td>21.85</td>\n",
       "      <td>R</td>\n",
       "      <td>180.0</td>\n",
       "      <td>SWE</td>\n",
       "      <td>Thomas Johansson</td>\n",
       "      <td>64.0</td>\n",
       "      <td>741.0</td>\n",
       "      <td>6.0</td>\n",
       "      <td>25.37</td>\n",
       "      <td>L</td>\n",
       "      <td>193.0</td>\n",
       "      <td>CRO</td>\n",
       "      <td>Goran Ivanisevic</td>\n",
       "      <td>2.0</td>\n",
       "      <td>3566.0</td>\n",
       "      <td>1.0</td>\n",
       "    </tr>\n",
       "    <tr>\n",
       "      <th>1</th>\n",
       "      <td>3</td>\n",
       "      <td>R32</td>\n",
       "      <td>Clay</td>\n",
       "      <td>A</td>\n",
       "      <td>27.40</td>\n",
       "      <td>R</td>\n",
       "      <td>180.0</td>\n",
       "      <td>ITA</td>\n",
       "      <td>Laurence Tieleman</td>\n",
       "      <td>110.0</td>\n",
       "      <td>370.0</td>\n",
       "      <td>5.0</td>\n",
       "      <td>28.54</td>\n",
       "      <td>R</td>\n",
       "      <td>185.0</td>\n",
       "      <td>BUL</td>\n",
       "      <td>Orlin Stanoytchev</td>\n",
       "      <td>97.0</td>\n",
       "      <td>413.0</td>\n",
       "      <td>6.0</td>\n",
       "    </tr>\n",
       "    <tr>\n",
       "      <th>2</th>\n",
       "      <td>3</td>\n",
       "      <td>R32</td>\n",
       "      <td>Hard</td>\n",
       "      <td>A</td>\n",
       "      <td>21.26</td>\n",
       "      <td>R</td>\n",
       "      <td>185.0</td>\n",
       "      <td>THA</td>\n",
       "      <td>Paradorn Srichaphan</td>\n",
       "      <td>93.0</td>\n",
       "      <td>459.0</td>\n",
       "      <td>6.0</td>\n",
       "      <td>24.30</td>\n",
       "      <td>R</td>\n",
       "      <td>188.0</td>\n",
       "      <td>SWE</td>\n",
       "      <td>Magnus Norman</td>\n",
       "      <td>4.0</td>\n",
       "      <td>3196.0</td>\n",
       "      <td>3.0</td>\n",
       "    </tr>\n",
       "    <tr>\n",
       "      <th>3</th>\n",
       "      <td>3</td>\n",
       "      <td>QF</td>\n",
       "      <td>Hard</td>\n",
       "      <td>A</td>\n",
       "      <td>28.93</td>\n",
       "      <td>R</td>\n",
       "      <td>180.0</td>\n",
       "      <td>USA</td>\n",
       "      <td>Andre Agassi</td>\n",
       "      <td>12.0</td>\n",
       "      <td>2071.0</td>\n",
       "      <td>3.0</td>\n",
       "      <td>21.75</td>\n",
       "      <td>R</td>\n",
       "      <td>183.0</td>\n",
       "      <td>GER</td>\n",
       "      <td>Nicolas Kiefer</td>\n",
       "      <td>26.0</td>\n",
       "      <td>1198.0</td>\n",
       "      <td>5.0</td>\n",
       "    </tr>\n",
       "    <tr>\n",
       "      <th>4</th>\n",
       "      <td>5</td>\n",
       "      <td>R32</td>\n",
       "      <td>Hard</td>\n",
       "      <td>G</td>\n",
       "      <td>25.03</td>\n",
       "      <td>R</td>\n",
       "      <td>170.0</td>\n",
       "      <td>ARG</td>\n",
       "      <td>Diego Sebastian Schwartzman</td>\n",
       "      <td>33.0</td>\n",
       "      <td>1280.0</td>\n",
       "      <td>29.0</td>\n",
       "      <td>28.91</td>\n",
       "      <td>R</td>\n",
       "      <td>198.0</td>\n",
       "      <td>CRO</td>\n",
       "      <td>Marin Cilic</td>\n",
       "      <td>7.0</td>\n",
       "      <td>4155.0</td>\n",
       "      <td>5.0</td>\n",
       "    </tr>\n",
       "  </tbody>\n",
       "</table>\n",
       "</div>"
      ],
      "text/plain": [
       "   best_of tourney_stage surface tourney_level  j2_age j2_hand  j2_ht j2_ioc  \\\n",
       "0        3           R16  Carpet             A   21.85       R  180.0    SWE   \n",
       "1        3           R32    Clay             A   27.40       R  180.0    ITA   \n",
       "2        3           R32    Hard             A   21.26       R  185.0    THA   \n",
       "3        3            QF    Hard             A   28.93       R  180.0    USA   \n",
       "4        5           R32    Hard             G   25.03       R  170.0    ARG   \n",
       "\n",
       "                       j2_name  j2_rank  j2_rank_points  j2_seed  j1_age  \\\n",
       "0             Thomas Johansson     64.0           741.0      6.0   25.37   \n",
       "1            Laurence Tieleman    110.0           370.0      5.0   28.54   \n",
       "2          Paradorn Srichaphan     93.0           459.0      6.0   24.30   \n",
       "3                 Andre Agassi     12.0          2071.0      3.0   21.75   \n",
       "4  Diego Sebastian Schwartzman     33.0          1280.0     29.0   28.91   \n",
       "\n",
       "  j1_hand  j1_ht j1_ioc            j1_name  j1_rank  j1_rank_points  j1_seed  \n",
       "0       L  193.0    CRO   Goran Ivanisevic      2.0          3566.0      1.0  \n",
       "1       R  185.0    BUL  Orlin Stanoytchev     97.0           413.0      6.0  \n",
       "2       R  188.0    SWE      Magnus Norman      4.0          3196.0      3.0  \n",
       "3       R  183.0    GER     Nicolas Kiefer     26.0          1198.0      5.0  \n",
       "4       R  198.0    CRO        Marin Cilic      7.0          4155.0      5.0  "
      ]
     },
     "execution_count": 68,
     "metadata": {},
     "output_type": "execute_result"
    }
   ],
   "source": [
    "X_train.head()"
   ]
  },
  {
   "cell_type": "code",
   "execution_count": 69,
   "metadata": {},
   "outputs": [],
   "source": [
    "(X_train, encoder_stage, encoder_surface, encoder_level,\n",
    " encoder_j2_hand, encoder_j2_ioc, encoder_j2_name,\n",
    " encoder_j1_hand, encoder_j1_ioc, encoder_j1_name) = processing_categorical_data(X_train)"
   ]
  },
  {
   "cell_type": "code",
   "execution_count": 70,
   "metadata": {},
   "outputs": [],
   "source": [
    "X_test = processing_categorical_data(X_test, test_set=True,\n",
    "                                     encoder_stage=encoder_stage, encoder_surface=encoder_surface, encoder_level=encoder_level,\n",
    "                                     encoder_j2_hand=encoder_j2_hand, encoder_j2_ioc=encoder_j2_ioc, encoder_j2_name=encoder_j2_name,\n",
    "                                     encoder_j1_hand=encoder_j1_hand, encoder_j1_ioc=encoder_j1_ioc, encoder_j1_name=encoder_j1_name)"
   ]
  },
  {
   "cell_type": "markdown",
   "metadata": {},
   "source": [
    "<font color=\"grey-black\">Maintenant les deux jeux de données (apprentissage et test) sont prêts pour commencer l'apprentissage d'un modèle de Machine Learning. Toujours dans l'optique de gagner du temps, j'utilise le package [hyperopt-sklearn](https://github.com/hyperopt/hyperopt-sklearn) qui permet de rapidement tester un ensemble de modèles disponibles dans [la package scikit-learn](https://scikit-learn.org/stable/index.html) et de trouver le meilleur modèle avec le meilleur jeu de paramètres qui performent le mieux sur le jeu de données d'apprentissage. Ce package utilise des algorithmes d'optimisation d'hyper paramètres avec des statistiques bayésiennes. Cela permet de gagner un temps substensiel dans la recherche du modèle et est bien plus performant et sophistiqué qu'un [GridSearch](https://scikit-learn.org/stable/modules/grid_search.html) largement utilisé dans la communauté Data Science.</font>"
   ]
  },
  {
   "cell_type": "code",
   "execution_count": 71,
   "metadata": {},
   "outputs": [],
   "source": [
    "estim = HyperoptEstimator(classifier=any_classifier('my_clf'),\n",
    "                          preprocessing=any_preprocessing('my_pre'),\n",
    "                          algo=tpe.suggest,\n",
    "                          max_evals=100,\n",
    "                          trial_timeout=60)"
   ]
  },
  {
   "cell_type": "markdown",
   "metadata": {},
   "source": [
    "<div class=\"alert alert-danger\">\n",
    "  <strong>Attention !</strong> Le temps d'évaluation et d'optimisation de l'ensemble des modèles est extrêmement long (peu aller jusqu'à plus d'une heure et demie). Je ne conseille pas de rejouer la cellule suivante mais de directement regarder les résultats, et le meilleur modèle obtenu.\n",
    "</div>"
   ]
  },
  {
   "cell_type": "code",
   "execution_count": 96,
   "metadata": {},
   "outputs": [
    {
     "name": "stdout",
     "output_type": "stream",
     "text": [
      "100%|██████████| 1/1 [00:00<00:00,  1.50trial/s, best loss: 0.3516157927375456]\n",
      "100%|██████████| 2/2 [00:00<00:00,  3.09trial/s, best loss: 0.047681389099428095]\n",
      "100%|██████████| 3/3 [01:00<00:00, 20.03s/trial, best loss: 0.047681389099428095]\n",
      "100%|██████████| 4/4 [00:01<00:00,  2.88trial/s, best loss: 0.047681389099428095]\n",
      "100%|██████████| 5/5 [00:01<00:00,  3.81trial/s, best loss: 0.047681389099428095]\n",
      "100%|██████████| 6/6 [00:15<00:00,  2.66s/trial, best loss: 0.047681389099428095]\n",
      "100%|██████████| 7/7 [01:00<00:00,  8.58s/trial, best loss: 0.047681389099428095]\n",
      "100%|██████████| 8/8 [00:40<00:00,  5.00s/trial, best loss: 0.047681389099428095]\n",
      "100%|██████████| 9/9 [00:02<00:00,  3.54trial/s, best loss: 0.047681389099428095]\n",
      "100%|██████████| 10/10 [00:07<00:00,  1.36trial/s, best loss: 0.03086887617997658]\n",
      "100%|██████████| 11/11 [00:01<00:00,  9.80trial/s, best loss: 0.03086887617997658]\n",
      "100%|██████████| 12/12 [00:11<00:00,  1.03trial/s, best loss: 0.03086887617997658]\n",
      "100%|██████████| 13/13 [00:02<00:00,  6.10trial/s, best loss: 0.03086887617997658]\n",
      "100%|██████████| 14/14 [00:24<00:00,  1.78s/trial, best loss: 0.03086887617997658]\n",
      " 93%|█████████▎| 14/15 [00:00<?, ?trial/s, best loss=?]"
     ]
    },
    {
     "name": "stderr",
     "output_type": "stream",
     "text": [
      "/Users/antoinemertz/.local/share/virtualenvs/tennis-game-prediction-G_Zh9rmk/lib/python3.7/site-packages/sklearn/ensemble/_gb.py:1342: FutureWarning: The parameter 'presort' is deprecated and has no effect. It will be removed in v0.24. You can suppress this warning by not passing any value to the 'presort' parameter. We also recommend using HistGradientBoosting models instead.\n",
      "  FutureWarning)\n",
      "\n"
     ]
    },
    {
     "name": "stdout",
     "output_type": "stream",
     "text": [
      "100%|██████████| 15/15 [01:00<00:00,  4.02s/trial, best loss: 0.03086887617997658]\n",
      "100%|██████████| 16/16 [00:01<00:00, 15.01trial/s, best loss: 0.03086887617997658]\n",
      "100%|██████████| 17/17 [01:00<00:00,  3.53s/trial, best loss: 0.03086887617997658]\n",
      "100%|██████████| 18/18 [00:00<00:00, 34.37trial/s, best loss: 0.03086887617997658]\n",
      "100%|██████████| 19/19 [00:15<00:00,  1.26trial/s, best loss: 0.03086887617997658]\n",
      "100%|██████████| 20/20 [01:00<00:00,  3.01s/trial, best loss: 0.03086887617997658]\n",
      "100%|██████████| 21/21 [00:01<00:00, 17.94trial/s, best loss: 0.03086887617997658]\n",
      "100%|██████████| 22/22 [01:00<00:00,  2.73s/trial, best loss: 0.03086887617997658]\n",
      "100%|██████████| 23/23 [00:45<00:00,  1.96s/trial, best loss: 0.03086887617997658]\n",
      "100%|██████████| 24/24 [00:00<00:00, 27.04trial/s, best loss: 0.03086887617997658]\n",
      " 96%|█████████▌| 24/25 [00:00<?, ?trial/s, best loss=?]"
     ]
    },
    {
     "name": "stderr",
     "output_type": "stream",
     "text": [
      "/Users/antoinemertz/.local/share/virtualenvs/tennis-game-prediction-G_Zh9rmk/lib/python3.7/site-packages/sklearn/ensemble/_gb.py:1342: FutureWarning: The parameter 'presort' is deprecated and has no effect. It will be removed in v0.24. You can suppress this warning by not passing any value to the 'presort' parameter. We also recommend using HistGradientBoosting models instead.\n",
      "  FutureWarning)\n",
      "\n"
     ]
    },
    {
     "name": "stdout",
     "output_type": "stream",
     "text": [
      "100%|██████████| 25/25 [00:01<00:00, 16.92trial/s, best loss: 0.03086887617997658]\n",
      " 96%|█████████▌| 25/26 [00:00<?, ?trial/s, best loss=?]"
     ]
    },
    {
     "name": "stderr",
     "output_type": "stream",
     "text": [
      "/Users/antoinemertz/.local/share/virtualenvs/tennis-game-prediction-G_Zh9rmk/lib/python3.7/site-packages/sklearn/ensemble/_gb.py:1342: FutureWarning: The parameter 'presort' is deprecated and has no effect. It will be removed in v0.24. You can suppress this warning by not passing any value to the 'presort' parameter. We also recommend using HistGradientBoosting models instead.\n",
      "  FutureWarning)\n",
      "\n"
     ]
    },
    {
     "name": "stdout",
     "output_type": "stream",
     "text": [
      "100%|██████████| 26/26 [00:01<00:00, 25.18trial/s, best loss: 0.03086887617997658]\n",
      " 96%|█████████▋| 26/27 [00:00<?, ?trial/s, best loss=?]"
     ]
    },
    {
     "name": "stderr",
     "output_type": "stream",
     "text": [
      "/Users/antoinemertz/.local/share/virtualenvs/tennis-game-prediction-G_Zh9rmk/lib/python3.7/site-packages/sklearn/ensemble/_gb.py:1342: FutureWarning: The parameter 'presort' is deprecated and has no effect. It will be removed in v0.24. You can suppress this warning by not passing any value to the 'presort' parameter. We also recommend using HistGradientBoosting models instead.\n",
      "  FutureWarning)\n",
      "\n"
     ]
    },
    {
     "name": "stdout",
     "output_type": "stream",
     "text": [
      "100%|██████████| 27/27 [00:01<00:00, 25.06trial/s, best loss: 0.03086887617997658]\n",
      " 96%|█████████▋| 27/28 [00:00<?, ?trial/s, best loss=?]"
     ]
    },
    {
     "name": "stderr",
     "output_type": "stream",
     "text": [
      "/Users/antoinemertz/.local/share/virtualenvs/tennis-game-prediction-G_Zh9rmk/lib/python3.7/site-packages/sklearn/ensemble/_gb.py:1342: FutureWarning: The parameter 'presort' is deprecated and has no effect. It will be removed in v0.24. You can suppress this warning by not passing any value to the 'presort' parameter. We also recommend using HistGradientBoosting models instead.\n",
      "  FutureWarning)\n",
      "\n"
     ]
    },
    {
     "name": "stdout",
     "output_type": "stream",
     "text": [
      "100%|██████████| 28/28 [00:18<00:00,  1.54trial/s, best loss: 0.03086887617997658]\n",
      "100%|██████████| 29/29 [00:00<00:00, 128.87trial/s, best loss: 0.03086887617997658]\n",
      " 97%|█████████▋| 29/30 [00:00<?, ?trial/s, best loss=?]"
     ]
    },
    {
     "name": "stderr",
     "output_type": "stream",
     "text": [
      "/Users/antoinemertz/.local/share/virtualenvs/tennis-game-prediction-G_Zh9rmk/lib/python3.7/site-packages/sklearn/ensemble/_gb.py:1342: FutureWarning: The parameter 'presort' is deprecated and has no effect. It will be removed in v0.24. You can suppress this warning by not passing any value to the 'presort' parameter. We also recommend using HistGradientBoosting models instead.\n",
      "  FutureWarning)\n",
      "\n"
     ]
    },
    {
     "name": "stdout",
     "output_type": "stream",
     "text": [
      "100%|██████████| 30/30 [00:19<00:00,  1.51trial/s, best loss: 0.03086887617997658]\n",
      " 97%|█████████▋| 30/31 [00:00<?, ?trial/s, best loss=?]"
     ]
    },
    {
     "name": "stderr",
     "output_type": "stream",
     "text": [
      "/Users/antoinemertz/.local/share/virtualenvs/tennis-game-prediction-G_Zh9rmk/lib/python3.7/site-packages/sklearn/ensemble/_gb.py:1342: FutureWarning: The parameter 'presort' is deprecated and has no effect. It will be removed in v0.24. You can suppress this warning by not passing any value to the 'presort' parameter. We also recommend using HistGradientBoosting models instead.\n",
      "  FutureWarning)\n",
      "\n"
     ]
    },
    {
     "name": "stdout",
     "output_type": "stream",
     "text": [
      "100%|██████████| 31/31 [00:19<00:00,  1.61trial/s, best loss: 0.03086887617997658]\n",
      "100%|██████████| 32/32 [00:12<00:00,  2.55trial/s, best loss: 0.03086887617997658]\n",
      "100%|██████████| 33/33 [00:00<00:00, 40.65trial/s, best loss: 0.03086887617997658]\n",
      "100%|██████████| 34/34 [00:00<00:00, 146.38trial/s, best loss: 0.03086887617997658]\n",
      " 97%|█████████▋| 34/35 [00:00<?, ?trial/s, best loss=?]"
     ]
    },
    {
     "name": "stderr",
     "output_type": "stream",
     "text": [
      "/Users/antoinemertz/.local/share/virtualenvs/tennis-game-prediction-G_Zh9rmk/lib/python3.7/site-packages/sklearn/ensemble/_gb.py:1342: FutureWarning: The parameter 'presort' is deprecated and has no effect. It will be removed in v0.24. You can suppress this warning by not passing any value to the 'presort' parameter. We also recommend using HistGradientBoosting models instead.\n",
      "  FutureWarning)\n",
      "\n"
     ]
    },
    {
     "name": "stdout",
     "output_type": "stream",
     "text": [
      "100%|██████████| 35/35 [00:03<00:00,  9.25trial/s, best loss: 0.03086887617997658]\n",
      "100%|██████████| 36/36 [00:27<00:00,  1.31trial/s, best loss: 0.03086887617997658]\n",
      "100%|██████████| 37/37 [00:24<00:00,  1.53trial/s, best loss: 0.030317646248191332]\n",
      "100%|██████████| 38/38 [00:49<00:00,  1.31s/trial, best loss: 0.030317646248191332]\n",
      "100%|██████████| 39/39 [00:08<00:00,  4.74trial/s, best loss: 0.030317646248191332]\n",
      "100%|██████████| 40/40 [00:16<00:00,  2.37trial/s, best loss: 0.030317646248191332]\n",
      "100%|██████████| 41/41 [00:52<00:00,  1.28s/trial, best loss: 0.030248742506718163]\n",
      "100%|██████████| 42/42 [00:45<00:00,  1.09s/trial, best loss: 0.030248742506718163]\n",
      "100%|██████████| 43/43 [00:51<00:00,  1.19s/trial, best loss: 0.030110935023771823]\n",
      "100%|██████████| 44/44 [01:00<00:00,  1.37s/trial, best loss: 0.030110935023771823]\n",
      "100%|██████████| 45/45 [01:00<00:00,  1.34s/trial, best loss: 0.030110935023771823]\n",
      "100%|██████████| 46/46 [01:00<00:00,  1.31s/trial, best loss: 0.030110935023771823]\n",
      "100%|██████████| 47/47 [01:00<00:00,  1.28s/trial, best loss: 0.030110935023771823]\n",
      "100%|██████████| 48/48 [01:00<00:00,  1.25s/trial, best loss: 0.030110935023771823]\n",
      "100%|██████████| 49/49 [01:00<00:00,  1.23s/trial, best loss: 0.030110935023771823]\n",
      "100%|██████████| 50/50 [01:00<00:00,  1.20s/trial, best loss: 0.030110935023771823]\n",
      "100%|██████████| 51/51 [01:00<00:00,  1.18s/trial, best loss: 0.030110935023771823]\n",
      "100%|██████████| 52/52 [01:00<00:00,  1.16s/trial, best loss: 0.030110935023771823]\n",
      "100%|██████████| 53/53 [01:00<00:00,  1.13s/trial, best loss: 0.030110935023771823]\n",
      "100%|██████████| 54/54 [01:00<00:00,  1.12s/trial, best loss: 0.030110935023771823]\n",
      "100%|██████████| 55/55 [01:00<00:00,  1.09s/trial, best loss: 0.030110935023771823]\n",
      "100%|██████████| 56/56 [01:00<00:00,  1.08s/trial, best loss: 0.030110935023771823]\n",
      "100%|██████████| 57/57 [01:00<00:00,  1.05s/trial, best loss: 0.030110935023771823]\n",
      "100%|██████████| 58/58 [01:00<00:00,  1.04s/trial, best loss: 0.030110935023771823]\n",
      "100%|██████████| 59/59 [01:00<00:00,  1.02s/trial, best loss: 0.030110935023771823]\n",
      "100%|██████████| 60/60 [01:00<00:00,  1.00s/trial, best loss: 0.030110935023771823]\n",
      "100%|██████████| 61/61 [01:00<00:00,  1.01trial/s, best loss: 0.030110935023771823]\n",
      "100%|██████████| 62/62 [01:00<00:00,  1.03trial/s, best loss: 0.030110935023771823]\n",
      "100%|██████████| 63/63 [01:00<00:00,  1.05trial/s, best loss: 0.030110935023771823]\n",
      "100%|██████████| 64/64 [01:00<00:00,  1.06trial/s, best loss: 0.030110935023771823]\n",
      "100%|██████████| 65/65 [01:00<00:00,  1.08trial/s, best loss: 0.030110935023771823]\n",
      "100%|██████████| 66/66 [01:00<00:00,  1.09trial/s, best loss: 0.030110935023771823]\n",
      "100%|██████████| 67/67 [01:00<00:00,  1.11trial/s, best loss: 0.030110935023771823]\n",
      "100%|██████████| 68/68 [01:00<00:00,  1.13trial/s, best loss: 0.030110935023771823]\n",
      "100%|██████████| 69/69 [01:00<00:00,  1.15trial/s, best loss: 0.030110935023771823]\n",
      "100%|██████████| 70/70 [01:00<00:00,  1.16trial/s, best loss: 0.030110935023771823]\n",
      "100%|██████████| 71/71 [01:00<00:00,  1.18trial/s, best loss: 0.030110935023771823]\n",
      "100%|██████████| 72/72 [01:00<00:00,  1.20trial/s, best loss: 0.030110935023771823]\n",
      "100%|██████████| 73/73 [01:00<00:00,  1.21trial/s, best loss: 0.030110935023771823]\n",
      "100%|██████████| 74/74 [01:00<00:00,  1.23trial/s, best loss: 0.030110935023771823]\n",
      "100%|██████████| 75/75 [01:00<00:00,  1.25trial/s, best loss: 0.030110935023771823]\n",
      "100%|██████████| 76/76 [01:00<00:00,  1.26trial/s, best loss: 0.030110935023771823]\n",
      "100%|██████████| 77/77 [01:00<00:00,  1.28trial/s, best loss: 0.030110935023771823]\n",
      "100%|██████████| 78/78 [01:00<00:00,  1.29trial/s, best loss: 0.030110935023771823]\n",
      "100%|██████████| 79/79 [01:00<00:00,  1.31trial/s, best loss: 0.030110935023771823]\n",
      "100%|██████████| 80/80 [01:00<00:00,  1.33trial/s, best loss: 0.030110935023771823]\n",
      "100%|██████████| 81/81 [01:00<00:00,  1.35trial/s, best loss: 0.030110935023771823]\n",
      "100%|██████████| 82/82 [01:00<00:00,  1.36trial/s, best loss: 0.030110935023771823]\n",
      "100%|██████████| 83/83 [01:00<00:00,  1.38trial/s, best loss: 0.030110935023771823]\n",
      "100%|██████████| 84/84 [01:00<00:00,  1.40trial/s, best loss: 0.030110935023771823]\n",
      "100%|██████████| 85/85 [01:00<00:00,  1.41trial/s, best loss: 0.030110935023771823]\n",
      "100%|██████████| 86/86 [01:00<00:00,  1.43trial/s, best loss: 0.030110935023771823]\n",
      "100%|██████████| 87/87 [01:00<00:00,  1.45trial/s, best loss: 0.030110935023771823]\n",
      "100%|██████████| 88/88 [01:00<00:00,  1.46trial/s, best loss: 0.030110935023771823]\n",
      "100%|██████████| 89/89 [01:00<00:00,  1.48trial/s, best loss: 0.030110935023771823]\n",
      "100%|██████████| 90/90 [01:00<00:00,  1.49trial/s, best loss: 0.030110935023771823]\n",
      "100%|██████████| 91/91 [01:00<00:00,  1.51trial/s, best loss: 0.030110935023771823]\n",
      "100%|██████████| 92/92 [01:00<00:00,  1.53trial/s, best loss: 0.030110935023771823]\n",
      "100%|██████████| 93/93 [01:00<00:00,  1.55trial/s, best loss: 0.030110935023771823]\n",
      "100%|██████████| 94/94 [01:00<00:00,  1.56trial/s, best loss: 0.030110935023771823]\n",
      "100%|██████████| 95/95 [01:00<00:00,  1.57trial/s, best loss: 0.030110935023771823]\n",
      "100%|██████████| 96/96 [01:00<00:00,  1.60trial/s, best loss: 0.030110935023771823]\n",
      "100%|██████████| 97/97 [01:00<00:00,  1.61trial/s, best loss: 0.030110935023771823]\n",
      "100%|██████████| 98/98 [01:00<00:00,  1.63trial/s, best loss: 0.030110935023771823]\n",
      "100%|██████████| 99/99 [01:00<00:00,  1.65trial/s, best loss: 0.030110935023771823]\n",
      "100%|██████████| 100/100 [01:00<00:00,  1.66trial/s, best loss: 0.030110935023771823]\n"
     ]
    }
   ],
   "source": [
    "estim.fit(X_train, y_train)"
   ]
  },
  {
   "cell_type": "code",
   "execution_count": 106,
   "metadata": {},
   "outputs": [
    {
     "data": {
      "text/plain": [
       "{'learner': RandomForestClassifier(bootstrap=True, ccp_alpha=0.0, class_weight=None,\n",
       "                        criterion='gini', max_depth=None,\n",
       "                        max_features=0.25152305197906943, max_leaf_nodes=None,\n",
       "                        max_samples=None, min_impurity_decrease=0.0,\n",
       "                        min_impurity_split=None, min_samples_leaf=40,\n",
       "                        min_samples_split=2, min_weight_fraction_leaf=0.0,\n",
       "                        n_estimators=911, n_jobs=1, oob_score=False,\n",
       "                        random_state=1, verbose=False, warm_start=False),\n",
       " 'preprocs': (MinMaxScaler(copy=True, feature_range=(0.0, 1.0)),),\n",
       " 'ex_preprocs': ()}"
      ]
     },
     "execution_count": 106,
     "metadata": {},
     "output_type": "execute_result"
    }
   ],
   "source": [
    "estim.best_model()"
   ]
  },
  {
   "cell_type": "markdown",
   "metadata": {},
   "source": [
    "<font color=\"grey-black\">Le meilleur modèle trouver un le modèle [RandoForest](https://scikit-learn.org/stable/modules/generated/sklearn.ensemble.RandomForestClassifier.html?highlight=randomforest#sklearn.ensemble.RandomForestClassifier). On pouvait s'y attendre car c'est un modèle très utilisé et bien connu et qui a généralement des bonnes performances sur des problèmes de Machine Learning usuels comme la prédiction que l'on traite. C'est un modèle qui permet de bien traiter les variables issues du traitement des variables catégorielles et les variables numériques. C'est exactement notre cas ici.</font>"
   ]
  },
  {
   "cell_type": "code",
   "execution_count": 72,
   "metadata": {},
   "outputs": [
    {
     "data": {
      "text/html": [
       "<div>\n",
       "<style scoped>\n",
       "    .dataframe tbody tr th:only-of-type {\n",
       "        vertical-align: middle;\n",
       "    }\n",
       "\n",
       "    .dataframe tbody tr th {\n",
       "        vertical-align: top;\n",
       "    }\n",
       "\n",
       "    .dataframe thead th {\n",
       "        text-align: right;\n",
       "    }\n",
       "</style>\n",
       "<table border=\"1\" class=\"dataframe\">\n",
       "  <thead>\n",
       "    <tr style=\"text-align: right;\">\n",
       "      <th></th>\n",
       "      <th>best_of</th>\n",
       "      <th>tourney_stage</th>\n",
       "      <th>surface</th>\n",
       "      <th>tourney_level</th>\n",
       "      <th>j2_age</th>\n",
       "      <th>j2_hand</th>\n",
       "      <th>j2_ht</th>\n",
       "      <th>j2_ioc</th>\n",
       "      <th>j2_name</th>\n",
       "      <th>j2_rank</th>\n",
       "      <th>j2_rank_points</th>\n",
       "      <th>j2_seed</th>\n",
       "      <th>j1_age</th>\n",
       "      <th>j1_hand</th>\n",
       "      <th>j1_ht</th>\n",
       "      <th>j1_ioc</th>\n",
       "      <th>j1_name</th>\n",
       "      <th>j1_rank</th>\n",
       "      <th>j1_rank_points</th>\n",
       "      <th>j1_seed</th>\n",
       "    </tr>\n",
       "  </thead>\n",
       "  <tbody>\n",
       "    <tr>\n",
       "      <th>0</th>\n",
       "      <td>3</td>\n",
       "      <td>4</td>\n",
       "      <td>0</td>\n",
       "      <td>0</td>\n",
       "      <td>21.85</td>\n",
       "      <td>1</td>\n",
       "      <td>180.0</td>\n",
       "      <td>99</td>\n",
       "      <td>2205</td>\n",
       "      <td>64.0</td>\n",
       "      <td>741.0</td>\n",
       "      <td>6.0</td>\n",
       "      <td>25.37</td>\n",
       "      <td>0</td>\n",
       "      <td>193.0</td>\n",
       "      <td>24</td>\n",
       "      <td>792</td>\n",
       "      <td>2.0</td>\n",
       "      <td>3566.0</td>\n",
       "      <td>1.0</td>\n",
       "    </tr>\n",
       "    <tr>\n",
       "      <th>1</th>\n",
       "      <td>3</td>\n",
       "      <td>5</td>\n",
       "      <td>1</td>\n",
       "      <td>0</td>\n",
       "      <td>27.40</td>\n",
       "      <td>1</td>\n",
       "      <td>180.0</td>\n",
       "      <td>50</td>\n",
       "      <td>1298</td>\n",
       "      <td>110.0</td>\n",
       "      <td>370.0</td>\n",
       "      <td>5.0</td>\n",
       "      <td>28.54</td>\n",
       "      <td>1</td>\n",
       "      <td>185.0</td>\n",
       "      <td>16</td>\n",
       "      <td>1741</td>\n",
       "      <td>97.0</td>\n",
       "      <td>413.0</td>\n",
       "      <td>6.0</td>\n",
       "    </tr>\n",
       "    <tr>\n",
       "      <th>2</th>\n",
       "      <td>3</td>\n",
       "      <td>5</td>\n",
       "      <td>3</td>\n",
       "      <td>0</td>\n",
       "      <td>21.26</td>\n",
       "      <td>1</td>\n",
       "      <td>185.0</td>\n",
       "      <td>101</td>\n",
       "      <td>1758</td>\n",
       "      <td>93.0</td>\n",
       "      <td>459.0</td>\n",
       "      <td>6.0</td>\n",
       "      <td>24.30</td>\n",
       "      <td>1</td>\n",
       "      <td>188.0</td>\n",
       "      <td>102</td>\n",
       "      <td>1374</td>\n",
       "      <td>4.0</td>\n",
       "      <td>3196.0</td>\n",
       "      <td>3.0</td>\n",
       "    </tr>\n",
       "    <tr>\n",
       "      <th>3</th>\n",
       "      <td>3</td>\n",
       "      <td>2</td>\n",
       "      <td>3</td>\n",
       "      <td>0</td>\n",
       "      <td>28.93</td>\n",
       "      <td>1</td>\n",
       "      <td>180.0</td>\n",
       "      <td>112</td>\n",
       "      <td>148</td>\n",
       "      <td>12.0</td>\n",
       "      <td>2071.0</td>\n",
       "      <td>3.0</td>\n",
       "      <td>21.75</td>\n",
       "      <td>1</td>\n",
       "      <td>183.0</td>\n",
       "      <td>40</td>\n",
       "      <td>1683</td>\n",
       "      <td>26.0</td>\n",
       "      <td>1198.0</td>\n",
       "      <td>5.0</td>\n",
       "    </tr>\n",
       "    <tr>\n",
       "      <th>4</th>\n",
       "      <td>5</td>\n",
       "      <td>5</td>\n",
       "      <td>3</td>\n",
       "      <td>3</td>\n",
       "      <td>25.03</td>\n",
       "      <td>1</td>\n",
       "      <td>170.0</td>\n",
       "      <td>3</td>\n",
       "      <td>551</td>\n",
       "      <td>33.0</td>\n",
       "      <td>1280.0</td>\n",
       "      <td>29.0</td>\n",
       "      <td>28.91</td>\n",
       "      <td>1</td>\n",
       "      <td>198.0</td>\n",
       "      <td>24</td>\n",
       "      <td>1435</td>\n",
       "      <td>7.0</td>\n",
       "      <td>4155.0</td>\n",
       "      <td>5.0</td>\n",
       "    </tr>\n",
       "  </tbody>\n",
       "</table>\n",
       "</div>"
      ],
      "text/plain": [
       "   best_of  tourney_stage  surface  tourney_level  j2_age  j2_hand  j2_ht  \\\n",
       "0        3              4        0              0   21.85        1  180.0   \n",
       "1        3              5        1              0   27.40        1  180.0   \n",
       "2        3              5        3              0   21.26        1  185.0   \n",
       "3        3              2        3              0   28.93        1  180.0   \n",
       "4        5              5        3              3   25.03        1  170.0   \n",
       "\n",
       "   j2_ioc  j2_name  j2_rank  j2_rank_points  j2_seed  j1_age  j1_hand  j1_ht  \\\n",
       "0      99     2205     64.0           741.0      6.0   25.37        0  193.0   \n",
       "1      50     1298    110.0           370.0      5.0   28.54        1  185.0   \n",
       "2     101     1758     93.0           459.0      6.0   24.30        1  188.0   \n",
       "3     112      148     12.0          2071.0      3.0   21.75        1  183.0   \n",
       "4       3      551     33.0          1280.0     29.0   28.91        1  198.0   \n",
       "\n",
       "   j1_ioc  j1_name  j1_rank  j1_rank_points  j1_seed  \n",
       "0      24      792      2.0          3566.0      1.0  \n",
       "1      16     1741     97.0           413.0      6.0  \n",
       "2     102     1374      4.0          3196.0      3.0  \n",
       "3      40     1683     26.0          1198.0      5.0  \n",
       "4      24     1435      7.0          4155.0      5.0  "
      ]
     },
     "execution_count": 72,
     "metadata": {},
     "output_type": "execute_result"
    }
   ],
   "source": [
    "X_train.head()"
   ]
  },
  {
   "cell_type": "code",
   "execution_count": 74,
   "metadata": {},
   "outputs": [
    {
     "data": {
      "text/plain": [
       "MinMaxScaler(copy=True, feature_range=(0.0, 1.0))"
      ]
     },
     "execution_count": 74,
     "metadata": {},
     "output_type": "execute_result"
    }
   ],
   "source": [
    "scaler = MinMaxScaler(copy=True, feature_range=(0.0, 1.0))\n",
    "scaler.fit(X_train)"
   ]
  },
  {
   "cell_type": "code",
   "execution_count": 75,
   "metadata": {},
   "outputs": [],
   "source": [
    "X_train = scaler.transform(X_train)\n",
    "X_test = scaler.transform(X_test)"
   ]
  },
  {
   "cell_type": "code",
   "execution_count": 76,
   "metadata": {},
   "outputs": [],
   "source": [
    "clf = RandomForestClassifier(bootstrap=True, ccp_alpha=0.0, class_weight=None,\n",
    "                             criterion='gini', max_depth=None,\n",
    "                             max_features=0.25152305197906943, max_leaf_nodes=None,\n",
    "                             max_samples=None, min_impurity_decrease=0.0,\n",
    "                             min_impurity_split=None, min_samples_leaf=40,\n",
    "                             min_samples_split=2, min_weight_fraction_leaf=0.0,\n",
    "                             n_estimators=911, n_jobs=1, oob_score=False,\n",
    "                             random_state=1, verbose=False, warm_start=False)"
   ]
  },
  {
   "cell_type": "code",
   "execution_count": 77,
   "metadata": {},
   "outputs": [
    {
     "data": {
      "text/plain": [
       "RandomForestClassifier(bootstrap=True, ccp_alpha=0.0, class_weight=None,\n",
       "                       criterion='gini', max_depth=None,\n",
       "                       max_features=0.25152305197906943, max_leaf_nodes=None,\n",
       "                       max_samples=None, min_impurity_decrease=0.0,\n",
       "                       min_impurity_split=None, min_samples_leaf=40,\n",
       "                       min_samples_split=2, min_weight_fraction_leaf=0.0,\n",
       "                       n_estimators=911, n_jobs=1, oob_score=False,\n",
       "                       random_state=1, verbose=False, warm_start=False)"
      ]
     },
     "execution_count": 77,
     "metadata": {},
     "output_type": "execute_result"
    }
   ],
   "source": [
    "clf.fit(X_train, y_train)"
   ]
  },
  {
   "cell_type": "code",
   "execution_count": 78,
   "metadata": {},
   "outputs": [
    {
     "name": "stdout",
     "output_type": "stream",
     "text": [
      "Sur l'ensemble d'apprentissage, le modèle a 97.10% de bonnes prédiction\n"
     ]
    }
   ],
   "source": [
    "print(\"Sur l'ensemble d'apprentissage, le modèle a {:.2f}% de bonnes prédiction\".format(clf.score(X_train, y_train)*100))"
   ]
  },
  {
   "cell_type": "code",
   "execution_count": 79,
   "metadata": {},
   "outputs": [
    {
     "name": "stdout",
     "output_type": "stream",
     "text": [
      "Sur l'ensemble de test, le modèle a 96.91% de bonnes prédiction\n"
     ]
    }
   ],
   "source": [
    "print(\"Sur l'ensemble de test, le modèle a {:.2f}% de bonnes prédiction\".format(clf.score(X_test, y_test)*100))"
   ]
  },
  {
   "cell_type": "markdown",
   "metadata": {},
   "source": [
    "<font color=\"grey-black\">Le modèle a donc une performance de presque 97% de bonnes prédictions sur les deux jeux de données (apprentissage et test). Le modèle a donc très bien appris. (Sauf si j'ai un souci de data leakage que je n'ai pas su voir dans le temps limité de l'exercice).</font>"
   ]
  },
  {
   "cell_type": "markdown",
   "metadata": {},
   "source": [
    "# <font color=\"orange\">CONCLUSION</font>"
   ]
  },
  {
   "cell_type": "markdown",
   "metadata": {},
   "source": [
    "<font color=\"grey-black\">Dans ce notebook j'ai essayé de faire passer au lecteur mes compétences en programmation et en Machine Learning. Mais j'ai surtout voulu montrer ma démarche lors d'un exercice de Data Science :</font>\n",
    "\n",
    "<font color=\"grey-black\">D'abord être sur de bien comprendre le jeu de données en construisant le dictionnaire de données. Puis commencer par nettoyer le jeu de données en regardant les valeurs manquantes, le type des données, les valeurs aberrantes, et les hypothèses pour traiter ces données.</font>\n",
    "\n",
    "<font color=\"grey-black\">Ensuite avec la data visualisation et les tests statistiques je me donne une idée sur les données que je manipule. Quelle est la ditribution des données ? Existe-t-il des points qui peuvent être des freins à la modélisation ? Etc... Mais toujours en gardant en tête le but e l'exercice : quelle variable veut-on prédire ? C'est l'objectif de ma partie EDA.</font>\n",
    "\n",
    "<font color=\"grey-black\">Une fois les données assimilées (ou à peu près comprises si le temps est limité) je me lance dans la partie modélisation : garder une partie du jeu de données pour tester la performance des modèles et les comparer, commencer par un modèle \"benchmark\" simple, essayer d'utiliser des outils qui accelèrent le développement et la recherche de modèles, etc...</font>\n",
    "\n",
    "<font color=\"grey-black\">Biensur, en 8 heures, il n'est pas possible de développer toutes ces parties mentionnées et importantes dans leur intégralité mais je laisse au lecteur le soin de regarder la partie suivante qui liste quelques idées de développements possibles pour la suite.</font>"
   ]
  },
  {
   "cell_type": "markdown",
   "metadata": {},
   "source": [
    "# <font color=\"orange\">POUR ALLER PLUS LOIN...</font>"
   ]
  },
  {
   "cell_type": "markdown",
   "metadata": {},
   "source": [
    "<font color=\"grey-black\">Ce travail a été fait en un temps limité (8 heures). Mais beaucoup de travail reste à faire avant de trouver le meilleur modèle possible de prédiction de l'issue d'un match de tennis. Je liste ici l'ensemble des tâches incomplètes ou non faites par manque de temps mais qui sont importantes dans une démarche d'analyse de données et de construction d'un modèle de prédiction.</font>"
   ]
  },
  {
   "cell_type": "markdown",
   "metadata": {},
   "source": [
    "- [ ] <font color=\"grey-black\">Regarder l'ensemble des distributions des variables quantitatives et qualitatives</font>\n",
    "- [ ] <font color=\"grey-black\">Analyser les influences et les corrélations de l'ensemble des variables quantitatives et qualitatives sur l'issue d'un match</font>\n",
    "- [ ] <font color=\"grey-black\">Essayer de transformer les variables pour se rapprocher d'une distribution normale pour les varioables quantitatives et d'une distribution équilibrée pour les variables qualitatives (pour se rapprocher des distributions théoriques idéales pour l'utilisation de modèle de machine learning et avoir de meilleures performances des modèles)</font>\n",
    "- [ ] <font color=\"grey-black\">Construire une meilleure implémentation des valeurs manquantes (knn, kmeans, ...)</font>\n",
    "- [ ] <font color=\"grey-black\">Analyser l'influence sur les distributions et sur les résultats des modèles des différentes stratégie des implémentations des valeurs manquantes</font>\n",
    "- [ ] <font color=\"grey-black\">Mieux traiter les colonnes catégorielles et tester plusieurs méthodes (one hot encoding, Cat2Vec, ...)</font>\n",
    "- [ ] <font color=\"grey-black\">Prendre en compte les données historiques des joueurs : forme du moment, ratio historique de victoire, performance sur la surface du match , etc...</font>\n",
    "- [ ] <font color=\"grey-black\">Regarder l'historique des face à face entre les deux joueurs</font>"
   ]
  },
  {
   "cell_type": "code",
   "execution_count": null,
   "metadata": {},
   "outputs": [],
   "source": []
  }
 ],
 "metadata": {
  "kernelspec": {
   "display_name": "Python 3",
   "language": "python",
   "name": "python3"
  },
  "language_info": {
   "codemirror_mode": {
    "name": "ipython",
    "version": 3
   },
   "file_extension": ".py",
   "mimetype": "text/x-python",
   "name": "python",
   "nbconvert_exporter": "python",
   "pygments_lexer": "ipython3",
   "version": "3.7.7"
  }
 },
 "nbformat": 4,
 "nbformat_minor": 4
}
