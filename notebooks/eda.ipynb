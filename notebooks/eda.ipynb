{
 "cells": [
  {
   "cell_type": "markdown",
   "metadata": {},
   "source": [
    "# <font color=\"orange\">SETUP</font>"
   ]
  },
  {
   "cell_type": "code",
   "execution_count": 193,
   "metadata": {},
   "outputs": [
    {
     "ename": "ModuleNotFoundError",
     "evalue": "No module named 'hpsklearn'",
     "output_type": "error",
     "traceback": [
      "\u001b[0;31m---------------------------------------------------------------------------\u001b[0m",
      "\u001b[0;31mModuleNotFoundError\u001b[0m                       Traceback (most recent call last)",
      "\u001b[0;32m<ipython-input-193-ebe588722039>\u001b[0m in \u001b[0;36m<module>\u001b[0;34m\u001b[0m\n\u001b[1;32m      6\u001b[0m \u001b[0;32mfrom\u001b[0m \u001b[0msklearn\u001b[0m\u001b[0;34m.\u001b[0m\u001b[0mmodel_selection\u001b[0m \u001b[0;32mimport\u001b[0m \u001b[0mtrain_test_split\u001b[0m\u001b[0;34m\u001b[0m\u001b[0;34m\u001b[0m\u001b[0m\n\u001b[1;32m      7\u001b[0m \u001b[0;32mfrom\u001b[0m \u001b[0msklearn\u001b[0m\u001b[0;34m.\u001b[0m\u001b[0mpreprocessing\u001b[0m \u001b[0;32mimport\u001b[0m \u001b[0mLabelEncoder\u001b[0m\u001b[0;34m\u001b[0m\u001b[0;34m\u001b[0m\u001b[0m\n\u001b[0;32m----> 8\u001b[0;31m \u001b[0;32mfrom\u001b[0m \u001b[0mhpsklearn\u001b[0m \u001b[0;32mimport\u001b[0m \u001b[0mHyperoptEstimator\u001b[0m\u001b[0;34m,\u001b[0m \u001b[0many_classifier\u001b[0m\u001b[0;34m\u001b[0m\u001b[0;34m\u001b[0m\u001b[0m\n\u001b[0m\u001b[1;32m      9\u001b[0m \u001b[0;32mfrom\u001b[0m \u001b[0mhyperopt\u001b[0m \u001b[0;32mimport\u001b[0m \u001b[0mtpe\u001b[0m\u001b[0;34m\u001b[0m\u001b[0;34m\u001b[0m\u001b[0m\n\u001b[1;32m     10\u001b[0m \u001b[0;32mfrom\u001b[0m \u001b[0mscipy\u001b[0m\u001b[0;34m.\u001b[0m\u001b[0mstats\u001b[0m \u001b[0;32mimport\u001b[0m \u001b[0mshapiro\u001b[0m\u001b[0;34m,\u001b[0m \u001b[0mttest_rel\u001b[0m\u001b[0;34m\u001b[0m\u001b[0;34m\u001b[0m\u001b[0m\n",
      "\u001b[0;31mModuleNotFoundError\u001b[0m: No module named 'hpsklearn'"
     ]
    }
   ],
   "source": [
    "import pandas as pd\n",
    "pd.set_option('display.max_columns', None)\n",
    "pd.set_option('display.max_rows', 200)\n",
    "\n",
    "import numpy as np\n",
    "from sklearn.model_selection import train_test_split\n",
    "from sklearn.preprocessing import LabelEncoder\n",
    "from hpsklearn import HyperoptEstimator, any_classifier\n",
    "from hyperopt import tpe\n",
    "from scipy.stats import shapiro, ttest_rel\n",
    "from plotnine import *\n",
    "from dfply import *\n",
    "import math"
   ]
  },
  {
   "cell_type": "markdown",
   "metadata": {},
   "source": [
    "# <font color=\"orange\">LOAD DATA</font>"
   ]
  },
  {
   "cell_type": "code",
   "execution_count": 2,
   "metadata": {},
   "outputs": [],
   "source": [
    "df = pd.read_csv(\"../data/ATP.csv\")"
   ]
  },
  {
   "cell_type": "code",
   "execution_count": 3,
   "metadata": {},
   "outputs": [
    {
     "data": {
      "text/plain": [
       "(169690, 49)"
      ]
     },
     "execution_count": 3,
     "metadata": {},
     "output_type": "execute_result"
    }
   ],
   "source": [
    "df.shape"
   ]
  },
  {
   "cell_type": "code",
   "execution_count": 4,
   "metadata": {},
   "outputs": [
    {
     "data": {
      "text/html": [
       "<div>\n",
       "<style scoped>\n",
       "    .dataframe tbody tr th:only-of-type {\n",
       "        vertical-align: middle;\n",
       "    }\n",
       "\n",
       "    .dataframe tbody tr th {\n",
       "        vertical-align: top;\n",
       "    }\n",
       "\n",
       "    .dataframe thead th {\n",
       "        text-align: right;\n",
       "    }\n",
       "</style>\n",
       "<table border=\"1\" class=\"dataframe\">\n",
       "  <thead>\n",
       "    <tr style=\"text-align: right;\">\n",
       "      <th></th>\n",
       "      <th>best_of</th>\n",
       "      <th>draw_size</th>\n",
       "      <th>l_1stIn</th>\n",
       "      <th>l_1stWon</th>\n",
       "      <th>l_2ndWon</th>\n",
       "      <th>l_SvGms</th>\n",
       "      <th>l_ace</th>\n",
       "      <th>l_bpFaced</th>\n",
       "      <th>l_bpSaved</th>\n",
       "      <th>l_df</th>\n",
       "      <th>l_svpt</th>\n",
       "      <th>loser_age</th>\n",
       "      <th>loser_entry</th>\n",
       "      <th>loser_hand</th>\n",
       "      <th>loser_ht</th>\n",
       "      <th>loser_id</th>\n",
       "      <th>loser_ioc</th>\n",
       "      <th>loser_name</th>\n",
       "      <th>loser_rank</th>\n",
       "      <th>loser_rank_points</th>\n",
       "      <th>loser_seed</th>\n",
       "      <th>match_num</th>\n",
       "      <th>minutes</th>\n",
       "      <th>round</th>\n",
       "      <th>score</th>\n",
       "      <th>surface</th>\n",
       "      <th>tourney_date</th>\n",
       "      <th>tourney_id</th>\n",
       "      <th>tourney_level</th>\n",
       "      <th>tourney_name</th>\n",
       "      <th>w_1stIn</th>\n",
       "      <th>w_1stWon</th>\n",
       "      <th>w_2ndWon</th>\n",
       "      <th>w_SvGms</th>\n",
       "      <th>w_ace</th>\n",
       "      <th>w_bpFaced</th>\n",
       "      <th>w_bpSaved</th>\n",
       "      <th>w_df</th>\n",
       "      <th>w_svpt</th>\n",
       "      <th>winner_age</th>\n",
       "      <th>winner_entry</th>\n",
       "      <th>winner_hand</th>\n",
       "      <th>winner_ht</th>\n",
       "      <th>winner_id</th>\n",
       "      <th>winner_ioc</th>\n",
       "      <th>winner_name</th>\n",
       "      <th>winner_rank</th>\n",
       "      <th>winner_rank_points</th>\n",
       "      <th>winner_seed</th>\n",
       "    </tr>\n",
       "  </thead>\n",
       "  <tbody>\n",
       "    <tr>\n",
       "      <th>0</th>\n",
       "      <td>5</td>\n",
       "      <td>64.0</td>\n",
       "      <td>NaN</td>\n",
       "      <td>NaN</td>\n",
       "      <td>NaN</td>\n",
       "      <td>NaN</td>\n",
       "      <td>NaN</td>\n",
       "      <td>NaN</td>\n",
       "      <td>NaN</td>\n",
       "      <td>NaN</td>\n",
       "      <td>NaN</td>\n",
       "      <td>NaN</td>\n",
       "      <td>NaN</td>\n",
       "      <td>R</td>\n",
       "      <td>NaN</td>\n",
       "      <td>107760</td>\n",
       "      <td>AUS</td>\n",
       "      <td>Max Senior</td>\n",
       "      <td>NaN</td>\n",
       "      <td>NaN</td>\n",
       "      <td>NaN</td>\n",
       "      <td>1</td>\n",
       "      <td>NaN</td>\n",
       "      <td>R64</td>\n",
       "      <td>12-10 7-5 4-6 7-5</td>\n",
       "      <td>Grass</td>\n",
       "      <td>19680119</td>\n",
       "      <td>1968-580</td>\n",
       "      <td>G</td>\n",
       "      <td>Australian Chps.</td>\n",
       "      <td>NaN</td>\n",
       "      <td>NaN</td>\n",
       "      <td>NaN</td>\n",
       "      <td>NaN</td>\n",
       "      <td>NaN</td>\n",
       "      <td>NaN</td>\n",
       "      <td>NaN</td>\n",
       "      <td>NaN</td>\n",
       "      <td>NaN</td>\n",
       "      <td>NaN</td>\n",
       "      <td>NaN</td>\n",
       "      <td>R</td>\n",
       "      <td>NaN</td>\n",
       "      <td>110023</td>\n",
       "      <td>AUS</td>\n",
       "      <td>Richard Coulthard</td>\n",
       "      <td>NaN</td>\n",
       "      <td>NaN</td>\n",
       "      <td>NaN</td>\n",
       "    </tr>\n",
       "    <tr>\n",
       "      <th>1</th>\n",
       "      <td>5</td>\n",
       "      <td>64.0</td>\n",
       "      <td>NaN</td>\n",
       "      <td>NaN</td>\n",
       "      <td>NaN</td>\n",
       "      <td>NaN</td>\n",
       "      <td>NaN</td>\n",
       "      <td>NaN</td>\n",
       "      <td>NaN</td>\n",
       "      <td>NaN</td>\n",
       "      <td>NaN</td>\n",
       "      <td>NaN</td>\n",
       "      <td>NaN</td>\n",
       "      <td>R</td>\n",
       "      <td>NaN</td>\n",
       "      <td>106964</td>\n",
       "      <td>AUS</td>\n",
       "      <td>Ernie Mccabe</td>\n",
       "      <td>NaN</td>\n",
       "      <td>NaN</td>\n",
       "      <td>NaN</td>\n",
       "      <td>2</td>\n",
       "      <td>NaN</td>\n",
       "      <td>R64</td>\n",
       "      <td>6-3 6-2 6-4</td>\n",
       "      <td>Grass</td>\n",
       "      <td>19680119</td>\n",
       "      <td>1968-580</td>\n",
       "      <td>G</td>\n",
       "      <td>Australian Chps.</td>\n",
       "      <td>NaN</td>\n",
       "      <td>NaN</td>\n",
       "      <td>NaN</td>\n",
       "      <td>NaN</td>\n",
       "      <td>NaN</td>\n",
       "      <td>NaN</td>\n",
       "      <td>NaN</td>\n",
       "      <td>NaN</td>\n",
       "      <td>NaN</td>\n",
       "      <td>27.520876</td>\n",
       "      <td>NaN</td>\n",
       "      <td>R</td>\n",
       "      <td>NaN</td>\n",
       "      <td>109803</td>\n",
       "      <td>AUS</td>\n",
       "      <td>John Brown</td>\n",
       "      <td>NaN</td>\n",
       "      <td>NaN</td>\n",
       "      <td>NaN</td>\n",
       "    </tr>\n",
       "    <tr>\n",
       "      <th>2</th>\n",
       "      <td>5</td>\n",
       "      <td>64.0</td>\n",
       "      <td>NaN</td>\n",
       "      <td>NaN</td>\n",
       "      <td>NaN</td>\n",
       "      <td>NaN</td>\n",
       "      <td>NaN</td>\n",
       "      <td>NaN</td>\n",
       "      <td>NaN</td>\n",
       "      <td>NaN</td>\n",
       "      <td>NaN</td>\n",
       "      <td>NaN</td>\n",
       "      <td>NaN</td>\n",
       "      <td>R</td>\n",
       "      <td>NaN</td>\n",
       "      <td>110024</td>\n",
       "      <td>INA</td>\n",
       "      <td>Gondo Widjojo</td>\n",
       "      <td>NaN</td>\n",
       "      <td>NaN</td>\n",
       "      <td>15.0</td>\n",
       "      <td>3</td>\n",
       "      <td>NaN</td>\n",
       "      <td>R64</td>\n",
       "      <td>6-4 3-6 6-3 7-5</td>\n",
       "      <td>Grass</td>\n",
       "      <td>19680119</td>\n",
       "      <td>1968-580</td>\n",
       "      <td>G</td>\n",
       "      <td>Australian Chps.</td>\n",
       "      <td>NaN</td>\n",
       "      <td>NaN</td>\n",
       "      <td>NaN</td>\n",
       "      <td>NaN</td>\n",
       "      <td>NaN</td>\n",
       "      <td>NaN</td>\n",
       "      <td>NaN</td>\n",
       "      <td>NaN</td>\n",
       "      <td>NaN</td>\n",
       "      <td>16.216290</td>\n",
       "      <td>NaN</td>\n",
       "      <td>R</td>\n",
       "      <td>NaN</td>\n",
       "      <td>100257</td>\n",
       "      <td>AUS</td>\n",
       "      <td>Ross Case</td>\n",
       "      <td>NaN</td>\n",
       "      <td>NaN</td>\n",
       "      <td>NaN</td>\n",
       "    </tr>\n",
       "    <tr>\n",
       "      <th>3</th>\n",
       "      <td>5</td>\n",
       "      <td>64.0</td>\n",
       "      <td>NaN</td>\n",
       "      <td>NaN</td>\n",
       "      <td>NaN</td>\n",
       "      <td>NaN</td>\n",
       "      <td>NaN</td>\n",
       "      <td>NaN</td>\n",
       "      <td>NaN</td>\n",
       "      <td>NaN</td>\n",
       "      <td>NaN</td>\n",
       "      <td>NaN</td>\n",
       "      <td>NaN</td>\n",
       "      <td>R</td>\n",
       "      <td>NaN</td>\n",
       "      <td>110025</td>\n",
       "      <td>AUS</td>\n",
       "      <td>Robert Layton</td>\n",
       "      <td>NaN</td>\n",
       "      <td>NaN</td>\n",
       "      <td>NaN</td>\n",
       "      <td>4</td>\n",
       "      <td>NaN</td>\n",
       "      <td>R64</td>\n",
       "      <td>6-4 6-2 6-1</td>\n",
       "      <td>Grass</td>\n",
       "      <td>19680119</td>\n",
       "      <td>1968-580</td>\n",
       "      <td>G</td>\n",
       "      <td>Australian Chps.</td>\n",
       "      <td>NaN</td>\n",
       "      <td>NaN</td>\n",
       "      <td>NaN</td>\n",
       "      <td>NaN</td>\n",
       "      <td>NaN</td>\n",
       "      <td>NaN</td>\n",
       "      <td>NaN</td>\n",
       "      <td>NaN</td>\n",
       "      <td>NaN</td>\n",
       "      <td>22.264203</td>\n",
       "      <td>NaN</td>\n",
       "      <td>R</td>\n",
       "      <td>NaN</td>\n",
       "      <td>100105</td>\n",
       "      <td>AUS</td>\n",
       "      <td>Allan Stone</td>\n",
       "      <td>NaN</td>\n",
       "      <td>NaN</td>\n",
       "      <td>5.0</td>\n",
       "    </tr>\n",
       "    <tr>\n",
       "      <th>4</th>\n",
       "      <td>5</td>\n",
       "      <td>64.0</td>\n",
       "      <td>NaN</td>\n",
       "      <td>NaN</td>\n",
       "      <td>NaN</td>\n",
       "      <td>NaN</td>\n",
       "      <td>NaN</td>\n",
       "      <td>NaN</td>\n",
       "      <td>NaN</td>\n",
       "      <td>NaN</td>\n",
       "      <td>NaN</td>\n",
       "      <td>NaN</td>\n",
       "      <td>NaN</td>\n",
       "      <td>R</td>\n",
       "      <td>NaN</td>\n",
       "      <td>110026</td>\n",
       "      <td>AUS</td>\n",
       "      <td>Bert Kearney</td>\n",
       "      <td>NaN</td>\n",
       "      <td>NaN</td>\n",
       "      <td>NaN</td>\n",
       "      <td>5</td>\n",
       "      <td>NaN</td>\n",
       "      <td>R64</td>\n",
       "      <td>6-4 6-1 7-5</td>\n",
       "      <td>Grass</td>\n",
       "      <td>19680119</td>\n",
       "      <td>1968-580</td>\n",
       "      <td>G</td>\n",
       "      <td>Australian Chps.</td>\n",
       "      <td>NaN</td>\n",
       "      <td>NaN</td>\n",
       "      <td>NaN</td>\n",
       "      <td>NaN</td>\n",
       "      <td>NaN</td>\n",
       "      <td>NaN</td>\n",
       "      <td>NaN</td>\n",
       "      <td>NaN</td>\n",
       "      <td>NaN</td>\n",
       "      <td>29.861739</td>\n",
       "      <td>NaN</td>\n",
       "      <td>R</td>\n",
       "      <td>NaN</td>\n",
       "      <td>109966</td>\n",
       "      <td>AUS</td>\n",
       "      <td>Warren Jacques</td>\n",
       "      <td>NaN</td>\n",
       "      <td>NaN</td>\n",
       "      <td>NaN</td>\n",
       "    </tr>\n",
       "  </tbody>\n",
       "</table>\n",
       "</div>"
      ],
      "text/plain": [
       "   best_of  draw_size  l_1stIn  l_1stWon  l_2ndWon  l_SvGms  l_ace  l_bpFaced  \\\n",
       "0        5       64.0      NaN       NaN       NaN      NaN    NaN        NaN   \n",
       "1        5       64.0      NaN       NaN       NaN      NaN    NaN        NaN   \n",
       "2        5       64.0      NaN       NaN       NaN      NaN    NaN        NaN   \n",
       "3        5       64.0      NaN       NaN       NaN      NaN    NaN        NaN   \n",
       "4        5       64.0      NaN       NaN       NaN      NaN    NaN        NaN   \n",
       "\n",
       "   l_bpSaved  l_df  l_svpt  loser_age loser_entry loser_hand  loser_ht  \\\n",
       "0        NaN   NaN     NaN        NaN         NaN          R       NaN   \n",
       "1        NaN   NaN     NaN        NaN         NaN          R       NaN   \n",
       "2        NaN   NaN     NaN        NaN         NaN          R       NaN   \n",
       "3        NaN   NaN     NaN        NaN         NaN          R       NaN   \n",
       "4        NaN   NaN     NaN        NaN         NaN          R       NaN   \n",
       "\n",
       "   loser_id loser_ioc     loser_name  loser_rank  loser_rank_points  \\\n",
       "0    107760       AUS     Max Senior         NaN                NaN   \n",
       "1    106964       AUS   Ernie Mccabe         NaN                NaN   \n",
       "2    110024       INA  Gondo Widjojo         NaN                NaN   \n",
       "3    110025       AUS  Robert Layton         NaN                NaN   \n",
       "4    110026       AUS   Bert Kearney         NaN                NaN   \n",
       "\n",
       "   loser_seed  match_num  minutes round              score surface  \\\n",
       "0         NaN          1      NaN   R64  12-10 7-5 4-6 7-5   Grass   \n",
       "1         NaN          2      NaN   R64        6-3 6-2 6-4   Grass   \n",
       "2        15.0          3      NaN   R64    6-4 3-6 6-3 7-5   Grass   \n",
       "3         NaN          4      NaN   R64        6-4 6-2 6-1   Grass   \n",
       "4         NaN          5      NaN   R64        6-4 6-1 7-5   Grass   \n",
       "\n",
       "   tourney_date tourney_id tourney_level      tourney_name  w_1stIn  w_1stWon  \\\n",
       "0      19680119   1968-580             G  Australian Chps.      NaN       NaN   \n",
       "1      19680119   1968-580             G  Australian Chps.      NaN       NaN   \n",
       "2      19680119   1968-580             G  Australian Chps.      NaN       NaN   \n",
       "3      19680119   1968-580             G  Australian Chps.      NaN       NaN   \n",
       "4      19680119   1968-580             G  Australian Chps.      NaN       NaN   \n",
       "\n",
       "   w_2ndWon  w_SvGms  w_ace  w_bpFaced  w_bpSaved  w_df  w_svpt  winner_age  \\\n",
       "0       NaN      NaN    NaN        NaN        NaN   NaN     NaN         NaN   \n",
       "1       NaN      NaN    NaN        NaN        NaN   NaN     NaN   27.520876   \n",
       "2       NaN      NaN    NaN        NaN        NaN   NaN     NaN   16.216290   \n",
       "3       NaN      NaN    NaN        NaN        NaN   NaN     NaN   22.264203   \n",
       "4       NaN      NaN    NaN        NaN        NaN   NaN     NaN   29.861739   \n",
       "\n",
       "  winner_entry winner_hand  winner_ht  winner_id winner_ioc  \\\n",
       "0          NaN           R        NaN     110023        AUS   \n",
       "1          NaN           R        NaN     109803        AUS   \n",
       "2          NaN           R        NaN     100257        AUS   \n",
       "3          NaN           R        NaN     100105        AUS   \n",
       "4          NaN           R        NaN     109966        AUS   \n",
       "\n",
       "         winner_name  winner_rank  winner_rank_points  winner_seed  \n",
       "0  Richard Coulthard          NaN                 NaN          NaN  \n",
       "1         John Brown          NaN                 NaN          NaN  \n",
       "2          Ross Case          NaN                 NaN          NaN  \n",
       "3        Allan Stone          NaN                 NaN          5.0  \n",
       "4     Warren Jacques          NaN                 NaN          NaN  "
      ]
     },
     "execution_count": 4,
     "metadata": {},
     "output_type": "execute_result"
    }
   ],
   "source": [
    "df.head()"
   ]
  },
  {
   "cell_type": "markdown",
   "metadata": {},
   "source": [
    "## <font color=\"green\">DATA DICTIONARY</font>"
   ]
  },
  {
   "cell_type": "markdown",
   "metadata": {},
   "source": [
    "* `tourney_id` - tournament's id\n",
    "* `tourney_name` - tournament's name\n",
    "* `surface` - surface in which the match is played\n",
    "* `draw_size` - the size of the draw\n",
    "* `tourney_level` - tournament level ('G' = Grand Slams, 'M' = Masters 1000s, 'A' = other tour-level events, 'C' = Challengers, 'S' = Satellites/ITFs, 'F' = Tour finals and other season-ending events, 'D' = Davis Cup)\n",
    "* `tourney_date` - starting date of the tournament\n",
    "* `match_num` - match number in a certain tournament\n",
    "* `winner_id` & `loser_id` - player id\n",
    "* `winner_seed` & `loser_seed` - the seed of the player in that tournament\n",
    "* `winner_entry` & `loser_entry` - How did the player enter the tournaments? (WC - Wildcard, Q - Qualifier, LL - Lucky loser, PR - Protected ranking, SE - Special Exempt, ALT - Alternate player)\n",
    "* `winner_name` & `loser_name` - player name\n",
    "* `winner_hand` & `loser_hand` - hand of the player, right or left\n",
    "* `winner_ht` & `loser_ht` - the height of the player\n",
    "* `winner_ioc` & `loser_ioc` - the country of origin\n",
    "* `winner_age` & `loser_age` - age of the player\n",
    "* `score` - final score in the match\n",
    "* `best_of` - the maximum number of sets played\n",
    "* `round` - the round in the tournament a match belongs to\n",
    "* `minutes` - duration of the match in minutes\n",
    "* `w_ace`& `l_ace` - number of aces in the match\n",
    "* `w_df`& `l_df` - double faults\n",
    "* `w_svpt`& `l_svpt` - serve percent\n",
    "* `w_1stIn` & `l_1stIn` - first serve in percent\n",
    "* `w_1stWon` & `l_1stWon` - first serve winning percent\n",
    "* `w_2ndWon` & `l_2ndWon` - second serve winning percent\n",
    "* `w_SvGms` & `l_SvGms` - number of games played on serve (So, the maximum difference between wSvGms and lSvGms will be 1)\n",
    "* `w_bpSaved` & `l_bpSaved` - breakpoints saved\n",
    "* `w_bpFaced` & `l_bpFaced` - breakpoints faced\n",
    "\n",
    "Columns not in the data dictionary:\n",
    "* `loser_rank`\n",
    "* `loser_rank_points`\n",
    "* `winner_rank`\n",
    "* `winner_rank_points`"
   ]
  },
  {
   "cell_type": "code",
   "execution_count": 191,
   "metadata": {},
   "outputs": [
    {
     "data": {
      "text/plain": [
       "best_of                        int64\n",
       "l_1stIn                      float64\n",
       "l_1stWon                     float64\n",
       "l_2ndWon                     float64\n",
       "l_SvGms                      float64\n",
       "l_ace                        float64\n",
       "l_bpFaced                    float64\n",
       "l_bpSaved                    float64\n",
       "l_df                         float64\n",
       "l_svpt                       float64\n",
       "loser_age                    float64\n",
       "loser_entry                   object\n",
       "loser_hand                    object\n",
       "loser_ht                     float64\n",
       "loser_id                       int64\n",
       "loser_ioc                     object\n",
       "loser_name                    object\n",
       "loser_rank                   float64\n",
       "loser_rank_points            float64\n",
       "loser_seed                   float64\n",
       "match_num                      int64\n",
       "minutes                      float64\n",
       "tourney_stage                 object\n",
       "score                         object\n",
       "surface                       object\n",
       "tourney_date          datetime64[ns]\n",
       "tourney_id                    object\n",
       "tourney_level                 object\n",
       "tourney_name                  object\n",
       "w_1stIn                      float64\n",
       "w_1stWon                     float64\n",
       "w_2ndWon                     float64\n",
       "w_SvGms                      float64\n",
       "w_ace                        float64\n",
       "w_bpFaced                    float64\n",
       "w_bpSaved                    float64\n",
       "w_df                         float64\n",
       "w_svpt                       float64\n",
       "winner_age                   float64\n",
       "winner_entry                  object\n",
       "winner_hand                   object\n",
       "winner_ht                    float64\n",
       "winner_id                      int64\n",
       "winner_ioc                    object\n",
       "winner_name                   object\n",
       "winner_rank                  float64\n",
       "winner_rank_points           float64\n",
       "winner_seed                  float64\n",
       "tourney_year                   int64\n",
       "nb_nan                         int64\n",
       "dtype: object"
      ]
     },
     "execution_count": 191,
     "metadata": {},
     "output_type": "execute_result"
    }
   ],
   "source": [
    "df.dtypes"
   ]
  },
  {
   "cell_type": "markdown",
   "metadata": {},
   "source": [
    "# <font color=\"orange\">PREMIER NETTOYAGE DE DONNÉES</font>"
   ]
  },
  {
   "cell_type": "markdown",
   "metadata": {},
   "source": [
    "<font color=\"grey-black\">Renommer la colonne `round` car c'est un mot réservé (\"key word\") en Python, donc pour éviter toute erreur, mieux vaut changer le nom de la colonne.</font>"
   ]
  },
  {
   "cell_type": "code",
   "execution_count": 5,
   "metadata": {},
   "outputs": [],
   "source": [
    "df = df.rename({'round': 'tourney_stage'}, axis='columns')"
   ]
  },
  {
   "cell_type": "markdown",
   "metadata": {},
   "source": [
    "<font color=\"grey-black\">Reordonner le jeu de données par date</font>"
   ]
  },
  {
   "cell_type": "code",
   "execution_count": 6,
   "metadata": {},
   "outputs": [],
   "source": [
    "df['tourney_date'] = pd.to_datetime(df['tourney_date'], format=\"%Y%m%d\")\n",
    "df = df.sort_values(['tourney_date', 'match_num'])"
   ]
  },
  {
   "cell_type": "code",
   "execution_count": 7,
   "metadata": {},
   "outputs": [],
   "source": [
    "df['tourney_year'] = df['tourney_date'].dt.year"
   ]
  },
  {
   "cell_type": "markdown",
   "metadata": {},
   "source": [
    "<font color=\"grey-black\">Remplacer la chaine de charactères 'None' dans la colonne `surface` par une valeur manquante `NaN`</font>"
   ]
  },
  {
   "cell_type": "code",
   "execution_count": 8,
   "metadata": {},
   "outputs": [],
   "source": [
    "df['surface'] = df['surface'].replace({'None': np.nan})"
   ]
  },
  {
   "cell_type": "markdown",
   "metadata": {},
   "source": [
    "### CREATE DICTIONARY OF PLAYERS WITH STATIC DATA"
   ]
  },
  {
   "cell_type": "code",
   "execution_count": 9,
   "metadata": {},
   "outputs": [],
   "source": [
    "# first extract ids in loser and winner columns with static columns (and drop duplicates)\n",
    "losers = df[['loser_id', 'loser_name', 'loser_hand', 'loser_ht', 'loser_ioc']].drop_duplicates()\n",
    "winners = df[['winner_id', 'winner_name', 'winner_hand', 'winner_ht', 'winner_ioc']].drop_duplicates()"
   ]
  },
  {
   "cell_type": "code",
   "execution_count": 10,
   "metadata": {},
   "outputs": [],
   "source": [
    "# rename columns\n",
    "for col in losers.columns:\n",
    "    losers.rename(columns={col: col.split('_')[-1]}, inplace=True)\n",
    "for col in winners.columns:\n",
    "    winners.rename(columns={col: col.split('_')[-1]}, inplace=True)"
   ]
  },
  {
   "cell_type": "code",
   "execution_count": 11,
   "metadata": {},
   "outputs": [
    {
     "name": "stdout",
     "output_type": "stream",
     "text": [
      "          id                    name hand     ht  ioc\n",
      "608   100032  Patricio Rodriguez CHI    R  188.0  CHI\n",
      "1576  100032  Patricio Rodriguez Chi    R  188.0  CHI\n",
      "          id                    name hand     ht  ioc\n",
      "541   100032  Patricio Rodriguez CHI    R  188.0  CHI\n",
      "1656  100032  Patricio Rodriguez Chi    R  188.0  CHI\n"
     ]
    }
   ],
   "source": [
    "# check for players with same id and different names if any...\n",
    "print(losers[losers['id'] == losers[losers.duplicated(['id'])]['id'].values[0]])\n",
    "print(winners[winners['id'] == winners[winners.duplicated(['id'])]['id'].values[0]])"
   ]
  },
  {
   "cell_type": "markdown",
   "metadata": {},
   "source": [
    "<font color=\"grey-black\">Patricio Rodriguez a deux noms différents dans le jeu de données, nettoyons ça une bonne fois pour toute.</font>"
   ]
  },
  {
   "cell_type": "code",
   "execution_count": 12,
   "metadata": {},
   "outputs": [],
   "source": [
    "losers.loc[losers['id'] == 100032, 'name'] = \"Patricio Rodriguez\"\n",
    "winners.loc[winners['id'] == 100032, 'name'] = \"Patricio Rodriguez\""
   ]
  },
  {
   "cell_type": "code",
   "execution_count": 13,
   "metadata": {},
   "outputs": [],
   "source": [
    "losers = losers.drop_duplicates()\n",
    "winners = winners.drop_duplicates()"
   ]
  },
  {
   "cell_type": "code",
   "execution_count": 14,
   "metadata": {},
   "outputs": [
    {
     "data": {
      "text/plain": [
       "False"
      ]
     },
     "execution_count": 14,
     "metadata": {},
     "output_type": "execute_result"
    }
   ],
   "source": [
    "any(losers.duplicated())"
   ]
  },
  {
   "cell_type": "markdown",
   "metadata": {},
   "source": [
    "<font color=\"grey-black\">Maintenant on peut créer un jeu de données avec les caractéristiques des joueurs à partir de leur IDs.</font>"
   ]
  },
  {
   "cell_type": "code",
   "execution_count": 15,
   "metadata": {},
   "outputs": [
    {
     "data": {
      "text/plain": [
       "{'name': 'Tony Pospisil', 'hand': 'U', 'ht': nan, 'ioc': 'CAN'}"
      ]
     },
     "execution_count": 15,
     "metadata": {},
     "output_type": "execute_result"
    }
   ],
   "source": [
    "losers.set_index('id').to_dict(orient='index')[109978]"
   ]
  },
  {
   "cell_type": "code",
   "execution_count": 16,
   "metadata": {},
   "outputs": [],
   "source": [
    "players = losers.set_index('id').to_dict(orient='index')\n",
    "players.update(winners.set_index('id').to_dict(orient='index'))\n",
    "\n",
    "# create a pandas DataFrame from this dictionary to be able to join it quickly\n",
    "players_data = pd.DataFrame.from_dict(players, orient='index').reset_index().rename(columns={'index': 'player_id'})"
   ]
  },
  {
   "cell_type": "code",
   "execution_count": 17,
   "metadata": {},
   "outputs": [
    {
     "data": {
      "text/plain": [
       "{'name': 'Tony Pospisil', 'hand': 'U', 'ht': nan, 'ioc': 'CAN'}"
      ]
     },
     "execution_count": 17,
     "metadata": {},
     "output_type": "execute_result"
    }
   ],
   "source": [
    "players[109978]"
   ]
  },
  {
   "cell_type": "code",
   "execution_count": 18,
   "metadata": {},
   "outputs": [
    {
     "data": {
      "text/html": [
       "<div>\n",
       "<style scoped>\n",
       "    .dataframe tbody tr th:only-of-type {\n",
       "        vertical-align: middle;\n",
       "    }\n",
       "\n",
       "    .dataframe tbody tr th {\n",
       "        vertical-align: top;\n",
       "    }\n",
       "\n",
       "    .dataframe thead th {\n",
       "        text-align: right;\n",
       "    }\n",
       "</style>\n",
       "<table border=\"1\" class=\"dataframe\">\n",
       "  <thead>\n",
       "    <tr style=\"text-align: right;\">\n",
       "      <th></th>\n",
       "      <th>player_id</th>\n",
       "      <th>name</th>\n",
       "      <th>hand</th>\n",
       "      <th>ht</th>\n",
       "      <th>ioc</th>\n",
       "    </tr>\n",
       "  </thead>\n",
       "  <tbody>\n",
       "    <tr>\n",
       "      <th>619</th>\n",
       "      <td>109978</td>\n",
       "      <td>Tony Pospisil</td>\n",
       "      <td>U</td>\n",
       "      <td>NaN</td>\n",
       "      <td>CAN</td>\n",
       "    </tr>\n",
       "  </tbody>\n",
       "</table>\n",
       "</div>"
      ],
      "text/plain": [
       "     player_id           name hand  ht  ioc\n",
       "619     109978  Tony Pospisil    U NaN  CAN"
      ]
     },
     "execution_count": 18,
     "metadata": {},
     "output_type": "execute_result"
    }
   ],
   "source": [
    "players_data[players_data['player_id'] == 109978]"
   ]
  },
  {
   "cell_type": "markdown",
   "metadata": {},
   "source": [
    "# <font color=\"orange\">EXPLORATORY DATA ANALYSIS (EDA)</font>"
   ]
  },
  {
   "cell_type": "markdown",
   "metadata": {},
   "source": [
    "<font color=\"grey-black\">Dans l'EDA, je commence par observer quelques stastiques intéressantes, sur le nombre de matches et de victoires par joueur, puis sur l'évolution du tennis dans le temps. Cela permet de mieux comprendre le jeu de données et de se faire une idée sur ce qu'il peut être fait autour de celui-ci.  \n",
    "Ensuite, j'étudie quelques statistiques de joueurs dans le jeu de données qui pourraient donner une indication sur la probabilité de tel joueur de gagné contre un autre. Cela permet d'itentifier quelques variables intéressantes pour notre objectif : prédire l'issue d'un match de tennis.  \n",
    "Après cette partie EDA, je développerai une partie modèle de prédiction.</font>"
   ]
  },
  {
   "cell_type": "markdown",
   "metadata": {},
   "source": [
    "## <font color=\"green\">STATISTIQUES DES MATCHES ET EVOLUTION DU TENNIS</font>"
   ]
  },
  {
   "cell_type": "code",
   "execution_count": 19,
   "metadata": {},
   "outputs": [
    {
     "name": "stdout",
     "output_type": "stream",
     "text": [
      "Periode d'observation : du 1968-01-19 00:00:00 au 2019-02-25 00:00:00\n"
     ]
    }
   ],
   "source": [
    "print(\"Periode d'observation : du {} au {}\".format(min(df['tourney_date']), max(df['tourney_date'])))"
   ]
  },
  {
   "cell_type": "markdown",
   "metadata": {},
   "source": [
    "<font color=\"grey-black\">La période observée concentre donc l'ensemble de [l'ère Open du tennis](https://fr.wikipedia.org/wiki/Ère_Open), c'est-à-dire l'ère moderne du tennis jusqu'au début de l'année 2019.</font>"
   ]
  },
  {
   "cell_type": "markdown",
   "metadata": {},
   "source": [
    "### <font color=\"brown\">NUMBER OF MATCH PER PLAYER</font>"
   ]
  },
  {
   "cell_type": "code",
   "execution_count": 20,
   "metadata": {},
   "outputs": [
    {
     "name": "stdout",
     "output_type": "stream",
     "text": [
      "Il y a 5894 differents joueurs dans le jeu de données, pour 169690 matches\n"
     ]
    }
   ],
   "source": [
    "print(\"Il y a {} differents joueurs dans le jeu de données, pour {} matches\".format(len(players), df.shape[0]))"
   ]
  },
  {
   "cell_type": "markdown",
   "metadata": {},
   "source": [
    "<font color=\"grey-black\">Distribution du nombre de matches par joueur :</font>"
   ]
  },
  {
   "cell_type": "code",
   "execution_count": 21,
   "metadata": {},
   "outputs": [],
   "source": [
    "nb_lost = df['loser_id'].value_counts().to_frame(name=\"nb_lost\")\n",
    "\n",
    "nb_win = df['winner_id'].value_counts().to_frame(name=\"nb_wins\")\n",
    "\n",
    "nb_matches = pd.concat([nb_lost, nb_win], axis=1, sort=False).fillna(0)\n",
    "nb_matches['total'] = nb_matches['nb_lost'] + nb_matches['nb_wins']\n",
    "nb_matches = nb_matches.sort_values(['total'], ascending=False)\n",
    "nb_matches = nb_matches.reset_index().rename({'index': 'player_id'}, axis='columns')"
   ]
  },
  {
   "cell_type": "code",
   "execution_count": 22,
   "metadata": {},
   "outputs": [],
   "source": [
    "nb_matches = pd.merge(nb_matches, players_data, how='left')"
   ]
  },
  {
   "cell_type": "code",
   "execution_count": 23,
   "metadata": {},
   "outputs": [
    {
     "data": {
      "image/png": "[encoded data removed]",
      "text/plain": [
       "<Figure size 640x480 with 1 Axes>"
      ]
     },
     "metadata": {},
     "output_type": "display_data"
    },
    {
     "data": {
      "text/plain": [
       "<ggplot: (301771885)>"
      ]
     },
     "execution_count": 23,
     "metadata": {},
     "output_type": "execute_result"
    }
   ],
   "source": [
    "(\n",
    "    ggplot(nb_matches, aes(x='total'))\n",
    "    + geom_histogram(binwidth=5)\n",
    "    + coord_cartesian(xlim=(0, 500))\n",
    ")"
   ]
  },
  {
   "cell_type": "code",
   "execution_count": 24,
   "metadata": {},
   "outputs": [
    {
     "data": {
      "text/plain": [
       "0.48829317950458095"
      ]
     },
     "execution_count": 24,
     "metadata": {},
     "output_type": "execute_result"
    }
   ],
   "source": [
    "sum(nb_matches['total'] < 5) / nb_matches.shape[0]"
   ]
  },
  {
   "cell_type": "code",
   "execution_count": 25,
   "metadata": {},
   "outputs": [
    {
     "data": {
      "text/plain": [
       "0.24584323040380046"
      ]
     },
     "execution_count": 25,
     "metadata": {},
     "output_type": "execute_result"
    }
   ],
   "source": [
    "sum(nb_matches['total'] == 1) / nb_matches.shape[0]"
   ]
  },
  {
   "cell_type": "markdown",
   "metadata": {},
   "source": [
    "<font color=\"grey-black\">Beacoup de joueur n'ont disputé que très peu de matches dans ce jeu de données : environ 49% des joeurs ont moins de 5 matches, et presque un quart des joueurs n'ont fait qu'un match.</font>"
   ]
  },
  {
   "cell_type": "markdown",
   "metadata": {},
   "source": [
    "<font color=\"grey-black\">Quel joueur ont fait le plus de matches dans leur carrière ?</font>"
   ]
  },
  {
   "cell_type": "code",
   "execution_count": 26,
   "metadata": {},
   "outputs": [
    {
     "name": "stderr",
     "output_type": "stream",
     "text": [
      "/Users/antoinemertz/.local/share/virtualenvs/tennis-game-prediction-G_Zh9rmk/lib/python3.7/site-packages/pandas/core/indexing.py:966: SettingWithCopyWarning: \n",
      "A value is trying to be set on a copy of a slice from a DataFrame.\n",
      "Try using .loc[row_indexer,col_indexer] = value instead\n",
      "\n",
      "See the caveats in the documentation: https://pandas.pydata.org/pandas-docs/stable/user_guide/indexing.html#returning-a-view-versus-a-copy\n",
      "  self.obj[item] = s\n"
     ]
    }
   ],
   "source": [
    "most_matches = nb_matches.head(10)\n",
    "most_matches.loc[:,['name']] = pd.Categorical(most_matches['name'], categories=most_matches['name'], ordered=True)"
   ]
  },
  {
   "cell_type": "code",
   "execution_count": 27,
   "metadata": {},
   "outputs": [
    {
     "data": {
      "image/png": "[encoded data removed]",
      "text/plain": [
       "<Figure size 640x480 with 1 Axes>"
      ]
     },
     "metadata": {},
     "output_type": "display_data"
    },
    {
     "data": {
      "text/plain": [
       "<ggplot: (301972957)>"
      ]
     },
     "execution_count": 27,
     "metadata": {},
     "output_type": "execute_result"
    }
   ],
   "source": [
    "(\n",
    "    ggplot(most_matches, aes(x='name', y='total'))\n",
    "    + geom_bar(stat=\"identity\")\n",
    "    + coord_flip()\n",
    ")"
   ]
  },
  {
   "cell_type": "markdown",
   "metadata": {},
   "source": [
    "<font color=\"grey-black\">On ne retourve que des légendes du jeu (à part peut-être David Ferrer, qui est le seul a ne pas avoir remporté de Grand Chelem). Ce sont des joueurs qui ont beaucoup gagné, et donc disputé beaucoup de matches. Seul 2 joueurs sont encore en activité : Roger Federer et Rafael Nadal.</font>"
   ]
  },
  {
   "cell_type": "markdown",
   "metadata": {},
   "source": [
    "<font color=\"grey-black\">Quels sont les joueurs qui ont remporté le plus de tournoi ?</font>"
   ]
  },
  {
   "cell_type": "code",
   "execution_count": 28,
   "metadata": {},
   "outputs": [],
   "source": [
    "top_winners = (\n",
    "    df >>\n",
    "    mask(X.tourney_stage == 'F') >>\n",
    "    select(X.winner_id, X.winner_name, X.tourney_level) >>\n",
    "    group_by(X.winner_id, X.winner_name, X.tourney_level) >>\n",
    "    mutate(nb = n(X.winner_id)) >>\n",
    "    ungroup() >>\n",
    "    group_by(X.winner_id, X.winner_name) >>\n",
    "    mutate(total = n(X.winner_id)) >>\n",
    "    distinct(X.winner_id, X.winner_name, X.tourney_level, X.nb, X.total)\n",
    ")"
   ]
  },
  {
   "cell_type": "code",
   "execution_count": 29,
   "metadata": {},
   "outputs": [],
   "source": [
    "top_winners = top_winners.sort_values(['total'], ascending=False)\n",
    "top_winners['winner_name'] = pd.Categorical(top_winners['winner_name'], categories=top_winners['winner_name'].drop_duplicates(), ordered=True)\n",
    "top_winners = top_winners[top_winners.winner_name.isin(top_winners.winner_name.drop_duplicates().head(10))]"
   ]
  },
  {
   "cell_type": "code",
   "execution_count": 30,
   "metadata": {},
   "outputs": [
    {
     "data": {
      "image/png": "[encoded data removed]",
      "text/plain": [
       "<Figure size 640x480 with 1 Axes>"
      ]
     },
     "metadata": {},
     "output_type": "display_data"
    },
    {
     "data": {
      "text/plain": [
       "<ggplot: (301866197)>"
      ]
     },
     "execution_count": 30,
     "metadata": {},
     "output_type": "execute_result"
    }
   ],
   "source": [
    "(\n",
    "    ggplot(top_winners, aes(x='winner_name', y='nb', fill='tourney_level'))\n",
    "    + geom_bar(stat=\"identity\")\n",
    "    + scale_y_continuous(breaks = range(0,max(top_winners['total']), 10))\n",
    "    + coord_flip()\n",
    ")"
   ]
  },
  {
   "cell_type": "markdown",
   "metadata": {},
   "source": [
    "<font color=\"grey-black\">Dans cette première partie, nous avons pu voir certaines informations intéressantes :</font>\n",
    "- <font color=\"grey-black\">Beaucoup de joueurs ont joué très peu de matches (la moitié, moins de 5 matches, et un quart un seul match).</font>\n",
    "- <font color=\"grey-black\">Les joueurs qui ont le plus gagné de tournois sont ceux qui ont joué le plus de matches.</font>\n",
    "- <font color=\"grey-black\">Les légendes du tennis ont joué beaucoup de matches.\n",
    "Pour pouvoir prédire l'issue d'un match impliquant un joueur, je pense qu'il est nécessaire d'avoir le plus de données possible sur ce joueur en particulier. Ces données étant manquantes, la création de nouvelles variables peut prendre un rôle encore plus importante pour avoir une performance d'un modèle de prédiction.</font>"
   ]
  },
  {
   "cell_type": "markdown",
   "metadata": {},
   "source": [
    "### <font color=\"brown\">EVOLUTIONS DU TENNIS</font>"
   ]
  },
  {
   "cell_type": "markdown",
   "metadata": {},
   "source": [
    "<font color=\"grey-black\">On peut se demander quel sont les grandes évolutions qu'a connu le tennis depuis le début de l'ère Open ?</font>"
   ]
  },
  {
   "cell_type": "markdown",
   "metadata": {},
   "source": [
    "<font color=\"grey-black\">Commençons par regarder l'évolution des différentes surfaces de jeu.</font>"
   ]
  },
  {
   "cell_type": "code",
   "execution_count": 31,
   "metadata": {},
   "outputs": [
    {
     "data": {
      "image/png": "[encoded data removed]",
      "text/plain": [
       "<Figure size 640x480 with 1 Axes>"
      ]
     },
     "metadata": {},
     "output_type": "display_data"
    },
    {
     "data": {
      "text/plain": [
       "<ggplot: (301950709)>"
      ]
     },
     "execution_count": 31,
     "metadata": {},
     "output_type": "execute_result"
    }
   ],
   "source": [
    "(\n",
    "    df >>\n",
    "    select(X.surface) >>\n",
    "    group_by(X.surface) >>\n",
    "    mutate(n=n(X.surface)) >>\n",
    "    distinct(X.surface, X.n) >>\n",
    "    ggplot(aes(x='surface', y='n'))\n",
    "    + geom_bar(stat=\"identity\")\n",
    ")"
   ]
  },
  {
   "cell_type": "markdown",
   "metadata": {},
   "source": [
    "<font color=\"grey-black\">La plupart des matches de l'ère Open se sont joués sur terre battue ou dur (ciment).</font>"
   ]
  },
  {
   "cell_type": "code",
   "execution_count": 32,
   "metadata": {},
   "outputs": [
    {
     "data": {
      "image/png": "[encoded data removed]",
      "text/plain": [
       "<Figure size 640x480 with 1 Axes>"
      ]
     },
     "metadata": {},
     "output_type": "display_data"
    },
    {
     "data": {
      "text/plain": [
       "<ggplot: (301953833)>"
      ]
     },
     "execution_count": 32,
     "metadata": {},
     "output_type": "execute_result"
    }
   ],
   "source": [
    "(\n",
    "    df >>\n",
    "    select(X.tourney_year, X.surface) >>\n",
    "    group_by(X.tourney_year, X.surface) >>\n",
    "    mutate(n=n(X.tourney_year)) >>\n",
    "    distinct(X.tourney_year, X.surface, X.n) >>\n",
    "    ggplot(aes(x='tourney_year', y='n', fill='surface'))\n",
    "    + geom_bar(stat=\"identity\")\n",
    ")"
   ]
  },
  {
   "cell_type": "markdown",
   "metadata": {},
   "source": [
    "<font color=\"grey-black\">Depuis le milieu des années 1990, la moquette a commencé à disparaitre, et en moins de 10 ans, plus aucun tournoi ne se joue sur cette surface. Et de moins en moins de matchs ne disputent sur herbe, peu à peu remplacer par une surface dure. Deux facteurs peuvent expliquer la contraction de cette surface historique du tennis :</font>\n",
    "- <font color=\"grey-black\">le spectacle est moins télévisuel sur herbe (moins d'échanges, plus de points en un ou deux coups de raquette, etc...) et donc pour attirer les diffuseurs cette surface est abandonée par une parti du circuit mondial de tennis</font>\n",
    "- <font color=\"grey-black\">les cours de tennis en herbe demandent plus d'entretien que des courts en dur et il eput être compliqué d'entretenir un court en herbe dans certains endroits (comme les pays du Golf, l'Amérique du Sud, etc...) et donc avec la mondialisation du tennis qui s'est accélérée depuis le début de l'ère Open, l'herbe laisse place à des courts en dur ou en terre battue</font>"
   ]
  },
  {
   "cell_type": "markdown",
   "metadata": {},
   "source": [
    "<font color=\"grey-black\">Le nombre de matches par saison a-t-il évolué depuis lea fin des années soixante ?</font>"
   ]
  },
  {
   "cell_type": "code",
   "execution_count": 33,
   "metadata": {},
   "outputs": [
    {
     "data": {
      "image/png": "[encoded data removed]",
      "text/plain": [
       "<Figure size 640x480 with 1 Axes>"
      ]
     },
     "metadata": {},
     "output_type": "display_data"
    },
    {
     "data": {
      "text/plain": [
       "<ggplot: (301968157)>"
      ]
     },
     "execution_count": 33,
     "metadata": {},
     "output_type": "execute_result"
    }
   ],
   "source": [
    "(\n",
    "    df >>\n",
    "    group_by(X.tourney_year) >>\n",
    "    mutate(n = n(X.match_num)) >>\n",
    "    ungroup() >>\n",
    "    distinct(X.n, X.tourney_year) >>\n",
    "    ggplot(aes(x='tourney_year', y='n'))\n",
    "    + geom_bar(stat=\"identity\")\n",
    ")"
   ]
  },
  {
   "cell_type": "markdown",
   "metadata": {},
   "source": [
    "<font color=\"grey-black\">Depuis le milieu des années 1990, le nombre de match a également baissé. Mais il avait connu une forte augmentation dans les années 1970, pour atteindre presque 4000 matches sur le circuit. Ces dernières années ont plutôt connu environ 3000 matches.</font>"
   ]
  },
  {
   "cell_type": "markdown",
   "metadata": {},
   "source": [
    "## <font color=\"green\">STATISTIQUES DES JOUEURS ET CORRELATION AVEC LA VICTOIRE</font>"
   ]
  },
  {
   "cell_type": "markdown",
   "metadata": {},
   "source": [
    "<font color=\"grey-black\">Maintenant, il peut être intéressant de se demander si certaines caractéristiques de joueur (taille, age, main préférée, ...) ont une correlation avec le fait de gagner un match.</font>"
   ]
  },
  {
   "cell_type": "markdown",
   "metadata": {},
   "source": [
    "### <font color=\"BROWN\">TAILLE DES JOUEURS</font>"
   ]
  },
  {
   "cell_type": "markdown",
   "metadata": {},
   "source": [
    "<font color=\"grey-black\">Commençons par nous intéressé à la taille d'un joueur.  \n",
    "Un joueur plus grand a-t-il plus de chance de gagner contre un adversaire plus petit, ou inversement ?\n",
    "</font>"
   ]
  },
  {
   "cell_type": "code",
   "execution_count": 34,
   "metadata": {},
   "outputs": [
    {
     "name": "stderr",
     "output_type": "stream",
     "text": [
      "/Users/antoinemertz/.local/share/virtualenvs/tennis-game-prediction-G_Zh9rmk/lib/python3.7/site-packages/plotnine/layer.py:360: PlotnineWarning: stat_density : Removed 38267 rows containing non-finite values.\n",
      "  data = self.stat.compute_layer(data, params, layout)\n"
     ]
    },
    {
     "data": {
      "image/png": "[encoded data removed]",
      "text/plain": [
       "<Figure size 640x480 with 1 Axes>"
      ]
     },
     "metadata": {},
     "output_type": "display_data"
    },
    {
     "data": {
      "text/plain": [
       "<ggplot: (302801585)>"
      ]
     },
     "execution_count": 34,
     "metadata": {},
     "output_type": "execute_result"
    }
   ],
   "source": [
    "(\n",
    "    df >>\n",
    "    mutate(diff_ht = X.winner_ht - X.loser_ht) >>\n",
    "    ggplot(aes('diff_ht'))\n",
    "    + geom_density(adjust=1.5)\n",
    ")"
   ]
  },
  {
   "cell_type": "markdown",
   "metadata": {},
   "source": [
    "<font color=\"grey-black\">La différence de taille entre les joueurs s'affrontant ne semble pas être un facteur pour déterminer l'issue du match.  \n",
    "    Vérifions cela par un test statistique.</font>"
   ]
  },
  {
   "cell_type": "code",
   "execution_count": 35,
   "metadata": {},
   "outputs": [
    {
     "data": {
      "text/plain": [
       "Ttest_relResult(statistic=6.011461459955253, pvalue=1.8423165182418132e-09)"
      ]
     },
     "execution_count": 35,
     "metadata": {},
     "output_type": "execute_result"
    }
   ],
   "source": [
    "ttest_rel(df.winner_ht.fillna(df.winner_ht.append(df.loser_ht).median()),\n",
    "          df.loser_ht.fillna(df.winner_ht.append(df.loser_ht).median()),\n",
    "          nan_policy='omit')"
   ]
  },
  {
   "cell_type": "markdown",
   "metadata": {},
   "source": [
    "<font color=\"grey-black\">Le t-test pairé ne permet pas de conclure sur la non différence des moyennes des tailles des gagnants et des perdants. Il faudrait donc creuser un plus pour comprendre cette différence statistique des deux échantillons. Le test supporte l'idée qu'il existe une différence entre les deux moyennes.</font>"
   ]
  },
  {
   "cell_type": "markdown",
   "metadata": {},
   "source": [
    "### <font color=\"brown\">AGE DES JOUEURS</font>"
   ]
  },
  {
   "cell_type": "markdown",
   "metadata": {},
   "source": [
    "<font color=\"grey-black\">Regardons maintenant la variable `age`. Existe-t-il une différence statistique significative entre l'âge des gagnants et celui des perdants qu'on on compare les face à face.</font>"
   ]
  },
  {
   "cell_type": "code",
   "execution_count": 36,
   "metadata": {},
   "outputs": [
    {
     "name": "stderr",
     "output_type": "stream",
     "text": [
      "/Users/antoinemertz/.local/share/virtualenvs/tennis-game-prediction-G_Zh9rmk/lib/python3.7/site-packages/plotnine/layer.py:360: PlotnineWarning: stat_density : Removed 6231 rows containing non-finite values.\n",
      "  data = self.stat.compute_layer(data, params, layout)\n"
     ]
    },
    {
     "data": {
      "image/png": "[encoded data removed]",
      "text/plain": [
       "<Figure size 640x480 with 1 Axes>"
      ]
     },
     "metadata": {},
     "output_type": "display_data"
    },
    {
     "data": {
      "text/plain": [
       "<ggplot: (302806609)>"
      ]
     },
     "execution_count": 36,
     "metadata": {},
     "output_type": "execute_result"
    }
   ],
   "source": [
    "(\n",
    "    df >>\n",
    "    mutate(diff_age = X.winner_age - X.loser_age) >>\n",
    "    ggplot(aes('diff_age'))\n",
    "    + geom_density()\n",
    ")"
   ]
  },
  {
   "cell_type": "markdown",
   "metadata": {},
   "source": [
    "<font color=\"grey-black\">La différence d'age entre les joueurs s'affrontant ne semble pas non plus être un facteur pour déterminer l'issue du match.</font>"
   ]
  },
  {
   "cell_type": "code",
   "execution_count": 37,
   "metadata": {},
   "outputs": [
    {
     "data": {
      "text/plain": [
       "Ttest_relResult(statistic=-3.147552815172623, pvalue=0.0016467184540850624)"
      ]
     },
     "execution_count": 37,
     "metadata": {},
     "output_type": "execute_result"
    }
   ],
   "source": [
    "ttest_rel(df.winner_age.fillna(df.winner_age.append(df.loser_age).median()), df.loser_age.fillna(df.winner_age.append(df.loser_age).median()), nan_policy='omit')"
   ]
  },
  {
   "cell_type": "markdown",
   "metadata": {},
   "source": [
    "<font color=\"grey-black\">La différence entre les moyennes de l'âge des gagnants et des perdants est stastiquement différente. Il faudrait donc creuser un plus pour comprendre cette différence statistique des deux échantillons.</font>"
   ]
  },
  {
   "cell_type": "markdown",
   "metadata": {},
   "source": [
    "### <font color=\"brown\">DROITIER VS GAUCHER</font>"
   ]
  },
  {
   "cell_type": "markdown",
   "metadata": {},
   "source": [
    "<font color=\"grey-black\">On peut étudier une dernière variable qui est celle de la main préférentielle des joueurs (droitier ou gaucher).</font>"
   ]
  },
  {
   "cell_type": "code",
   "execution_count": 38,
   "metadata": {},
   "outputs": [
    {
     "data": {
      "text/plain": [
       "R    0.691834\n",
       "U    0.243451\n",
       "L    0.064715\n",
       "Name: hand, dtype: float64"
      ]
     },
     "execution_count": 38,
     "metadata": {},
     "output_type": "execute_result"
    }
   ],
   "source": [
    "players_data.hand.value_counts(normalize=True)"
   ]
  },
  {
   "cell_type": "markdown",
   "metadata": {},
   "source": [
    "<font color=\"grey-black\">Seul 6% des joueurs sont gauchers et 69% sont droitiers (le reste étant non défini).</font>"
   ]
  },
  {
   "cell_type": "code",
   "execution_count": 39,
   "metadata": {},
   "outputs": [],
   "source": [
    "right_winners = df[(df.winner_hand == 'R') & (df.loser_hand == 'L')]"
   ]
  },
  {
   "cell_type": "code",
   "execution_count": 40,
   "metadata": {},
   "outputs": [],
   "source": [
    "left_winners = df[(df.winner_hand == 'L') & (df.loser_hand == 'R')]"
   ]
  },
  {
   "cell_type": "code",
   "execution_count": 41,
   "metadata": {},
   "outputs": [
    {
     "name": "stdout",
     "output_type": "stream",
     "text": [
      "Il y a eu 40562 face à face entre droitiers et gauchers, et les gauchers en ont remporté 52.30%, et représente 12.50% du total des victoires\n"
     ]
    }
   ],
   "source": [
    "print(\"Il y a eu {} face à face entre droitiers et gauchers, et les gauchers en ont remporté {:.2f}%, et représente {:.2f}% du total des victoires\".format(\n",
    "    right_winners.shape[0]+left_winners.shape[0],\n",
    "    left_winners.shape[0] / (right_winners.shape[0]+left_winners.shape[0]) * 100,\n",
    "    left_winners.shape[0] / df.shape[0] * 100\n",
    ")\n",
    "     )"
   ]
  },
  {
   "cell_type": "markdown",
   "metadata": {},
   "source": [
    "<font color=\"grey-black\">Les gauchers ont remporté 12% des matches dans le jeu de données en ne représentant que 6% des joueurs ! Etre gaucher donne plus de chance de remporter un match.</font>"
   ]
  },
  {
   "cell_type": "markdown",
   "metadata": {},
   "source": [
    "# <font color=\"orange\">MODELES DE PREDICTION</font>"
   ]
  },
  {
   "cell_type": "markdown",
   "metadata": {},
   "source": [
    "## <font color=\"green\">QUALITÉ DE DONNÉES</font>"
   ]
  },
  {
   "cell_type": "markdown",
   "metadata": {},
   "source": [
    "<font color=\"grey-black\">Pour pouvoir construire un bon modèle de prédiction, il faut commencer par regarder la qualité du jeu de données. Dans le temps limité de l'exercice, je n'étudie uniquement les valeurs manquantes et l'éventualité de valeurs aberrantes (un age trop jeune ou trop vieux, une taille négative, etc...).</font>"
   ]
  },
  {
   "cell_type": "markdown",
   "metadata": {},
   "source": [
    "### <font color=\"brown\">DONNÉES ABERRANTES</font>"
   ]
  },
  {
   "cell_type": "markdown",
   "metadata": {},
   "source": [
    "<font color=\"grey-black\">Je vais rapidement chercher dans le jeu de données pour des données abérrantes (age négatif, taille irréel, etc...).</font>"
   ]
  },
  {
   "cell_type": "code",
   "execution_count": 42,
   "metadata": {},
   "outputs": [
    {
     "data": {
      "text/html": [
       "<div>\n",
       "<style scoped>\n",
       "    .dataframe tbody tr th:only-of-type {\n",
       "        vertical-align: middle;\n",
       "    }\n",
       "\n",
       "    .dataframe tbody tr th {\n",
       "        vertical-align: top;\n",
       "    }\n",
       "\n",
       "    .dataframe thead th {\n",
       "        text-align: right;\n",
       "    }\n",
       "</style>\n",
       "<table border=\"1\" class=\"dataframe\">\n",
       "  <thead>\n",
       "    <tr style=\"text-align: right;\">\n",
       "      <th></th>\n",
       "      <th>best_of</th>\n",
       "      <th>draw_size</th>\n",
       "      <th>l_1stIn</th>\n",
       "      <th>l_1stWon</th>\n",
       "      <th>l_2ndWon</th>\n",
       "      <th>l_SvGms</th>\n",
       "      <th>l_ace</th>\n",
       "      <th>l_bpFaced</th>\n",
       "      <th>l_bpSaved</th>\n",
       "      <th>l_df</th>\n",
       "      <th>l_svpt</th>\n",
       "      <th>loser_age</th>\n",
       "      <th>loser_ht</th>\n",
       "      <th>loser_id</th>\n",
       "      <th>loser_rank</th>\n",
       "      <th>loser_rank_points</th>\n",
       "      <th>loser_seed</th>\n",
       "      <th>match_num</th>\n",
       "      <th>minutes</th>\n",
       "      <th>w_1stIn</th>\n",
       "      <th>w_1stWon</th>\n",
       "      <th>w_2ndWon</th>\n",
       "      <th>w_SvGms</th>\n",
       "      <th>w_ace</th>\n",
       "      <th>w_bpFaced</th>\n",
       "      <th>w_bpSaved</th>\n",
       "      <th>w_df</th>\n",
       "      <th>w_svpt</th>\n",
       "      <th>winner_age</th>\n",
       "      <th>winner_ht</th>\n",
       "      <th>winner_id</th>\n",
       "      <th>winner_rank</th>\n",
       "      <th>winner_rank_points</th>\n",
       "      <th>winner_seed</th>\n",
       "      <th>tourney_year</th>\n",
       "    </tr>\n",
       "  </thead>\n",
       "  <tbody>\n",
       "    <tr>\n",
       "      <th>count</th>\n",
       "      <td>169690.000000</td>\n",
       "      <td>1232.000000</td>\n",
       "      <td>83415.000000</td>\n",
       "      <td>83415.000000</td>\n",
       "      <td>83415.000000</td>\n",
       "      <td>83415.000000</td>\n",
       "      <td>83415.000000</td>\n",
       "      <td>83415.000000</td>\n",
       "      <td>83415.000000</td>\n",
       "      <td>83415.000000</td>\n",
       "      <td>83415.000000</td>\n",
       "      <td>164700.000000</td>\n",
       "      <td>139052.000000</td>\n",
       "      <td>169690.000000</td>\n",
       "      <td>145909.000000</td>\n",
       "      <td>93025.000000</td>\n",
       "      <td>32853.000000</td>\n",
       "      <td>169690.000000</td>\n",
       "      <td>82103.000000</td>\n",
       "      <td>83415.000000</td>\n",
       "      <td>83415.000000</td>\n",
       "      <td>83415.000000</td>\n",
       "      <td>83415.000000</td>\n",
       "      <td>83415.000000</td>\n",
       "      <td>83415.000000</td>\n",
       "      <td>83415.000000</td>\n",
       "      <td>83415.000000</td>\n",
       "      <td>83415.000000</td>\n",
       "      <td>167929.000000</td>\n",
       "      <td>150884.000000</td>\n",
       "      <td>169690.000000</td>\n",
       "      <td>149773.000000</td>\n",
       "      <td>94291.000000</td>\n",
       "      <td>65295.000000</td>\n",
       "      <td>169690.000000</td>\n",
       "    </tr>\n",
       "    <tr>\n",
       "      <th>mean</th>\n",
       "      <td>3.446072</td>\n",
       "      <td>75.022727</td>\n",
       "      <td>47.705149</td>\n",
       "      <td>31.683690</td>\n",
       "      <td>15.029119</td>\n",
       "      <td>12.159995</td>\n",
       "      <td>4.779776</td>\n",
       "      <td>8.751555</td>\n",
       "      <td>4.808044</td>\n",
       "      <td>3.509081</td>\n",
       "      <td>80.717904</td>\n",
       "      <td>25.661378</td>\n",
       "      <td>184.064918</td>\n",
       "      <td>102829.308574</td>\n",
       "      <td>120.815721</td>\n",
       "      <td>840.134727</td>\n",
       "      <td>7.589109</td>\n",
       "      <td>52.853492</td>\n",
       "      <td>100.786037</td>\n",
       "      <td>47.299514</td>\n",
       "      <td>35.659522</td>\n",
       "      <td>16.806102</td>\n",
       "      <td>12.354780</td>\n",
       "      <td>6.461823</td>\n",
       "      <td>5.174381</td>\n",
       "      <td>3.528790</td>\n",
       "      <td>2.743859</td>\n",
       "      <td>77.906887</td>\n",
       "      <td>25.612639</td>\n",
       "      <td>184.277200</td>\n",
       "      <td>102362.973540</td>\n",
       "      <td>81.409827</td>\n",
       "      <td>1342.313296</td>\n",
       "      <td>6.209495</td>\n",
       "      <td>1992.990017</td>\n",
       "    </tr>\n",
       "    <tr>\n",
       "      <th>std</th>\n",
       "      <td>0.832567</td>\n",
       "      <td>43.500071</td>\n",
       "      <td>19.359849</td>\n",
       "      <td>14.437267</td>\n",
       "      <td>7.266522</td>\n",
       "      <td>4.114587</td>\n",
       "      <td>4.625035</td>\n",
       "      <td>4.123616</td>\n",
       "      <td>3.271050</td>\n",
       "      <td>2.623945</td>\n",
       "      <td>29.485231</td>\n",
       "      <td>4.074386</td>\n",
       "      <td>6.624417</td>\n",
       "      <td>6072.998247</td>\n",
       "      <td>161.539365</td>\n",
       "      <td>940.800241</td>\n",
       "      <td>5.880047</td>\n",
       "      <td>81.992868</td>\n",
       "      <td>40.332392</td>\n",
       "      <td>19.191976</td>\n",
       "      <td>13.841457</td>\n",
       "      <td>7.026601</td>\n",
       "      <td>4.102224</td>\n",
       "      <td>5.297845</td>\n",
       "      <td>4.058311</td>\n",
       "      <td>3.081844</td>\n",
       "      <td>2.368677</td>\n",
       "      <td>29.532338</td>\n",
       "      <td>3.943494</td>\n",
       "      <td>6.632803</td>\n",
       "      <td>3958.369064</td>\n",
       "      <td>123.875156</td>\n",
       "      <td>1672.646568</td>\n",
       "      <td>5.401583</td>\n",
       "      <td>13.970686</td>\n",
       "    </tr>\n",
       "    <tr>\n",
       "      <th>min</th>\n",
       "      <td>3.000000</td>\n",
       "      <td>4.000000</td>\n",
       "      <td>0.000000</td>\n",
       "      <td>0.000000</td>\n",
       "      <td>0.000000</td>\n",
       "      <td>0.000000</td>\n",
       "      <td>0.000000</td>\n",
       "      <td>0.000000</td>\n",
       "      <td>-6.000000</td>\n",
       "      <td>0.000000</td>\n",
       "      <td>0.000000</td>\n",
       "      <td>14.380000</td>\n",
       "      <td>160.000000</td>\n",
       "      <td>100001.000000</td>\n",
       "      <td>1.000000</td>\n",
       "      <td>1.000000</td>\n",
       "      <td>1.000000</td>\n",
       "      <td>1.000000</td>\n",
       "      <td>1.000000</td>\n",
       "      <td>0.000000</td>\n",
       "      <td>0.000000</td>\n",
       "      <td>0.000000</td>\n",
       "      <td>0.000000</td>\n",
       "      <td>0.000000</td>\n",
       "      <td>0.000000</td>\n",
       "      <td>0.000000</td>\n",
       "      <td>0.000000</td>\n",
       "      <td>0.000000</td>\n",
       "      <td>14.360000</td>\n",
       "      <td>160.000000</td>\n",
       "      <td>100002.000000</td>\n",
       "      <td>1.000000</td>\n",
       "      <td>1.000000</td>\n",
       "      <td>1.000000</td>\n",
       "      <td>1968.000000</td>\n",
       "    </tr>\n",
       "    <tr>\n",
       "      <th>25%</th>\n",
       "      <td>3.000000</td>\n",
       "      <td>64.000000</td>\n",
       "      <td>34.000000</td>\n",
       "      <td>21.000000</td>\n",
       "      <td>10.000000</td>\n",
       "      <td>9.000000</td>\n",
       "      <td>2.000000</td>\n",
       "      <td>6.000000</td>\n",
       "      <td>2.000000</td>\n",
       "      <td>2.000000</td>\n",
       "      <td>59.000000</td>\n",
       "      <td>22.750000</td>\n",
       "      <td>180.000000</td>\n",
       "      <td>100529.000000</td>\n",
       "      <td>40.000000</td>\n",
       "      <td>367.000000</td>\n",
       "      <td>4.000000</td>\n",
       "      <td>9.000000</td>\n",
       "      <td>73.000000</td>\n",
       "      <td>33.000000</td>\n",
       "      <td>26.000000</td>\n",
       "      <td>12.000000</td>\n",
       "      <td>9.000000</td>\n",
       "      <td>3.000000</td>\n",
       "      <td>2.000000</td>\n",
       "      <td>1.000000</td>\n",
       "      <td>1.000000</td>\n",
       "      <td>56.000000</td>\n",
       "      <td>22.760000</td>\n",
       "      <td>180.000000</td>\n",
       "      <td>100445.000000</td>\n",
       "      <td>18.000000</td>\n",
       "      <td>496.000000</td>\n",
       "      <td>2.000000</td>\n",
       "      <td>1981.000000</td>\n",
       "    </tr>\n",
       "    <tr>\n",
       "      <th>50%</th>\n",
       "      <td>3.000000</td>\n",
       "      <td>64.000000</td>\n",
       "      <td>44.000000</td>\n",
       "      <td>29.000000</td>\n",
       "      <td>14.000000</td>\n",
       "      <td>11.000000</td>\n",
       "      <td>4.000000</td>\n",
       "      <td>8.000000</td>\n",
       "      <td>4.000000</td>\n",
       "      <td>3.000000</td>\n",
       "      <td>75.000000</td>\n",
       "      <td>25.320000</td>\n",
       "      <td>185.000000</td>\n",
       "      <td>101736.000000</td>\n",
       "      <td>77.000000</td>\n",
       "      <td>618.000000</td>\n",
       "      <td>6.000000</td>\n",
       "      <td>22.000000</td>\n",
       "      <td>94.000000</td>\n",
       "      <td>44.000000</td>\n",
       "      <td>33.000000</td>\n",
       "      <td>16.000000</td>\n",
       "      <td>11.000000</td>\n",
       "      <td>5.000000</td>\n",
       "      <td>4.000000</td>\n",
       "      <td>3.000000</td>\n",
       "      <td>2.000000</td>\n",
       "      <td>73.000000</td>\n",
       "      <td>25.250000</td>\n",
       "      <td>185.000000</td>\n",
       "      <td>101611.000000</td>\n",
       "      <td>48.000000</td>\n",
       "      <td>835.000000</td>\n",
       "      <td>5.000000</td>\n",
       "      <td>1993.000000</td>\n",
       "    </tr>\n",
       "    <tr>\n",
       "      <th>75%</th>\n",
       "      <td>3.000000</td>\n",
       "      <td>128.000000</td>\n",
       "      <td>58.000000</td>\n",
       "      <td>39.000000</td>\n",
       "      <td>19.000000</td>\n",
       "      <td>15.000000</td>\n",
       "      <td>7.000000</td>\n",
       "      <td>11.000000</td>\n",
       "      <td>7.000000</td>\n",
       "      <td>5.000000</td>\n",
       "      <td>96.000000</td>\n",
       "      <td>28.250000</td>\n",
       "      <td>188.000000</td>\n",
       "      <td>103821.000000</td>\n",
       "      <td>134.000000</td>\n",
       "      <td>985.000000</td>\n",
       "      <td>10.000000</td>\n",
       "      <td>45.000000</td>\n",
       "      <td>123.000000</td>\n",
       "      <td>57.000000</td>\n",
       "      <td>43.000000</td>\n",
       "      <td>21.000000</td>\n",
       "      <td>15.000000</td>\n",
       "      <td>9.000000</td>\n",
       "      <td>7.000000</td>\n",
       "      <td>5.000000</td>\n",
       "      <td>4.000000</td>\n",
       "      <td>94.000000</td>\n",
       "      <td>28.130000</td>\n",
       "      <td>188.000000</td>\n",
       "      <td>103694.000000</td>\n",
       "      <td>96.000000</td>\n",
       "      <td>1508.000000</td>\n",
       "      <td>8.000000</td>\n",
       "      <td>2005.000000</td>\n",
       "    </tr>\n",
       "    <tr>\n",
       "      <th>max</th>\n",
       "      <td>5.000000</td>\n",
       "      <td>128.000000</td>\n",
       "      <td>328.000000</td>\n",
       "      <td>284.000000</td>\n",
       "      <td>101.000000</td>\n",
       "      <td>91.000000</td>\n",
       "      <td>103.000000</td>\n",
       "      <td>35.000000</td>\n",
       "      <td>28.000000</td>\n",
       "      <td>26.000000</td>\n",
       "      <td>489.000000</td>\n",
       "      <td>63.690000</td>\n",
       "      <td>208.000000</td>\n",
       "      <td>208997.000000</td>\n",
       "      <td>2159.000000</td>\n",
       "      <td>16950.000000</td>\n",
       "      <td>35.000000</td>\n",
       "      <td>701.000000</td>\n",
       "      <td>1146.000000</td>\n",
       "      <td>361.000000</td>\n",
       "      <td>292.000000</td>\n",
       "      <td>82.000000</td>\n",
       "      <td>90.000000</td>\n",
       "      <td>113.000000</td>\n",
       "      <td>34.000000</td>\n",
       "      <td>24.000000</td>\n",
       "      <td>23.000000</td>\n",
       "      <td>491.000000</td>\n",
       "      <td>58.718686</td>\n",
       "      <td>208.000000</td>\n",
       "      <td>208996.000000</td>\n",
       "      <td>2101.000000</td>\n",
       "      <td>16950.000000</td>\n",
       "      <td>35.000000</td>\n",
       "      <td>2019.000000</td>\n",
       "    </tr>\n",
       "  </tbody>\n",
       "</table>\n",
       "</div>"
      ],
      "text/plain": [
       "             best_of    draw_size       l_1stIn      l_1stWon      l_2ndWon  \\\n",
       "count  169690.000000  1232.000000  83415.000000  83415.000000  83415.000000   \n",
       "mean        3.446072    75.022727     47.705149     31.683690     15.029119   \n",
       "std         0.832567    43.500071     19.359849     14.437267      7.266522   \n",
       "min         3.000000     4.000000      0.000000      0.000000      0.000000   \n",
       "25%         3.000000    64.000000     34.000000     21.000000     10.000000   \n",
       "50%         3.000000    64.000000     44.000000     29.000000     14.000000   \n",
       "75%         3.000000   128.000000     58.000000     39.000000     19.000000   \n",
       "max         5.000000   128.000000    328.000000    284.000000    101.000000   \n",
       "\n",
       "            l_SvGms         l_ace     l_bpFaced     l_bpSaved          l_df  \\\n",
       "count  83415.000000  83415.000000  83415.000000  83415.000000  83415.000000   \n",
       "mean      12.159995      4.779776      8.751555      4.808044      3.509081   \n",
       "std        4.114587      4.625035      4.123616      3.271050      2.623945   \n",
       "min        0.000000      0.000000      0.000000     -6.000000      0.000000   \n",
       "25%        9.000000      2.000000      6.000000      2.000000      2.000000   \n",
       "50%       11.000000      4.000000      8.000000      4.000000      3.000000   \n",
       "75%       15.000000      7.000000     11.000000      7.000000      5.000000   \n",
       "max       91.000000    103.000000     35.000000     28.000000     26.000000   \n",
       "\n",
       "             l_svpt      loser_age       loser_ht       loser_id  \\\n",
       "count  83415.000000  164700.000000  139052.000000  169690.000000   \n",
       "mean      80.717904      25.661378     184.064918  102829.308574   \n",
       "std       29.485231       4.074386       6.624417    6072.998247   \n",
       "min        0.000000      14.380000     160.000000  100001.000000   \n",
       "25%       59.000000      22.750000     180.000000  100529.000000   \n",
       "50%       75.000000      25.320000     185.000000  101736.000000   \n",
       "75%       96.000000      28.250000     188.000000  103821.000000   \n",
       "max      489.000000      63.690000     208.000000  208997.000000   \n",
       "\n",
       "          loser_rank  loser_rank_points    loser_seed      match_num  \\\n",
       "count  145909.000000       93025.000000  32853.000000  169690.000000   \n",
       "mean      120.815721         840.134727      7.589109      52.853492   \n",
       "std       161.539365         940.800241      5.880047      81.992868   \n",
       "min         1.000000           1.000000      1.000000       1.000000   \n",
       "25%        40.000000         367.000000      4.000000       9.000000   \n",
       "50%        77.000000         618.000000      6.000000      22.000000   \n",
       "75%       134.000000         985.000000     10.000000      45.000000   \n",
       "max      2159.000000       16950.000000     35.000000     701.000000   \n",
       "\n",
       "            minutes       w_1stIn      w_1stWon      w_2ndWon       w_SvGms  \\\n",
       "count  82103.000000  83415.000000  83415.000000  83415.000000  83415.000000   \n",
       "mean     100.786037     47.299514     35.659522     16.806102     12.354780   \n",
       "std       40.332392     19.191976     13.841457      7.026601      4.102224   \n",
       "min        1.000000      0.000000      0.000000      0.000000      0.000000   \n",
       "25%       73.000000     33.000000     26.000000     12.000000      9.000000   \n",
       "50%       94.000000     44.000000     33.000000     16.000000     11.000000   \n",
       "75%      123.000000     57.000000     43.000000     21.000000     15.000000   \n",
       "max     1146.000000    361.000000    292.000000     82.000000     90.000000   \n",
       "\n",
       "              w_ace     w_bpFaced     w_bpSaved          w_df        w_svpt  \\\n",
       "count  83415.000000  83415.000000  83415.000000  83415.000000  83415.000000   \n",
       "mean       6.461823      5.174381      3.528790      2.743859     77.906887   \n",
       "std        5.297845      4.058311      3.081844      2.368677     29.532338   \n",
       "min        0.000000      0.000000      0.000000      0.000000      0.000000   \n",
       "25%        3.000000      2.000000      1.000000      1.000000     56.000000   \n",
       "50%        5.000000      4.000000      3.000000      2.000000     73.000000   \n",
       "75%        9.000000      7.000000      5.000000      4.000000     94.000000   \n",
       "max      113.000000     34.000000     24.000000     23.000000    491.000000   \n",
       "\n",
       "          winner_age      winner_ht      winner_id    winner_rank  \\\n",
       "count  167929.000000  150884.000000  169690.000000  149773.000000   \n",
       "mean       25.612639     184.277200  102362.973540      81.409827   \n",
       "std         3.943494       6.632803    3958.369064     123.875156   \n",
       "min        14.360000     160.000000  100002.000000       1.000000   \n",
       "25%        22.760000     180.000000  100445.000000      18.000000   \n",
       "50%        25.250000     185.000000  101611.000000      48.000000   \n",
       "75%        28.130000     188.000000  103694.000000      96.000000   \n",
       "max        58.718686     208.000000  208996.000000    2101.000000   \n",
       "\n",
       "       winner_rank_points   winner_seed   tourney_year  \n",
       "count        94291.000000  65295.000000  169690.000000  \n",
       "mean          1342.313296      6.209495    1992.990017  \n",
       "std           1672.646568      5.401583      13.970686  \n",
       "min              1.000000      1.000000    1968.000000  \n",
       "25%            496.000000      2.000000    1981.000000  \n",
       "50%            835.000000      5.000000    1993.000000  \n",
       "75%           1508.000000      8.000000    2005.000000  \n",
       "max          16950.000000     35.000000    2019.000000  "
      ]
     },
     "execution_count": 42,
     "metadata": {},
     "output_type": "execute_result"
    }
   ],
   "source": [
    "df.describe()"
   ]
  },
  {
   "cell_type": "markdown",
   "metadata": {},
   "source": [
    "<font color=\"grey-black\">Il ne semble y avoir de données aberrantes (taille entre 1m60 et 2m08, age entre 14 et 46 ans, ...). Je ne pousserai pas plus loin dans la recherche de données aberrantes.</font>"
   ]
  },
  {
   "cell_type": "markdown",
   "metadata": {},
   "source": [
    "### <font color=\"brown\">VALEURS MANQUANTES</font>"
   ]
  },
  {
   "cell_type": "markdown",
   "metadata": {},
   "source": [
    "<font color=\"grey-black\">Je représente l'évolution du nombre de données manquantes par an. Je m'attends à voir plus de valeurs manquantes pour les matches les plus vieux, car on collecte de plus en plus de données dans le monde, et le tennis ne fait pas exception. Surtout sur les plus petits tournois (ATP 250, Challengers, ...).</font>"
   ]
  },
  {
   "cell_type": "code",
   "execution_count": 43,
   "metadata": {},
   "outputs": [],
   "source": [
    "# creer une nouvelle colonne, du nombre de donnees manquantes par ligne\n",
    "df['nb_nan'] = df.isnull().sum(axis=1)"
   ]
  },
  {
   "cell_type": "code",
   "execution_count": 44,
   "metadata": {},
   "outputs": [
    {
     "data": {
      "image/png": "[encoded data removed]",
      "text/plain": [
       "<Figure size 640x480 with 1 Axes>"
      ]
     },
     "metadata": {},
     "output_type": "display_data"
    },
    {
     "data": {
      "text/plain": [
       "<ggplot: (302810409)>"
      ]
     },
     "execution_count": 44,
     "metadata": {},
     "output_type": "execute_result"
    }
   ],
   "source": [
    "(\n",
    "    df >>\n",
    "    select(X.tourney_year, X.nb_nan) >>\n",
    "    group_by(X.tourney_year) >>\n",
    "    summarize(nan = X.nb_nan.sum()) >>\n",
    "    ggplot(aes(x='tourney_year', y='nan'))\n",
    "    + geom_line()\n",
    "    + scale_x_continuous(breaks = range(min(df['tourney_year']) - min(df['tourney_year'])%10,max(df['tourney_year'])+5, 2))\n",
    "    + theme(axis_text_x=element_text(angle=90, hjust=1))\n",
    ")"
   ]
  },
  {
   "cell_type": "markdown",
   "metadata": {},
   "source": [
    "<font color=\"purple\"><b>Les données manquantes concernent principalement les matches d'avant 1992. Pour cette raison, j'ai décidé de restreindre la période de temps du jeu de données utilisé dans la suite. La suite des analyses se fait donc avec les données du 1 er janvier 1992 au début d'année 2019.</b></font>"
   ]
  },
  {
   "cell_type": "code",
   "execution_count": 60,
   "metadata": {},
   "outputs": [],
   "source": [
    "df = df[df.tourney_year > 1991].reset_index(drop=True)"
   ]
  },
  {
   "cell_type": "code",
   "execution_count": 61,
   "metadata": {},
   "outputs": [
    {
     "data": {
      "text/plain": [
       "(89100, 51)"
      ]
     },
     "execution_count": 61,
     "metadata": {},
     "output_type": "execute_result"
    }
   ],
   "source": [
    "df.shape"
   ]
  },
  {
   "cell_type": "markdown",
   "metadata": {},
   "source": [
    "<font color=\"grey-black\">Il reste 89100 matches à étudier.</font>"
   ]
  },
  {
   "cell_type": "code",
   "execution_count": 63,
   "metadata": {},
   "outputs": [
    {
     "data": {
      "text/plain": [
       "best_of                   0\n",
       "draw_size             89100\n",
       "l_1stIn                8979\n",
       "l_1stWon               8979\n",
       "l_2ndWon               8979\n",
       "l_SvGms                8979\n",
       "l_ace                  8979\n",
       "l_bpFaced              8979\n",
       "l_bpSaved              8979\n",
       "l_df                   8979\n",
       "l_svpt                 8979\n",
       "loser_age               152\n",
       "loser_entry           71640\n",
       "loser_hand               43\n",
       "loser_ht               8527\n",
       "loser_id                  0\n",
       "loser_ioc                 0\n",
       "loser_name                0\n",
       "loser_rank             2078\n",
       "loser_rank_points      2829\n",
       "loser_seed            69521\n",
       "match_num                 0\n",
       "minutes               10291\n",
       "tourney_stage             0\n",
       "score                     2\n",
       "surface                 198\n",
       "tourney_date              0\n",
       "tourney_id                0\n",
       "tourney_level             0\n",
       "tourney_name              0\n",
       "w_1stIn                8979\n",
       "w_1stWon               8979\n",
       "w_2ndWon               8979\n",
       "w_SvGms                8979\n",
       "w_ace                  8979\n",
       "w_bpFaced              8979\n",
       "w_bpSaved              8979\n",
       "w_df                   8979\n",
       "w_svpt                 8979\n",
       "winner_age               54\n",
       "winner_entry          78672\n",
       "winner_hand              18\n",
       "winner_ht              5131\n",
       "winner_id                 0\n",
       "winner_ioc                0\n",
       "winner_name               0\n",
       "winner_rank             925\n",
       "winner_rank_points     1683\n",
       "winner_seed           53036\n",
       "tourney_year              0\n",
       "nb_nan                    0\n",
       "dtype: int64"
      ]
     },
     "execution_count": 63,
     "metadata": {},
     "output_type": "execute_result"
    }
   ],
   "source": [
    "df.isnull().sum()"
   ]
  },
  {
   "cell_type": "markdown",
   "metadata": {},
   "source": [
    "<font color=\"grey-black\">Environ 9000 matches (10% des matches dans le jeu de données) non pas de statistiques sur le déroulé du match (pourcentage de 1er service, de balle de break, du nombre d'aces, etc...). La variable `draw_size` est elle complémtement manquante dans ce nouveau jeu de données.  \n",
    "Deux options peuvent être envisagé à ce stade, et dans le temps limité: </font>\n",
    "- <font color=\"grey-black\">Tout simplement les supprimer du jeu de données, mais cela diminuerait encore le nombre de matches disponibles.</font>\n",
    "- <font color=\"grey-black\">Construire une méthode d'implémentation des données manquantes.</font>\n",
    "\n",
    "<font color=\"purple\"><b>J'opte pour cette seconde option : pour aller vite, je vais d'abord remplacer les valeurs manquantes par la médiane de la variable.</b></font>"
   ]
  },
  {
   "cell_type": "code",
   "execution_count": 64,
   "metadata": {},
   "outputs": [],
   "source": [
    "df = df.drop(['draw_size'], axis=1)"
   ]
  },
  {
   "cell_type": "code",
   "execution_count": 65,
   "metadata": {},
   "outputs": [],
   "source": [
    "df = df.fillna(df.median())"
   ]
  },
  {
   "cell_type": "markdown",
   "metadata": {},
   "source": [
    "## <font color=\"green\">COORÉLATIONS</font>"
   ]
  },
  {
   "cell_type": "code",
   "execution_count": null,
   "metadata": {},
   "outputs": [],
   "source": []
  },
  {
   "cell_type": "markdown",
   "metadata": {},
   "source": [
    "## <font color=\"green\">MACHINE LEARNING SETUP</font>"
   ]
  },
  {
   "cell_type": "markdown",
   "metadata": {},
   "source": [
    "<font color=\"grey-black\">Pour développer mes modèles, je vais construire deux jeux de données : un jeu d'entraînement et un jeu de test. Le jeu d'entraînement sert à construire les modèles de Machine Learning et les ajuster (training), et le second sert à évaluer les performances du modèle construit (testing). Les modèles seront comparés sur leur performance sur le jeu de test.  \n",
    "15% du jeu de données est reservé pour le jeu de test : 75735 matches serviront à la construction des modèles, et 13365 serviront à mesurer les performances des modèles.</font>"
   ]
  },
  {
   "cell_type": "code",
   "execution_count": 78,
   "metadata": {},
   "outputs": [],
   "source": [
    "df_train, df_test = train_test_split(df, test_size=0.15, random_state=1234)\n",
    "df_train = df_train.sort_values(['tourney_date'])\n",
    "df_test = df_test.sort_values(['tourney_date'])"
   ]
  },
  {
   "cell_type": "code",
   "execution_count": 79,
   "metadata": {},
   "outputs": [
    {
     "data": {
      "text/plain": [
       "(75735, 50)"
      ]
     },
     "execution_count": 79,
     "metadata": {},
     "output_type": "execute_result"
    }
   ],
   "source": [
    "df_train.shape"
   ]
  },
  {
   "cell_type": "code",
   "execution_count": 80,
   "metadata": {},
   "outputs": [
    {
     "data": {
      "text/plain": [
       "(13365, 50)"
      ]
     },
     "execution_count": 80,
     "metadata": {},
     "output_type": "execute_result"
    }
   ],
   "source": [
    "df_test.shape"
   ]
  },
  {
   "cell_type": "markdown",
   "metadata": {},
   "source": [
    "## <font color=\"green\">PREMIER MODÈLE : BASELINE</font>"
   ]
  },
  {
   "cell_type": "markdown",
   "metadata": {},
   "source": [
    "<font color=\"grey-black\">Je commence par développer un premier modèle simple, qui sert de baseline pour mesurer les performances d'autres modèles, plus sophistiqués. Toujours commencer par les modèles les plus simples, et si les performances sont bonnes, cela ne sert à rien de développer des modèles plus compliqués, qui seront difficiles à maintenir, à redévelopper dans un autre language si besoin, etc...</font>"
   ]
  },
  {
   "cell_type": "markdown",
   "metadata": {},
   "source": [
    "<font color=\"purple\"><b>Pour cette baseline, je construis un modèle qui prédit en tant que vainqueur, le joueur le mieux classé au classement ATP.</b></font>"
   ]
  },
  {
   "cell_type": "code",
   "execution_count": 81,
   "metadata": {},
   "outputs": [
    {
     "data": {
      "text/plain": [
       "0.6532382650029709"
      ]
     },
     "execution_count": 81,
     "metadata": {},
     "output_type": "execute_result"
    }
   ],
   "source": [
    "(df_train['winner_rank_points'] >= df_train['loser_rank_points']).sum() / df_train.shape[0]"
   ]
  },
  {
   "cell_type": "code",
   "execution_count": 82,
   "metadata": {},
   "outputs": [
    {
     "data": {
      "text/plain": [
       "0.6508043396932286"
      ]
     },
     "execution_count": 82,
     "metadata": {},
     "output_type": "execute_result"
    }
   ],
   "source": [
    "(df_test['winner_rank_points'] >= df_test['loser_rank_points']).sum() / df_test.shape[0]"
   ]
  },
  {
   "cell_type": "markdown",
   "metadata": {},
   "source": [
    "<font color=\"grey-black\">Ce premier modèle a une performance dee 65,1% de bonne prédiction sur le jeu de données test (et 65,3% sur le jeu de donnée d'entraînement).</font>"
   ]
  },
  {
   "cell_type": "markdown",
   "metadata": {},
   "source": [
    "## <font color=\"green\">DEUXIÈME MODÈLE : MACHINE LEARNING SANS FEATURE ENGINEERING</font>"
   ]
  },
  {
   "cell_type": "markdown",
   "metadata": {},
   "source": [
    "<font color=\"grey-black\">En deuxième modèle, je décide de partir sur un modèle de classification de Machine Learning. Mais pour ce premier essai, je ne crée pas de nouvelle variable et n'utilise que celle déjà présente dans le jeu de données.</font>"
   ]
  },
  {
   "cell_type": "markdown",
   "metadata": {},
   "source": [
    "<font color=\"grey-black\"><b>Mais il faut d'abord construire une cible (target) à prévoir. Ici, le joueur qui va gagner le match. On ne peut donc pas se baser sur les données du match en question (nombre de premiers services, d'aces, de balle de break, etc...) car ce sont des données disponibles après la fin du match.</b></font>"
   ]
  },
  {
   "cell_type": "markdown",
   "metadata": {},
   "source": [
    "<font color=\"purple\"><b>Je décide donc de n'utiliser que les caractéristiques \"statiques\" des joueurs (taille, classement, points ATP, main préférentielle, etc...) et celle du match (surface, nombre de sets maximum à disputer, ...).</b></font>"
   ]
  },
  {
   "cell_type": "markdown",
   "metadata": {},
   "source": [
    "<font color=\"grey-black\"><b>Et pour construire ma target, je construis un nouveau jeu de données à partir des données que j'ai : deux joueurs s'affrontent, J1 vs J2. Et la variable à modéliser vaut 1 si le joueur 1 a gagné, et 2 si c'est le joueur 2. Et cette variable est construite de pour avoir environ 50% de J1 vainqueur et 50% de J2 vainqueur.</b></font>"
   ]
  },
  {
   "cell_type": "code",
   "execution_count": 143,
   "metadata": {},
   "outputs": [],
   "source": [
    "# select statics columns\n",
    "train = df[[\n",
    "    'best_of', 'match_num', 'tourney_stage', 'surface', 'tourney_date',\n",
    "    'tourney_id', 'tourney_level', 'tourney_name', 'tourney_year',\n",
    "    'loser_age', 'loser_hand', 'loser_ht', 'loser_id',\n",
    "    'loser_ioc', 'loser_name', 'loser_rank', 'loser_rank_points', 'loser_seed',\n",
    "    'winner_age', 'winner_hand', 'winner_ht', 'winner_id',\n",
    "    'winner_ioc', 'winner_name', 'winner_rank', 'winner_rank_points', 'winner_seed',\n",
    "           ]]"
   ]
  },
  {
   "cell_type": "code",
   "execution_count": 144,
   "metadata": {},
   "outputs": [],
   "source": [
    "# split the data: train1 will have J1 as winner and train2 will have J2 as winner\n",
    "train1, train2 = train_test_split(train, test_size=0.5, random_state=1234)"
   ]
  },
  {
   "cell_type": "code",
   "execution_count": 145,
   "metadata": {},
   "outputs": [],
   "source": [
    "def rename_column(data, winner):\n",
    "    \"\"\"\n",
    "    Renommer les colonnes du dataframe pour avoir J1 ou J2 en tant que gagnant\n",
    "    Et ajouter le nom du gagnant (1 ou 2)\n",
    "    \n",
    "    Parameters:\n",
    "    -----------\n",
    "    data (pandas DataFrame): \n",
    "    winner (Int): J1 ou J2 en tant que gagnant voulu\n",
    "    \n",
    "    Return:\n",
    "    -------\n",
    "    dataframe (pandas DataFrame): nouveau dataframe avec des colonnes renommees et une colonne cible a modeliser/predire\n",
    "    \"\"\"\n",
    "    \n",
    "    if type(data) != pd.DataFrame:\n",
    "        raise ValueError('Parameter data expected to be a pandas DataFrame ; get type(data)={}'.format(type(data)))\n",
    "    \n",
    "    for col in data.columns:\n",
    "        if winner == 1:\n",
    "            data = data.rename({col: col.replace('winner', 'j1')}, axis='columns')\n",
    "            data = data.rename({col: col.replace('loser', 'j2')}, axis='columns')\n",
    "        elif winner == 2:\n",
    "            data = data.rename({col: col.replace('winner', 'j2')}, axis='columns')\n",
    "            data = data.rename({col: col.replace('loser', 'j1')}, axis='columns')\n",
    "        else:\n",
    "            raise ValueError('Parameter winner expected to be 1 or 2 ; get winner={}'.format(winner))\n",
    "    \n",
    "    data['winner'] = winner\n",
    "    \n",
    "    return data"
   ]
  },
  {
   "cell_type": "code",
   "execution_count": 146,
   "metadata": {},
   "outputs": [],
   "source": [
    "train1 = rename_column(data=train1, winner=1)\n",
    "train2 = rename_column(data=train2, winner=2)"
   ]
  },
  {
   "cell_type": "code",
   "execution_count": 147,
   "metadata": {},
   "outputs": [
    {
     "data": {
      "text/html": [
       "<div>\n",
       "<style scoped>\n",
       "    .dataframe tbody tr th:only-of-type {\n",
       "        vertical-align: middle;\n",
       "    }\n",
       "\n",
       "    .dataframe tbody tr th {\n",
       "        vertical-align: top;\n",
       "    }\n",
       "\n",
       "    .dataframe thead th {\n",
       "        text-align: right;\n",
       "    }\n",
       "</style>\n",
       "<table border=\"1\" class=\"dataframe\">\n",
       "  <thead>\n",
       "    <tr style=\"text-align: right;\">\n",
       "      <th></th>\n",
       "      <th>best_of</th>\n",
       "      <th>match_num</th>\n",
       "      <th>tourney_stage</th>\n",
       "      <th>surface</th>\n",
       "      <th>tourney_date</th>\n",
       "      <th>tourney_id</th>\n",
       "      <th>tourney_level</th>\n",
       "      <th>tourney_name</th>\n",
       "      <th>tourney_year</th>\n",
       "      <th>j2_age</th>\n",
       "      <th>j2_hand</th>\n",
       "      <th>j2_ht</th>\n",
       "      <th>j2_id</th>\n",
       "      <th>j2_ioc</th>\n",
       "      <th>j2_name</th>\n",
       "      <th>j2_rank</th>\n",
       "      <th>j2_rank_points</th>\n",
       "      <th>j2_seed</th>\n",
       "      <th>j1_age</th>\n",
       "      <th>j1_hand</th>\n",
       "      <th>j1_ht</th>\n",
       "      <th>j1_id</th>\n",
       "      <th>j1_ioc</th>\n",
       "      <th>j1_name</th>\n",
       "      <th>j1_rank</th>\n",
       "      <th>j1_rank_points</th>\n",
       "      <th>j1_seed</th>\n",
       "      <th>winner</th>\n",
       "    </tr>\n",
       "  </thead>\n",
       "  <tbody>\n",
       "    <tr>\n",
       "      <th>72487</th>\n",
       "      <td>5</td>\n",
       "      <td>104</td>\n",
       "      <td>R32</td>\n",
       "      <td>Clay</td>\n",
       "      <td>2013-05-27</td>\n",
       "      <td>2013-520</td>\n",
       "      <td>G</td>\n",
       "      <td>Roland Garros</td>\n",
       "      <td>2013</td>\n",
       "      <td>31.98</td>\n",
       "      <td>R</td>\n",
       "      <td>178.0</td>\n",
       "      <td>103786</td>\n",
       "      <td>RUS</td>\n",
       "      <td>Nikolay Davydenko</td>\n",
       "      <td>48.0</td>\n",
       "      <td>870.0</td>\n",
       "      <td>6.0</td>\n",
       "      <td>26.94</td>\n",
       "      <td>R</td>\n",
       "      <td>185.0</td>\n",
       "      <td>104755</td>\n",
       "      <td>FRA</td>\n",
       "      <td>Richard Gasquet</td>\n",
       "      <td>9.0</td>\n",
       "      <td>3090.0</td>\n",
       "      <td>7.0</td>\n",
       "      <td>1</td>\n",
       "    </tr>\n",
       "    <tr>\n",
       "      <th>37516</th>\n",
       "      <td>3</td>\n",
       "      <td>28</td>\n",
       "      <td>R32</td>\n",
       "      <td>Clay</td>\n",
       "      <td>2002-04-22</td>\n",
       "      <td>2002-425</td>\n",
       "      <td>A</td>\n",
       "      <td>Barcelona</td>\n",
       "      <td>2002</td>\n",
       "      <td>25.60</td>\n",
       "      <td>R</td>\n",
       "      <td>183.0</td>\n",
       "      <td>102860</td>\n",
       "      <td>ARG</td>\n",
       "      <td>Agustin Calleri</td>\n",
       "      <td>60.0</td>\n",
       "      <td>678.0</td>\n",
       "      <td>6.0</td>\n",
       "      <td>30.61</td>\n",
       "      <td>R</td>\n",
       "      <td>193.0</td>\n",
       "      <td>101962</td>\n",
       "      <td>MAR</td>\n",
       "      <td>Younes El Aynaoui</td>\n",
       "      <td>19.0</td>\n",
       "      <td>1503.0</td>\n",
       "      <td>6.0</td>\n",
       "      <td>1</td>\n",
       "    </tr>\n",
       "    <tr>\n",
       "      <th>30037</th>\n",
       "      <td>3</td>\n",
       "      <td>5</td>\n",
       "      <td>RR</td>\n",
       "      <td>Hard</td>\n",
       "      <td>2000-02-04</td>\n",
       "      <td>2000-D082</td>\n",
       "      <td>D</td>\n",
       "      <td>Davis Cup G2 QF: VEN vs URU</td>\n",
       "      <td>2000</td>\n",
       "      <td>22.97</td>\n",
       "      <td>R</td>\n",
       "      <td>185.0</td>\n",
       "      <td>102938</td>\n",
       "      <td>URU</td>\n",
       "      <td>Alejandro Olivera</td>\n",
       "      <td>794.0</td>\n",
       "      <td>11.0</td>\n",
       "      <td>6.0</td>\n",
       "      <td>21.18</td>\n",
       "      <td>R</td>\n",
       "      <td>185.0</td>\n",
       "      <td>103286</td>\n",
       "      <td>VEN</td>\n",
       "      <td>Yohny Romero</td>\n",
       "      <td>554.0</td>\n",
       "      <td>32.0</td>\n",
       "      <td>5.0</td>\n",
       "      <td>1</td>\n",
       "    </tr>\n",
       "    <tr>\n",
       "      <th>87495</th>\n",
       "      <td>3</td>\n",
       "      <td>276</td>\n",
       "      <td>R32</td>\n",
       "      <td>Hard</td>\n",
       "      <td>2018-07-23</td>\n",
       "      <td>2018-6116</td>\n",
       "      <td>A</td>\n",
       "      <td>Atlanta</td>\n",
       "      <td>2018</td>\n",
       "      <td>28.69</td>\n",
       "      <td>L</td>\n",
       "      <td>185.0</td>\n",
       "      <td>105432</td>\n",
       "      <td>IND</td>\n",
       "      <td>Prajnesh Gunneswaran</td>\n",
       "      <td>186.0</td>\n",
       "      <td>308.0</td>\n",
       "      <td>6.0</td>\n",
       "      <td>30.72</td>\n",
       "      <td>R</td>\n",
       "      <td>185.0</td>\n",
       "      <td>105041</td>\n",
       "      <td>SVK</td>\n",
       "      <td>Lukas Lacko</td>\n",
       "      <td>71.0</td>\n",
       "      <td>771.0</td>\n",
       "      <td>5.0</td>\n",
       "      <td>1</td>\n",
       "    </tr>\n",
       "    <tr>\n",
       "      <th>29858</th>\n",
       "      <td>5</td>\n",
       "      <td>34</td>\n",
       "      <td>R128</td>\n",
       "      <td>Hard</td>\n",
       "      <td>2000-01-17</td>\n",
       "      <td>2000-580</td>\n",
       "      <td>G</td>\n",
       "      <td>Australian Open</td>\n",
       "      <td>2000</td>\n",
       "      <td>25.50</td>\n",
       "      <td>R</td>\n",
       "      <td>183.0</td>\n",
       "      <td>102434</td>\n",
       "      <td>USA</td>\n",
       "      <td>Vincent Spadea</td>\n",
       "      <td>21.0</td>\n",
       "      <td>1245.0</td>\n",
       "      <td>6.0</td>\n",
       "      <td>25.45</td>\n",
       "      <td>R</td>\n",
       "      <td>185.0</td>\n",
       "      <td>102437</td>\n",
       "      <td>ROU</td>\n",
       "      <td>Adrian Voinea</td>\n",
       "      <td>95.0</td>\n",
       "      <td>420.0</td>\n",
       "      <td>5.0</td>\n",
       "      <td>1</td>\n",
       "    </tr>\n",
       "  </tbody>\n",
       "</table>\n",
       "</div>"
      ],
      "text/plain": [
       "       best_of  match_num tourney_stage surface tourney_date tourney_id  \\\n",
       "72487        5        104           R32    Clay   2013-05-27   2013-520   \n",
       "37516        3         28           R32    Clay   2002-04-22   2002-425   \n",
       "30037        3          5            RR    Hard   2000-02-04  2000-D082   \n",
       "87495        3        276           R32    Hard   2018-07-23  2018-6116   \n",
       "29858        5         34          R128    Hard   2000-01-17   2000-580   \n",
       "\n",
       "      tourney_level                 tourney_name  tourney_year  j2_age  \\\n",
       "72487             G                Roland Garros          2013   31.98   \n",
       "37516             A                    Barcelona          2002   25.60   \n",
       "30037             D  Davis Cup G2 QF: VEN vs URU          2000   22.97   \n",
       "87495             A                      Atlanta          2018   28.69   \n",
       "29858             G              Australian Open          2000   25.50   \n",
       "\n",
       "      j2_hand  j2_ht   j2_id j2_ioc               j2_name  j2_rank  \\\n",
       "72487       R  178.0  103786    RUS     Nikolay Davydenko     48.0   \n",
       "37516       R  183.0  102860    ARG       Agustin Calleri     60.0   \n",
       "30037       R  185.0  102938    URU     Alejandro Olivera    794.0   \n",
       "87495       L  185.0  105432    IND  Prajnesh Gunneswaran    186.0   \n",
       "29858       R  183.0  102434    USA        Vincent Spadea     21.0   \n",
       "\n",
       "       j2_rank_points  j2_seed  j1_age j1_hand  j1_ht   j1_id j1_ioc  \\\n",
       "72487           870.0      6.0   26.94       R  185.0  104755    FRA   \n",
       "37516           678.0      6.0   30.61       R  193.0  101962    MAR   \n",
       "30037            11.0      6.0   21.18       R  185.0  103286    VEN   \n",
       "87495           308.0      6.0   30.72       R  185.0  105041    SVK   \n",
       "29858          1245.0      6.0   25.45       R  185.0  102437    ROU   \n",
       "\n",
       "                 j1_name  j1_rank  j1_rank_points  j1_seed  winner  \n",
       "72487    Richard Gasquet      9.0          3090.0      7.0       1  \n",
       "37516  Younes El Aynaoui     19.0          1503.0      6.0       1  \n",
       "30037       Yohny Romero    554.0            32.0      5.0       1  \n",
       "87495        Lukas Lacko     71.0           771.0      5.0       1  \n",
       "29858      Adrian Voinea     95.0           420.0      5.0       1  "
      ]
     },
     "execution_count": 147,
     "metadata": {},
     "output_type": "execute_result"
    }
   ],
   "source": [
    "train1.head()"
   ]
  },
  {
   "cell_type": "code",
   "execution_count": 176,
   "metadata": {},
   "outputs": [],
   "source": [
    "train = pd.concat([train1, train2]).sample(frac=1, random_state=1234).reset_index(drop=True)"
   ]
  },
  {
   "cell_type": "code",
   "execution_count": 177,
   "metadata": {},
   "outputs": [],
   "source": [
    "X = train.drop(['winner'], axis='columns')\n",
    "y = train['winner']"
   ]
  },
  {
   "cell_type": "code",
   "execution_count": 178,
   "metadata": {},
   "outputs": [
    {
     "data": {
      "text/html": [
       "<div>\n",
       "<style scoped>\n",
       "    .dataframe tbody tr th:only-of-type {\n",
       "        vertical-align: middle;\n",
       "    }\n",
       "\n",
       "    .dataframe tbody tr th {\n",
       "        vertical-align: top;\n",
       "    }\n",
       "\n",
       "    .dataframe thead th {\n",
       "        text-align: right;\n",
       "    }\n",
       "</style>\n",
       "<table border=\"1\" class=\"dataframe\">\n",
       "  <thead>\n",
       "    <tr style=\"text-align: right;\">\n",
       "      <th></th>\n",
       "      <th>best_of</th>\n",
       "      <th>match_num</th>\n",
       "      <th>tourney_stage</th>\n",
       "      <th>surface</th>\n",
       "      <th>tourney_date</th>\n",
       "      <th>tourney_id</th>\n",
       "      <th>tourney_level</th>\n",
       "      <th>tourney_name</th>\n",
       "      <th>tourney_year</th>\n",
       "      <th>j2_age</th>\n",
       "      <th>j2_hand</th>\n",
       "      <th>j2_ht</th>\n",
       "      <th>j2_id</th>\n",
       "      <th>j2_ioc</th>\n",
       "      <th>j2_name</th>\n",
       "      <th>j2_rank</th>\n",
       "      <th>j2_rank_points</th>\n",
       "      <th>j2_seed</th>\n",
       "      <th>j1_age</th>\n",
       "      <th>j1_hand</th>\n",
       "      <th>j1_ht</th>\n",
       "      <th>j1_id</th>\n",
       "      <th>j1_ioc</th>\n",
       "      <th>j1_name</th>\n",
       "      <th>j1_rank</th>\n",
       "      <th>j1_rank_points</th>\n",
       "      <th>j1_seed</th>\n",
       "    </tr>\n",
       "  </thead>\n",
       "  <tbody>\n",
       "    <tr>\n",
       "      <th>0</th>\n",
       "      <td>3</td>\n",
       "      <td>26</td>\n",
       "      <td>QF</td>\n",
       "      <td>Hard</td>\n",
       "      <td>2008-02-18</td>\n",
       "      <td>2008-407</td>\n",
       "      <td>A</td>\n",
       "      <td>Rotterdam</td>\n",
       "      <td>2008</td>\n",
       "      <td>23.14</td>\n",
       "      <td>R</td>\n",
       "      <td>183.0</td>\n",
       "      <td>104468</td>\n",
       "      <td>FRA</td>\n",
       "      <td>Gilles Simon</td>\n",
       "      <td>36.0</td>\n",
       "      <td>875.0</td>\n",
       "      <td>5.0</td>\n",
       "      <td>22.74</td>\n",
       "      <td>R</td>\n",
       "      <td>188.0</td>\n",
       "      <td>104559</td>\n",
       "      <td>RUS</td>\n",
       "      <td>Teymuraz Gabashvili</td>\n",
       "      <td>132.0</td>\n",
       "      <td>339.0</td>\n",
       "      <td>6.0</td>\n",
       "    </tr>\n",
       "    <tr>\n",
       "      <th>1</th>\n",
       "      <td>3</td>\n",
       "      <td>39</td>\n",
       "      <td>R32</td>\n",
       "      <td>Hard</td>\n",
       "      <td>1997-07-14</td>\n",
       "      <td>1997-418</td>\n",
       "      <td>A</td>\n",
       "      <td>Washington</td>\n",
       "      <td>1997</td>\n",
       "      <td>26.38</td>\n",
       "      <td>R</td>\n",
       "      <td>188.0</td>\n",
       "      <td>101864</td>\n",
       "      <td>NED</td>\n",
       "      <td>Fernon Wibier</td>\n",
       "      <td>131.0</td>\n",
       "      <td>337.0</td>\n",
       "      <td>16.0</td>\n",
       "      <td>25.53</td>\n",
       "      <td>R</td>\n",
       "      <td>180.0</td>\n",
       "      <td>102002</td>\n",
       "      <td>ITA</td>\n",
       "      <td>Davide Scala</td>\n",
       "      <td>135.0</td>\n",
       "      <td>323.0</td>\n",
       "      <td>6.0</td>\n",
       "    </tr>\n",
       "    <tr>\n",
       "      <th>2</th>\n",
       "      <td>3</td>\n",
       "      <td>13</td>\n",
       "      <td>R64</td>\n",
       "      <td>Clay</td>\n",
       "      <td>2013-04-14</td>\n",
       "      <td>2013-410</td>\n",
       "      <td>M</td>\n",
       "      <td>Monte Carlo Masters</td>\n",
       "      <td>2013</td>\n",
       "      <td>21.91</td>\n",
       "      <td>R</td>\n",
       "      <td>188.0</td>\n",
       "      <td>105777</td>\n",
       "      <td>BUL</td>\n",
       "      <td>Grigor Dimitrov</td>\n",
       "      <td>34.0</td>\n",
       "      <td>1112.0</td>\n",
       "      <td>5.0</td>\n",
       "      <td>32.74</td>\n",
       "      <td>R</td>\n",
       "      <td>185.0</td>\n",
       "      <td>103598</td>\n",
       "      <td>BEL</td>\n",
       "      <td>Xavier Malisse</td>\n",
       "      <td>53.0</td>\n",
       "      <td>831.0</td>\n",
       "      <td>6.0</td>\n",
       "    </tr>\n",
       "    <tr>\n",
       "      <th>3</th>\n",
       "      <td>3</td>\n",
       "      <td>12</td>\n",
       "      <td>R32</td>\n",
       "      <td>Carpet</td>\n",
       "      <td>2004-02-09</td>\n",
       "      <td>2004-408</td>\n",
       "      <td>A</td>\n",
       "      <td>Milan</td>\n",
       "      <td>2004</td>\n",
       "      <td>22.39</td>\n",
       "      <td>L</td>\n",
       "      <td>188.0</td>\n",
       "      <td>103852</td>\n",
       "      <td>ESP</td>\n",
       "      <td>Feliciano Lopez</td>\n",
       "      <td>33.0</td>\n",
       "      <td>1040.0</td>\n",
       "      <td>4.0</td>\n",
       "      <td>30.96</td>\n",
       "      <td>R</td>\n",
       "      <td>185.0</td>\n",
       "      <td>102179</td>\n",
       "      <td>FRA</td>\n",
       "      <td>Antony Dupuis</td>\n",
       "      <td>97.0</td>\n",
       "      <td>397.0</td>\n",
       "      <td>5.0</td>\n",
       "    </tr>\n",
       "    <tr>\n",
       "      <th>4</th>\n",
       "      <td>3</td>\n",
       "      <td>22</td>\n",
       "      <td>R32</td>\n",
       "      <td>Hard</td>\n",
       "      <td>2000-02-14</td>\n",
       "      <td>2000-402</td>\n",
       "      <td>A</td>\n",
       "      <td>Memphis</td>\n",
       "      <td>2000</td>\n",
       "      <td>27.47</td>\n",
       "      <td>R</td>\n",
       "      <td>188.0</td>\n",
       "      <td>102106</td>\n",
       "      <td>ITA</td>\n",
       "      <td>Davide Sanguinetti</td>\n",
       "      <td>113.0</td>\n",
       "      <td>351.0</td>\n",
       "      <td>6.0</td>\n",
       "      <td>29.80</td>\n",
       "      <td>R</td>\n",
       "      <td>196.0</td>\n",
       "      <td>101735</td>\n",
       "      <td>AUS</td>\n",
       "      <td>Richard Fromberg</td>\n",
       "      <td>70.0</td>\n",
       "      <td>557.0</td>\n",
       "      <td>14.0</td>\n",
       "    </tr>\n",
       "  </tbody>\n",
       "</table>\n",
       "</div>"
      ],
      "text/plain": [
       "   best_of  match_num tourney_stage surface tourney_date tourney_id  \\\n",
       "0        3         26            QF    Hard   2008-02-18   2008-407   \n",
       "1        3         39           R32    Hard   1997-07-14   1997-418   \n",
       "2        3         13           R64    Clay   2013-04-14   2013-410   \n",
       "3        3         12           R32  Carpet   2004-02-09   2004-408   \n",
       "4        3         22           R32    Hard   2000-02-14   2000-402   \n",
       "\n",
       "  tourney_level         tourney_name  tourney_year  j2_age j2_hand  j2_ht  \\\n",
       "0             A            Rotterdam          2008   23.14       R  183.0   \n",
       "1             A           Washington          1997   26.38       R  188.0   \n",
       "2             M  Monte Carlo Masters          2013   21.91       R  188.0   \n",
       "3             A                Milan          2004   22.39       L  188.0   \n",
       "4             A              Memphis          2000   27.47       R  188.0   \n",
       "\n",
       "    j2_id j2_ioc             j2_name  j2_rank  j2_rank_points  j2_seed  \\\n",
       "0  104468    FRA        Gilles Simon     36.0           875.0      5.0   \n",
       "1  101864    NED       Fernon Wibier    131.0           337.0     16.0   \n",
       "2  105777    BUL     Grigor Dimitrov     34.0          1112.0      5.0   \n",
       "3  103852    ESP     Feliciano Lopez     33.0          1040.0      4.0   \n",
       "4  102106    ITA  Davide Sanguinetti    113.0           351.0      6.0   \n",
       "\n",
       "   j1_age j1_hand  j1_ht   j1_id j1_ioc              j1_name  j1_rank  \\\n",
       "0   22.74       R  188.0  104559    RUS  Teymuraz Gabashvili    132.0   \n",
       "1   25.53       R  180.0  102002    ITA         Davide Scala    135.0   \n",
       "2   32.74       R  185.0  103598    BEL       Xavier Malisse     53.0   \n",
       "3   30.96       R  185.0  102179    FRA        Antony Dupuis     97.0   \n",
       "4   29.80       R  196.0  101735    AUS     Richard Fromberg     70.0   \n",
       "\n",
       "   j1_rank_points  j1_seed  \n",
       "0           339.0      6.0  \n",
       "1           323.0      6.0  \n",
       "2           831.0      6.0  \n",
       "3           397.0      5.0  \n",
       "4           557.0     14.0  "
      ]
     },
     "execution_count": 178,
     "metadata": {},
     "output_type": "execute_result"
    }
   ],
   "source": [
    "X.head()"
   ]
  },
  {
   "cell_type": "markdown",
   "metadata": {},
   "source": [
    "<font color=\"grey-black\">Pour entraîner notre modèle, il faut supprimer certaines colonnes qui ne doivent pas avoir d'influence sur notre prédiction comme l'ID attribué au joueur car cette attribution est arbritaire.</font>"
   ]
  },
  {
   "cell_type": "code",
   "execution_count": 179,
   "metadata": {},
   "outputs": [],
   "source": [
    "X = X.drop([\n",
    "    'match_num', 'tourney_date', 'tourney_id', 'tourney_name', 'tourney_year',\n",
    "    'j2_id', 'j1_id'],\n",
    "    axis='columns')"
   ]
  },
  {
   "cell_type": "markdown",
   "metadata": {},
   "source": [
    "<font color=\"grey-black\">Maintenant il faut processer les colonnes catégorielles.  \n",
    "    <b>Pour aller plus vite et gagner du temps, je traite les colonnes catégorielles avec la fonction [`LabelEncode` du package scikit-learn](https://scikit-learn.org/stable/modules/generated/sklearn.preprocessing.LabelEncoder.html).</b></font>"
   ]
  },
  {
   "cell_type": "code",
   "execution_count": 187,
   "metadata": {},
   "outputs": [],
   "source": [
    "le = LabelEncoder()\n",
    "\n",
    "X['tourney_stage'] = le.fit_transform(X['tourney_stage'].astype(str))\n",
    "X['surface'] = le.fit_transform(X['surface'].astype(str))\n",
    "X['tourney_level'] = le.fit_transform(X['tourney_level'].astype(str))\n",
    "X['j2_hand'] = le.fit_transform(X['j2_hand'].astype(str))\n",
    "X['j2_ioc'] = le.fit_transform(X['j2_ioc'].astype(str))\n",
    "X['j2_name'] = le.fit_transform(X['j2_name'].astype(str))\n",
    "X['j1_hand'] = le.fit_transform(X['j1_hand'].astype(str))\n",
    "X['j1_ioc'] = le.fit_transform(X['j1_ioc'].astype(str))\n",
    "X['j1_name'] = le.fit_transform(X['j1_name'].astype(str))"
   ]
  },
  {
   "cell_type": "code",
   "execution_count": null,
   "metadata": {},
   "outputs": [],
   "source": []
  },
  {
   "cell_type": "markdown",
   "metadata": {},
   "source": [
    "# <font color=\"orange\">POUR ALLER PLUS LOIN...</font>"
   ]
  },
  {
   "cell_type": "markdown",
   "metadata": {},
   "source": [
    "<font color=\"grey-black\">Ce travail a été fait en un temps limité (8 heures). Mais beaucoup de travail reste à faire avant de trouver le meilleur modèle possible de prédiction de l'issue d'un match de tennis. Je liste ici l'ensemble des tâches incomplètes ou non faites par manque de temps mais qui sont importantes dans une démarche d'analyse de données et de construction d'un modèle de prédiction.</font>"
   ]
  },
  {
   "cell_type": "markdown",
   "metadata": {},
   "source": [
    "- [ ] <font color=\"grey-black\">Regarder l'ensemble des distributions des variables quantitatives et qualitatives</font>\n",
    "- [ ] <font color=\"grey-black\">Analyser les influences et les corrélations de l'ensemble des variables quantitatives et qualitatives sur l'issue d'un match</font>\n",
    "- [ ] <font color=\"grey-black\">Essayer de transformer les variables pour se rapprocher d'une distribution normale pour les varioables quantitatives et d'une distribution équilibrée pour les variables qualitatives (pour se rapprocher des distributions théoriques idéales pour l'utilisation de modèle de machine learning et avoir de meilleures performances des modèles)</font>\n",
    "- [ ] <font color=\"grey-black\">Construire une meilleure implémentation des valeurs manquantes (knn, kmeans, ...)</font>\n",
    "- [ ] <font color=\"grey-black\">Analyser l'influence sur les distributions et sur les résultats des modèles des différentes stratégie des implémentations des valeurs manquantes</font>\n",
    "- [ ] <font color=\"grey-black\">Mieux traiter les colonnes catégorielles et tester plusieurs méthodes (one hot encoding, Cat2Vec, ...)</font>\n",
    "- [ ] <font color=\"grey-black\"></font>\n",
    "- [ ] <font color=\"grey-black\"></font>\n",
    "- [ ] <font color=\"grey-black\"></font>\n",
    "- [ ] <font color=\"grey-black\"></font>\n",
    "- [ ] <font color=\"grey-black\"></font>\n",
    "- [ ] <font color=\"grey-black\"></font>\n",
    "- [ ] <font color=\"grey-black\"></font>\n",
    "- [ ] <font color=\"grey-black\"></font>\n",
    "- [ ] <font color=\"grey-black\"></font>\n",
    "- [ ] <font color=\"grey-black\"></font>\n",
    "- [ ] <font color=\"grey-black\"></font>"
   ]
  },
  {
   "cell_type": "code",
   "execution_count": null,
   "metadata": {},
   "outputs": [],
   "source": []
  }
 ],
 "metadata": {
  "kernelspec": {
   "display_name": "Python 3",
   "language": "python",
   "name": "python3"
  },
  "language_info": {
   "codemirror_mode": {
    "name": "ipython",
    "version": 3
   },
   "file_extension": ".py",
   "mimetype": "text/x-python",
   "name": "python",
   "nbconvert_exporter": "python",
   "pygments_lexer": "ipython3",
   "version": "3.7.7"
  }
 },
 "nbformat": 4,
 "nbformat_minor": 4
}
